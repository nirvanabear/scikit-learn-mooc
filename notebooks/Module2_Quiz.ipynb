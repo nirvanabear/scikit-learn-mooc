{
 "cells": [
  {
   "cell_type": "markdown",
   "id": "c231401d-5f25-4b36-847a-9cefe2d147c2",
   "metadata": {},
   "source": [
    "Open the dataset blood_transfusion.csv with the following command:"
   ]
  },
  {
   "cell_type": "code",
   "execution_count": 1,
   "id": "dbd1a7b6-77e3-4a3b-a2bb-99c4f091198c",
   "metadata": {},
   "outputs": [],
   "source": [
    "import pandas as pd\n",
    "\n",
    "blood_transfusion = pd.read_csv(\"../datasets/blood_transfusion.csv\")\n",
    "target_name = \"Class\"\n",
    "data = blood_transfusion.drop(columns=target_name)\n",
    "target = blood_transfusion[target_name]"
   ]
  },
  {
   "cell_type": "markdown",
   "id": "5caabd12-c6ea-4044-9ddd-d428de7d34cf",
   "metadata": {},
   "source": [
    "blood_transfusion is a pandas dataframe. The column \"Class\" contains the target variable.\n",
    "# Question 1 \n",
    "(1/1 point)\n",
    "\n",
    "Select the correct answers from the following proposals.\n",
    "a) The problem to be solved is a regression problem\n",
    "b) The problem to be solved is a binary classification problem (exactly 2 possible classes)\n",
    "c) The problem to be solved is a multiclass classification problem (more than 2 possible classes)\n",
    "d) The proportions of the class counts are imbalanced: some classes have more than twice as many rows than others "
   ]
  },
  {
   "cell_type": "code",
   "execution_count": 2,
   "id": "66a915fb-9fe5-435b-a4ba-e26fa320fce7",
   "metadata": {},
   "outputs": [
    {
     "data": {
      "text/html": [
       "<div>\n",
       "<style scoped>\n",
       "    .dataframe tbody tr th:only-of-type {\n",
       "        vertical-align: middle;\n",
       "    }\n",
       "\n",
       "    .dataframe tbody tr th {\n",
       "        vertical-align: top;\n",
       "    }\n",
       "\n",
       "    .dataframe thead th {\n",
       "        text-align: right;\n",
       "    }\n",
       "</style>\n",
       "<table border=\"1\" class=\"dataframe\">\n",
       "  <thead>\n",
       "    <tr style=\"text-align: right;\">\n",
       "      <th></th>\n",
       "      <th>Recency</th>\n",
       "      <th>Frequency</th>\n",
       "      <th>Monetary</th>\n",
       "      <th>Time</th>\n",
       "    </tr>\n",
       "  </thead>\n",
       "  <tbody>\n",
       "    <tr>\n",
       "      <th>0</th>\n",
       "      <td>2</td>\n",
       "      <td>50</td>\n",
       "      <td>12500</td>\n",
       "      <td>98</td>\n",
       "    </tr>\n",
       "    <tr>\n",
       "      <th>1</th>\n",
       "      <td>0</td>\n",
       "      <td>13</td>\n",
       "      <td>3250</td>\n",
       "      <td>28</td>\n",
       "    </tr>\n",
       "    <tr>\n",
       "      <th>2</th>\n",
       "      <td>1</td>\n",
       "      <td>16</td>\n",
       "      <td>4000</td>\n",
       "      <td>35</td>\n",
       "    </tr>\n",
       "    <tr>\n",
       "      <th>3</th>\n",
       "      <td>2</td>\n",
       "      <td>20</td>\n",
       "      <td>5000</td>\n",
       "      <td>45</td>\n",
       "    </tr>\n",
       "    <tr>\n",
       "      <th>4</th>\n",
       "      <td>1</td>\n",
       "      <td>24</td>\n",
       "      <td>6000</td>\n",
       "      <td>77</td>\n",
       "    </tr>\n",
       "    <tr>\n",
       "      <th>...</th>\n",
       "      <td>...</td>\n",
       "      <td>...</td>\n",
       "      <td>...</td>\n",
       "      <td>...</td>\n",
       "    </tr>\n",
       "    <tr>\n",
       "      <th>743</th>\n",
       "      <td>23</td>\n",
       "      <td>2</td>\n",
       "      <td>500</td>\n",
       "      <td>38</td>\n",
       "    </tr>\n",
       "    <tr>\n",
       "      <th>744</th>\n",
       "      <td>21</td>\n",
       "      <td>2</td>\n",
       "      <td>500</td>\n",
       "      <td>52</td>\n",
       "    </tr>\n",
       "    <tr>\n",
       "      <th>745</th>\n",
       "      <td>23</td>\n",
       "      <td>3</td>\n",
       "      <td>750</td>\n",
       "      <td>62</td>\n",
       "    </tr>\n",
       "    <tr>\n",
       "      <th>746</th>\n",
       "      <td>39</td>\n",
       "      <td>1</td>\n",
       "      <td>250</td>\n",
       "      <td>39</td>\n",
       "    </tr>\n",
       "    <tr>\n",
       "      <th>747</th>\n",
       "      <td>72</td>\n",
       "      <td>1</td>\n",
       "      <td>250</td>\n",
       "      <td>72</td>\n",
       "    </tr>\n",
       "  </tbody>\n",
       "</table>\n",
       "<p>748 rows × 4 columns</p>\n",
       "</div>"
      ],
      "text/plain": [
       "     Recency  Frequency  Monetary  Time\n",
       "0          2         50     12500    98\n",
       "1          0         13      3250    28\n",
       "2          1         16      4000    35\n",
       "3          2         20      5000    45\n",
       "4          1         24      6000    77\n",
       "..       ...        ...       ...   ...\n",
       "743       23          2       500    38\n",
       "744       21          2       500    52\n",
       "745       23          3       750    62\n",
       "746       39          1       250    39\n",
       "747       72          1       250    72\n",
       "\n",
       "[748 rows x 4 columns]"
      ]
     },
     "execution_count": 2,
     "metadata": {},
     "output_type": "execute_result"
    }
   ],
   "source": [
    "data"
   ]
  },
  {
   "cell_type": "code",
   "execution_count": 3,
   "id": "ee6934d2-8219-4521-9f29-68a10f04e3ba",
   "metadata": {},
   "outputs": [
    {
     "data": {
      "text/plain": [
       "0          donated\n",
       "1          donated\n",
       "2          donated\n",
       "3          donated\n",
       "4      not donated\n",
       "          ...     \n",
       "743    not donated\n",
       "744    not donated\n",
       "745    not donated\n",
       "746    not donated\n",
       "747    not donated\n",
       "Name: Class, Length: 748, dtype: object"
      ]
     },
     "execution_count": 3,
     "metadata": {},
     "output_type": "execute_result"
    }
   ],
   "source": [
    "target"
   ]
  },
  {
   "cell_type": "code",
   "execution_count": 7,
   "id": "875a9e23-7241-457e-a9a9-09317de3c032",
   "metadata": {},
   "outputs": [
    {
     "data": {
      "text/plain": [
       "donated        178\n",
       "not donated    570\n",
       "Name: Class, dtype: int64"
      ]
     },
     "execution_count": 7,
     "metadata": {},
     "output_type": "execute_result"
    }
   ],
   "source": [
    "target.value_counts().sort_index()"
   ]
  },
  {
   "cell_type": "code",
   "execution_count": 8,
   "id": "e0fb7764-9c62-4b96-a44f-e32eb75d762a",
   "metadata": {},
   "outputs": [
    {
     "data": {
      "text/plain": [
       "array(['donated', 'not donated'], dtype=object)"
      ]
     },
     "execution_count": 8,
     "metadata": {},
     "output_type": "execute_result"
    }
   ],
   "source": [
    "target.unique()"
   ]
  },
  {
   "cell_type": "markdown",
   "id": "7cf388e7-ffe2-42e3-a90c-27d594dc5611",
   "metadata": {},
   "source": [
    "# Question 2 \n",
    "(1/1 point)\n",
    "\n",
    "Using a sklearn.dummy.DummyClassifier and the strategy \"most_frequent\", what is the average of the accuracy scores obtained by performing a 10-fold cross-validation?\n",
    "a) ~25%\n",
    "b) ~50%\n",
    "c) ~75% c) ~75% - correct\n",
    "\n",
    "Hint: You can check the documentation of sklearn.model_selection.cross_val_score here and sklearn.model_selection.cross_validate here."
   ]
  },
  {
   "cell_type": "markdown",
   "id": "5824e4af-2a5f-4651-afd1-bc4a0d11b7c4",
   "metadata": {},
   "source": [
    "# Question 3\n",
    "(1/1 point)\n",
    "\n",
    "Repeat the previous experiment but compute the balanced accuracy instead of the accuracy score. Pass scoring=\"balanced_accuracy\" when calling cross_validate or cross_val_score functions, the mean score is:\n",
    "a) ~25%\n",
    "b) ~50% b) ~50% - correct\n",
    "c) ~75% "
   ]
  },
  {
   "cell_type": "code",
   "execution_count": 12,
   "id": "84ba70c6-56e2-45b0-a90e-48ca1a160670",
   "metadata": {},
   "outputs": [
    {
     "name": "stdout",
     "output_type": "stream",
     "text": [
      "[0.5 0.5 0.5 0.5 0.5 0.5 0.5 0.5 0.5 0.5]\n",
      "[0.5 0.5 0.5 0.5 0.5 0.5 0.5 0.5 0.5 0.5]\n"
     ]
    }
   ],
   "source": [
    "from sklearn.model_selection import cross_validate\n",
    "from sklearn.model_selection import cross_val_score\n",
    "from sklearn.dummy import DummyClassifier\n",
    "\n",
    "dumdum = DummyClassifier(strategy=\"most_frequent\")\n",
    "cross_val = cross_validate(dumdum, data, target, cv=10, scoring=\"balanced_accuracy\")\n",
    "print(cross_val['test_score'])\n",
    "cv_score = cross_val_score(dumdum, data, target, cv=10, scoring=\"balanced_accuracy\")\n",
    "print(cv_score)"
   ]
  },
  {
   "cell_type": "markdown",
   "id": "2d10926c-5b3c-414c-83cc-a37fa11e7be1",
   "metadata": {},
   "source": [
    "# Question 4\n",
    "(1 point possible)\n",
    "\n",
    "We will use a sklearn.neighbors.KNeighborsClassifier for the remainder of this quiz.\n",
    "\n",
    "Why is it relevant to add a preprocessing step to scale the data using a StandardScaler when working with a KNeighborsClassifier?\n",
    "a) faster to compute the list of neighbors on scaled data a) faster to compute the list of neighbors on scaled data - incorrect\n",
    "b) k-nearest neighbors is based on computing some distances. Features need to be normalized to contribute approximately equally to the distance computation.\n",
    "c) This is irrelevant. One could use k-nearest neighbors without normalizing the dataset and get a very similar cross-validation score. "
   ]
  },
  {
   "cell_type": "code",
   "execution_count": 17,
   "id": "e4373ab5-3f49-4cbf-9316-8aedfe4fac83",
   "metadata": {},
   "outputs": [
    {
     "data": {
      "text/plain": [
       "{'memory': None,\n",
       " 'steps': [('standardscaler', StandardScaler()),\n",
       "  ('kneighborsclassifier', KNeighborsClassifier())],\n",
       " 'verbose': False,\n",
       " 'standardscaler': StandardScaler(),\n",
       " 'kneighborsclassifier': KNeighborsClassifier(),\n",
       " 'standardscaler__copy': True,\n",
       " 'standardscaler__with_mean': True,\n",
       " 'standardscaler__with_std': True,\n",
       " 'kneighborsclassifier__algorithm': 'auto',\n",
       " 'kneighborsclassifier__leaf_size': 30,\n",
       " 'kneighborsclassifier__metric': 'minkowski',\n",
       " 'kneighborsclassifier__metric_params': None,\n",
       " 'kneighborsclassifier__n_jobs': None,\n",
       " 'kneighborsclassifier__n_neighbors': 5,\n",
       " 'kneighborsclassifier__p': 2,\n",
       " 'kneighborsclassifier__weights': 'uniform'}"
      ]
     },
     "execution_count": 17,
     "metadata": {},
     "output_type": "execute_result"
    }
   ],
   "source": [
    "from sklearn.neighbors import KNeighborsClassifier\n",
    "from sklearn.pipeline import make_pipeline\n",
    "from sklearn.preprocessing import StandardScaler\n",
    "\n",
    "model1 = make_pipeline(StandardScaler(), KNeighborsClassifier())\n",
    "model1.get_params()"
   ]
  },
  {
   "cell_type": "markdown",
   "id": "08f62a1a-5b08-4b88-9bbd-6ba5edcc4cb4",
   "metadata": {},
   "source": [
    "solution: b)\n",
    "\n",
    "Computing distances on scaled or un-scaled data takes similar time but the resulting distance values could be very different and therefore ordering of which sample is a closest neighbor to which sample also.\n",
    "For instance: if you have two variables A and B, where A has values which vary between 0 and 1000000 (e.g. the price of a house in euros) and B is a variable that varies between 0 and 30 (e.g. the average outside air temperature in Celsius degrees), then computing distances between rows of such a database will be mostly impacted by the differences in values of the A column and the values of B column will be comparatively ignored.\n",
    "If one applies StandardScaler to such a database, both the values of A and B will be approximately between -3 and 3 and the neighbor structure will be impacted by both variables."
   ]
  },
  {
   "cell_type": "markdown",
   "id": "9e1c41d5-789f-4f36-9a88-cc772ca0b120",
   "metadata": {},
   "source": [
    "# Question 5\n",
    "(1/1 point)\n",
    "\n",
    "Create a scikit-learn pipeline (using sklearn.pipeline.make_pipeline) where a StandardScaler will be used to scale the data followed by a KNeighborsClassifier. Use the default hyperparameters.\n",
    "\n",
    "Inspect the parameters of the created pipeline. What is the value of K, the number of neighbors considered when predicting with the k-nearest neighbors?\n",
    "a) 1\n",
    "b) 3\n",
    "c) 5 c) 5 - correct\n",
    "d) 8\n",
    "e) 10\n",
    "\n",
    "Hint: You can use model.get_params() to get the parameters of a scikit-learn estimator. "
   ]
  },
  {
   "cell_type": "code",
   "execution_count": 18,
   "id": "3ed177d3-0a03-4240-92c5-dd8ffe0f6633",
   "metadata": {},
   "outputs": [
    {
     "data": {
      "text/plain": [
       "{'fit_time': array([0.00706315, 0.00709295, 0.00382113, 0.00324011, 0.00381589,\n",
       "        0.00345612, 0.00349784, 0.00326204, 0.00354671, 0.00325799]),\n",
       " 'score_time': array([0.01047587, 0.00914288, 0.00470901, 0.00388193, 0.0043509 ,\n",
       "        0.0040319 , 0.00403905, 0.0037179 , 0.00394917, 0.00396895]),\n",
       " 'test_score': array([0.51315789, 0.49122807, 0.4751462 , 0.2997076 , 0.39473684,\n",
       "        0.43859649, 0.56432749, 0.58333333, 0.45665635, 0.50309598]),\n",
       " 'train_score': array([0.8909174 , 0.89357943, 0.89458455, 0.89384137, 0.89320785,\n",
       "        0.88635478, 0.88148148, 0.87465887, 0.89300546, 0.87503178])}"
      ]
     },
     "execution_count": 18,
     "metadata": {},
     "output_type": "execute_result"
    }
   ],
   "source": [
    "model2 = make_pipeline(StandardScaler(), KNeighborsClassifier(n_neighbors=1))\n",
    "cross_val = cross_validate(model2, data, target, cv=10, scoring=\"balanced_accuracy\", return_train_score=True)\n",
    "cross_val"
   ]
  },
  {
   "cell_type": "code",
   "execution_count": 16,
   "id": "3208e8b3-583d-478c-b5a7-82954473a4d1",
   "metadata": {},
   "outputs": [
    {
     "name": "stdout",
     "output_type": "stream",
     "text": [
      "Test score avg: 0.472\n",
      "Train score avg: 0.888\n"
     ]
    }
   ],
   "source": [
    "print(f\"Test score avg: {cross_val['test_score'].mean():.3f}\")\n",
    "print(f\"Train score avg: {cross_val['train_score'].mean():.3f}\")"
   ]
  },
  {
   "cell_type": "markdown",
   "id": "3cb51bf6-8582-4a5a-89a6-95fa600e52e6",
   "metadata": {},
   "source": [
    "# Question 6\n",
    "(1/1 point)\n",
    "\n",
    "Set n_neighbors=1 in the previous model and evaluate it using a 10-fold cross-validation. Use the balanced accuracy as a score. What can you say about this model? Compare the average of the train and test scores to argument your answer.\n",
    "a) The model clearly underfits\n",
    "b) The model generalizes\n",
    "c) The model clearly overfits c) The model clearly overfits - correct\n",
    "\n",
    "Hint: compute the average test score and the average train score and compare them. Make sure to pass return_train_score=True to the cross_validate function to also compute the train score."
   ]
  },
  {
   "cell_type": "markdown",
   "id": "e6185d3b-beb7-41ad-a1f9-4737226541a6",
   "metadata": {},
   "source": [
    "# Question 7 \n",
    "(1/1 point)\n",
    "\n",
    "We will now study the effect of the parameter n_neighbors on the train and test score using a validation curve. You can use the following parameter range:\n",
    "\n",
    "param_range = [1, 2, 5, 10, 20, 50, 100, 200, 500]\n",
    "\n",
    "Also, use a 5-fold cross-validation and compute the balanced accuracy score instead of the default accuracy score (check the scoring parameter). Finally, plot the average train and test scores for the different value of the hyperparameter. We recall that the name of the parameter can be found using model.get_params().\n",
    "\n",
    "Select the true affirmations stated below:\n",
    "a) The model underfits for a range of n_neighbors values between 1 to 10\n",
    "b) The model underfits for a range of n_neighbors values between 10 to 100\n",
    "c) The model underfits for a range of n_neighbors values between 100 to 500 "
   ]
  },
  {
   "cell_type": "code",
   "execution_count": 21,
   "id": "53c90ee9-9351-4efb-9fea-2a3a9b7e35c6",
   "metadata": {},
   "outputs": [
    {
     "name": "stdout",
     "output_type": "stream",
     "text": [
      "Test score avg: 0.536\n",
      "Train score avg: 0.665\n"
     ]
    }
   ],
   "source": [
    "from sklearn.model_selection import validation_curve\n",
    "\n",
    "param_range = [1, 2, 5, 10, 20, 50, 100, 200, 500]\n",
    "model3 = make_pipeline(StandardScaler(), KNeighborsClassifier())\n",
    "train_scores3, test_scores3 = validation_curve(model3, data, target, cv=5, scoring=\"balanced_accuracy\", param_name=\"kneighborsclassifier__n_neighbors\", param_range=param_range)\n",
    "print(f\"Test score avg: {test_scores3.mean():.3f}\")\n",
    "print(f\"Train score avg: {train_scores3.mean():.3f}\")"
   ]
  },
  {
   "cell_type": "code",
   "execution_count": 24,
   "id": "f5b3c8b6-66dc-4bef-9886-a46570440bc4",
   "metadata": {},
   "outputs": [
    {
     "data": {
      "image/png": "[encoded data removed]",
      "text/plain": [
       "<Figure size 432x288 with 1 Axes>"
      ]
     },
     "metadata": {
      "needs_background": "light"
     },
     "output_type": "display_data"
    }
   ],
   "source": [
    "import matplotlib.pyplot as plt\n",
    "\n",
    "plt.plot(param_range, train_scores3.mean(axis=1), label=\"Training score\")\n",
    "plt.plot(param_range, test_scores3.mean(axis=1), label=\"Testing score\")\n",
    "plt.legend()\n",
    "\n",
    "plt.xlabel(\"Number of neighbors\")\n",
    "plt.ylabel(\"Average score\")\n",
    "_ = plt.title(\"Varying k in k-nearest neighbors\")"
   ]
  },
  {
   "cell_type": "markdown",
   "id": "3cf61eb1-97f4-41f4-a3be-69ae9d400e23",
   "metadata": {},
   "source": [
    "# Question 8 (1/1 point)\n",
    "\n",
    "Select the true affirmations stated below:\n",
    "a) The model overfits for a range of n_neighbors values between 1 to 10 a) The model overfits for a range of <code>n_neighbors</code> values between 1 to 10 - correct\n",
    "b) The model overfits for a range of n_neighbors values between 10 to 100\n",
    "c) The model overfits for a range of n_neighbors values between 100 to 500 "
   ]
  },
  {
   "cell_type": "markdown",
   "id": "a3a101e3-ae84-452e-bd09-b2e1cbb3a578",
   "metadata": {},
   "source": [
    "# Question 9 (1/1 point)\n",
    "\n",
    "Select which of the following statements are true:\n",
    "a) The model best generalizes for a range of n_neighbors values between 1 to 10\n",
    "b) The model best generalizes for a range of n_neighbors values between 10 to 100 b) The model best generalizes for a range of <code>n_neighbors</code> values between 10 to 100 - correct\n",
    "c) The model best generalizes for a range of n_neighbors values between 100 to 500 "
   ]
  },
  {
   "cell_type": "code",
   "execution_count": null,
   "id": "fd9d4594-d936-4084-ae6a-27ab1a1f4e61",
   "metadata": {},
   "outputs": [],
   "source": []
  }
 ],
 "metadata": {
  "kernelspec": {
   "display_name": "Inria",
   "language": "python",
   "name": "scikit-learn-mooc-btn2wexi"
  },
  "language_info": {
   "codemirror_mode": {
    "name": "ipython",
    "version": 3
   },
   "file_extension": ".py",
   "mimetype": "text/x-python",
   "name": "python",
   "nbconvert_exporter": "python",
   "pygments_lexer": "ipython3",
   "version": "3.9.10"
  }
 },
 "nbformat": 4,
 "nbformat_minor": 5
}
