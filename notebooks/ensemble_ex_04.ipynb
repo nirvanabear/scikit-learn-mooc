{
 "cells": [
  {
   "cell_type": "markdown",
   "id": "fd9b51e9",
   "metadata": {},
   "source": [
    "# 📝 Exercise M6.04\n",
    "\n",
    "The aim of the exercise is to get familiar with the histogram\n",
    "gradient-boosting in scikit-learn. Besides, we will use this model within\n",
    "a cross-validation framework in order to inspect internal parameters found\n",
    "via grid-search.\n",
    "\n",
    "We will use the California housing dataset."
   ]
  },
  {
   "cell_type": "code",
   "execution_count": 1,
   "id": "5c490ccc",
   "metadata": {},
   "outputs": [],
   "source": [
    "from sklearn.datasets import fetch_california_housing\n",
    "\n",
    "data, target = fetch_california_housing(return_X_y=True, as_frame=True)\n",
    "target *= 100  # rescale the target in k$"
   ]
  },
  {
   "cell_type": "markdown",
   "id": "bc645bf3",
   "metadata": {},
   "source": [
    "First, create a histogram gradient boosting regressor. You can set the\n",
    "trees number to be large, and configure the model to use early-stopping."
   ]
  },
  {
   "cell_type": "code",
   "execution_count": 5,
   "id": "58036e92",
   "metadata": {},
   "outputs": [],
   "source": [
    "from sklearn.ensemble import HistGradientBoostingRegressor\n",
    "\n",
    "hist_grad_boost = HistGradientBoostingRegressor(max_iter=200, random_state=0, early_stopping=True)"
   ]
  },
  {
   "cell_type": "code",
   "execution_count": 6,
   "id": "7e7c62be-8e0b-4b44-9215-b6880e856dcc",
   "metadata": {
    "tags": []
   },
   "outputs": [
    {
     "data": {
      "text/plain": [
       "{'categorical_features': None,\n",
       " 'early_stopping': True,\n",
       " 'l2_regularization': 0.0,\n",
       " 'learning_rate': 0.1,\n",
       " 'loss': 'squared_error',\n",
       " 'max_bins': 255,\n",
       " 'max_depth': None,\n",
       " 'max_iter': 200,\n",
       " 'max_leaf_nodes': 31,\n",
       " 'min_samples_leaf': 20,\n",
       " 'monotonic_cst': None,\n",
       " 'n_iter_no_change': 10,\n",
       " 'random_state': 0,\n",
       " 'scoring': 'loss',\n",
       " 'tol': 1e-07,\n",
       " 'validation_fraction': 0.1,\n",
       " 'verbose': 0,\n",
       " 'warm_start': False}"
      ]
     },
     "execution_count": 6,
     "metadata": {},
     "output_type": "execute_result"
    }
   ],
   "source": [
    "hist_grad_boost.get_params()"
   ]
  },
  {
   "cell_type": "markdown",
   "id": "a71dbf9f",
   "metadata": {},
   "source": [
    "We will use a grid-search to find some optimal parameter for this model.\n",
    "In this grid-search, you should search for the following parameters:\n",
    "\n",
    "* `max_depth: [3, 8]`;\n",
    "* `max_leaf_nodes: [15, 31]`;\n",
    "* `learning_rate: [0.1, 1]`.\n",
    "\n",
    "Feel free to explore the space with additional values. Create the\n",
    "grid-search providing the previous gradient boosting instance as the model."
   ]
  },
  {
   "cell_type": "code",
   "execution_count": 7,
   "id": "890217a3",
   "metadata": {},
   "outputs": [],
   "source": [
    "param_grid = {\"max_depth\": [3, 8],\n",
    "\"max_leaf_nodes\": [15, 31],\n",
    "\"learning_rate\": [0.1, 1]}\n",
    "\n",
    "from sklearn.model_selection import GridSearchCV\n",
    "model_gridCV = GridSearchCV(hist_grad_boost, param_grid=param_grid, n_jobs=2)"
   ]
  },
  {
   "cell_type": "markdown",
   "id": "ea1e8a4b",
   "metadata": {},
   "source": [
    "Finally, we will run our experiment through cross-validation. In this regard,\n",
    "define a 5-fold cross-validation. Besides, be sure to shuffle the data.\n",
    "Subsequently, use the function `sklearn.model_selection.cross_validate`\n",
    "to run the cross-validation. You should also set `return_estimator=True`,\n",
    "so that we can investigate the inner model trained via cross-validation."
   ]
  },
  {
   "cell_type": "code",
   "execution_count": 8,
   "id": "a93f9f3f",
   "metadata": {},
   "outputs": [],
   "source": [
    "from sklearn.model_selection import cross_validate, ShuffleSplit\n",
    "\n",
    "shuffle_split = ShuffleSplit(n_splits=5, random_state=0)\n",
    "cv_results = cross_validate(model_gridCV, data, target, cv=shuffle_split, return_estimator=True, n_jobs=2)"
   ]
  },
  {
   "cell_type": "code",
   "execution_count": 29,
   "id": "6ba28abd-d6a1-4918-a66a-7cb92b0369e5",
   "metadata": {},
   "outputs": [],
   "source": [
    "# Solution:\n",
    "\n",
    "from sklearn.model_selection import cross_validate, KFold\n",
    "\n",
    "Kfold = KFold(n_splits=5, shuffle=True, random_state=0)\n",
    "cv_results = cross_validate(model_gridCV, data, target, cv=Kfold, return_estimator=True, n_jobs=2)"
   ]
  },
  {
   "cell_type": "markdown",
   "id": "d01bcb95",
   "metadata": {},
   "source": [
    "Now that we got the cross-validation results, print out the mean and\n",
    "standard deviation score."
   ]
  },
  {
   "cell_type": "code",
   "execution_count": 11,
   "id": "f2f553dd",
   "metadata": {},
   "outputs": [
    {
     "data": {
      "text/plain": [
       "'0.847 +/- 0.008'"
      ]
     },
     "execution_count": 11,
     "metadata": {},
     "output_type": "execute_result"
    }
   ],
   "source": [
    "f\"{cv_results['test_score'].mean():.3f} +/- {cv_results['test_score'].std():.3f}\""
   ]
  },
  {
   "cell_type": "markdown",
   "id": "86f6ab8e",
   "metadata": {},
   "source": [
    "Then inspect the `estimator` entry of the results and check the best\n",
    "parameters values. Besides, check the number of trees used by the model."
   ]
  },
  {
   "cell_type": "code",
   "execution_count": 24,
   "id": "27ea650c",
   "metadata": {},
   "outputs": [
    {
     "name": "stdout",
     "output_type": "stream",
     "text": [
      "{'learning_rate': 0.1, 'max_depth': 8, 'max_leaf_nodes': 31}\n",
      "200\n",
      "{'learning_rate': 0.1, 'max_depth': 8, 'max_leaf_nodes': 31}\n",
      "200\n",
      "{'learning_rate': 0.1, 'max_depth': 8, 'max_leaf_nodes': 31}\n",
      "200\n",
      "{'learning_rate': 0.1, 'max_depth': 8, 'max_leaf_nodes': 31}\n",
      "200\n",
      "{'learning_rate': 0.1, 'max_depth': 8, 'max_leaf_nodes': 31}\n",
      "200\n"
     ]
    }
   ],
   "source": [
    "for each in cv_results['estimator']:\n",
    "    print(each.best_params_)\n",
    "    print(each.best_estimator_.n_iter_)"
   ]
  },
  {
   "cell_type": "code",
   "execution_count": 23,
   "id": "8fe6e428-a8cf-4d2f-9f9a-ac7602c96ae8",
   "metadata": {},
   "outputs": [
    {
     "data": {
      "text/plain": [
       "{'mean_fit_time': array([1.56307478, 1.36956873, 3.05890765, 5.43581905, 0.46094236,\n",
       "        0.5347918 , 0.55707617, 0.47116485]),\n",
       " 'std_fit_time': array([0.14510007, 0.02389819, 0.18549462, 0.24966136, 0.12590507,\n",
       "        0.15266848, 0.12605164, 0.05712   ]),\n",
       " 'mean_score_time': array([0.06080923, 0.04889941, 0.04544301, 0.05318351, 0.01332946,\n",
       "        0.01360631, 0.01235418, 0.00764675]),\n",
       " 'std_score_time': array([0.02194224, 0.01493111, 0.00667392, 0.01457262, 0.00274148,\n",
       "        0.00358344, 0.00509795, 0.00158652]),\n",
       " 'param_learning_rate': masked_array(data=[0.1, 0.1, 0.1, 0.1, 1, 1, 1, 1],\n",
       "              mask=[False, False, False, False, False, False, False, False],\n",
       "        fill_value='?',\n",
       "             dtype=object),\n",
       " 'param_max_depth': masked_array(data=[3, 3, 8, 8, 3, 3, 8, 8],\n",
       "              mask=[False, False, False, False, False, False, False, False],\n",
       "        fill_value='?',\n",
       "             dtype=object),\n",
       " 'param_max_leaf_nodes': masked_array(data=[15, 31, 15, 31, 15, 31, 15, 31],\n",
       "              mask=[False, False, False, False, False, False, False, False],\n",
       "        fill_value='?',\n",
       "             dtype=object),\n",
       " 'params': [{'learning_rate': 0.1, 'max_depth': 3, 'max_leaf_nodes': 15},\n",
       "  {'learning_rate': 0.1, 'max_depth': 3, 'max_leaf_nodes': 31},\n",
       "  {'learning_rate': 0.1, 'max_depth': 8, 'max_leaf_nodes': 15},\n",
       "  {'learning_rate': 0.1, 'max_depth': 8, 'max_leaf_nodes': 31},\n",
       "  {'learning_rate': 1, 'max_depth': 3, 'max_leaf_nodes': 15},\n",
       "  {'learning_rate': 1, 'max_depth': 3, 'max_leaf_nodes': 31},\n",
       "  {'learning_rate': 1, 'max_depth': 8, 'max_leaf_nodes': 15},\n",
       "  {'learning_rate': 1, 'max_depth': 8, 'max_leaf_nodes': 31}],\n",
       " 'split0_test_score': array([0.79497087, 0.79497087, 0.82185126, 0.83089819, 0.7941889 ,\n",
       "        0.7941889 , 0.78176957, 0.77758828]),\n",
       " 'split1_test_score': array([0.81059759, 0.81059759, 0.83377631, 0.84020466, 0.81024757,\n",
       "        0.81024757, 0.78845233, 0.77630698]),\n",
       " 'split2_test_score': array([0.81970265, 0.81970265, 0.83818689, 0.84748992, 0.8013794 ,\n",
       "        0.8013794 , 0.79220094, 0.78845112]),\n",
       " 'split3_test_score': array([0.80713427, 0.80713427, 0.83148189, 0.84300316, 0.80007904,\n",
       "        0.80007904, 0.79107369, 0.77005073]),\n",
       " 'split4_test_score': array([0.81076059, 0.81076059, 0.8321463 , 0.83956529, 0.79720589,\n",
       "        0.79720589, 0.77540792, 0.75400421]),\n",
       " 'mean_test_score': array([0.80863319, 0.80863319, 0.83148853, 0.84023225, 0.80062016,\n",
       "        0.80062016, 0.78578089, 0.77328026]),\n",
       " 'std_test_score': array([0.00799779, 0.00799779, 0.00535559, 0.00543915, 0.00541432,\n",
       "        0.00541432, 0.00632545, 0.01131257]),\n",
       " 'rank_test_score': array([3, 3, 2, 1, 5, 5, 7, 8], dtype=int32)}"
      ]
     },
     "execution_count": 23,
     "metadata": {},
     "output_type": "execute_result"
    }
   ],
   "source": [
    "cv_results['estimator'][0].cv_results_"
   ]
  },
  {
   "cell_type": "markdown",
   "id": "20958a0a",
   "metadata": {},
   "source": [
    "Inspect the results of the inner CV for each estimator of the outer CV.\n",
    "Aggregate the mean test score for each parameter combination and make a box\n",
    "plot of these scores."
   ]
  },
  {
   "cell_type": "code",
   "execution_count": 30,
   "id": "0d37b020",
   "metadata": {},
   "outputs": [],
   "source": [
    "# solution\n",
    "import pandas as pd\n",
    "\n",
    "index_columns = [f\"param_{name}\" for name in param_grid.keys()]\n",
    "columns = index_columns + [\"mean_test_score\"]\n",
    "\n",
    "inner_cv_results = []\n",
    "for cv_idx, estimator in enumerate(cv_results[\"estimator\"]):\n",
    "    search_cv_results = pd.DataFrame(estimator.cv_results_)\n",
    "    search_cv_results = search_cv_results[columns].set_index(index_columns)\n",
    "    search_cv_results = search_cv_results.rename(\n",
    "        columns={\"mean_test_score\": f\"CV {cv_idx}\"})\n",
    "    inner_cv_results.append(search_cv_results)\n",
    "inner_cv_results = pd.concat(inner_cv_results, axis=1).T"
   ]
  },
  {
   "cell_type": "code",
   "execution_count": 28,
   "id": "f9668807-0f1a-40e0-83e8-2a66d985d540",
   "metadata": {},
   "outputs": [
    {
     "data": {
      "image/png": "[encoded data removed]",
      "text/plain": [
       "<Figure size 432x288 with 1 Axes>"
      ]
     },
     "metadata": {
      "needs_background": "light"
     },
     "output_type": "display_data"
    }
   ],
   "source": [
    "# solution version 1 using Shuffle Split\n",
    "import matplotlib.pyplot as plt\n",
    "\n",
    "color = {\"whiskers\": \"black\", \"medians\": \"black\", \"caps\": \"black\"}\n",
    "inner_cv_results.plot.box(vert=False, color=color)\n",
    "plt.xlabel(\"R2 score\")\n",
    "plt.ylabel(\"Parameters\")\n",
    "_ = plt.title(\"Inner CV results with parameters\\n\"\n",
    "              \"(max_depth, max_leaf_nodes, learning_rate)\")"
   ]
  },
  {
   "cell_type": "code",
   "execution_count": 31,
   "id": "d179b2ee-90e1-4b8c-a769-83e0855a039f",
   "metadata": {},
   "outputs": [
    {
     "data": {
      "image/png": "[encoded data removed]",
      "text/plain": [
       "<Figure size 432x288 with 1 Axes>"
      ]
     },
     "metadata": {
      "needs_background": "light"
     },
     "output_type": "display_data"
    }
   ],
   "source": [
    "# solution version 2 using K-Fold\n",
    "import matplotlib.pyplot as plt\n",
    "\n",
    "color = {\"whiskers\": \"black\", \"medians\": \"black\", \"caps\": \"black\"}\n",
    "inner_cv_results.plot.box(vert=False, color=color)\n",
    "plt.xlabel(\"R2 score\")\n",
    "plt.ylabel(\"Parameters\")\n",
    "_ = plt.title(\"Inner CV results with parameters\\n\"\n",
    "              \"(max_depth, max_leaf_nodes, learning_rate)\")"
   ]
  },
  {
   "cell_type": "code",
   "execution_count": null,
   "id": "c4bd3c37-c093-4e9a-91bc-78fc13b4cbcc",
   "metadata": {},
   "outputs": [],
   "source": []
  },
  {
   "cell_type": "code",
   "execution_count": null,
   "id": "ad42c53e-43de-4875-bc6e-8cdd929c8dbe",
   "metadata": {},
   "outputs": [],
   "source": []
  }
 ],
 "metadata": {
  "jupytext": {
   "main_language": "python"
  },
  "kernelspec": {
   "display_name": "Inria",
   "language": "python",
   "name": "scikit-learn-mooc-btn2wexi"
  },
  "language_info": {
   "codemirror_mode": {
    "name": "ipython",
    "version": 3
   },
   "file_extension": ".py",
   "mimetype": "text/x-python",
   "name": "python",
   "nbconvert_exporter": "python",
   "pygments_lexer": "ipython3",
   "version": "3.9.10"
  }
 },
 "nbformat": 4,
 "nbformat_minor": 5
}
