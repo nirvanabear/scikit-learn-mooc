{
 "cells": [
  {
   "cell_type": "markdown",
   "id": "f8add8e9",
   "metadata": {},
   "source": [
    "# 📝 Exercise M7.02\n",
    "\n",
    "We presented different classification metrics in the previous notebook.\n",
    "However, we did not use it with a cross-validation. This exercise aims at\n",
    "practicing and implementing cross-validation.\n",
    "\n",
    "We will reuse the blood transfusion dataset."
   ]
  },
  {
   "cell_type": "code",
   "execution_count": 1,
   "id": "2a746955",
   "metadata": {},
   "outputs": [],
   "source": [
    "import pandas as pd\n",
    "\n",
    "blood_transfusion = pd.read_csv(\"../datasets/blood_transfusion.csv\")\n",
    "data = blood_transfusion.drop(columns=\"Class\")\n",
    "target = blood_transfusion[\"Class\"]"
   ]
  },
  {
   "cell_type": "markdown",
   "id": "b12aae0b",
   "metadata": {},
   "source": [
    "<div class=\"admonition note alert alert-info\">\n",
    "<p class=\"first admonition-title\" style=\"font-weight: bold;\">Note</p>\n",
    "<p class=\"last\">If you want a deeper overview regarding this dataset, you can refer to the\n",
    "Appendix - Datasets description section at the end of this MOOC.</p>\n",
    "</div>"
   ]
  },
  {
   "cell_type": "markdown",
   "id": "42658c8f",
   "metadata": {},
   "source": [
    "First, create a decision tree classifier."
   ]
  },
  {
   "cell_type": "code",
   "execution_count": 2,
   "id": "2d929d09",
   "metadata": {},
   "outputs": [],
   "source": [
    "from sklearn.tree import DecisionTreeClassifier\n",
    "\n",
    "model_tree = DecisionTreeClassifier()"
   ]
  },
  {
   "cell_type": "markdown",
   "id": "846b213d",
   "metadata": {},
   "source": [
    "Create a `StratifiedKFold` cross-validation object. Then use it inside the\n",
    "`cross_val_score` function to evaluate the decision tree. We will first use\n",
    "the accuracy as a score function. Explicitly use the `scoring` parameter\n",
    "of `cross_val_score` to compute the accuracy (even if this is the default\n",
    "score). Check its documentation to learn how to do that."
   ]
  },
  {
   "cell_type": "code",
   "execution_count": 21,
   "id": "c7e32494",
   "metadata": {},
   "outputs": [
    {
     "data": {
      "text/plain": [
       "'0.637 +/- 0.141'"
      ]
     },
     "execution_count": 21,
     "metadata": {},
     "output_type": "execute_result"
    }
   ],
   "source": [
    "from sklearn.model_selection import StratifiedKFold, cross_val_score\n",
    "\n",
    "strat_fold = StratifiedKFold(n_splits=10)\n",
    "cv_decision_t = cross_val_score(model_tree, data, target, cv=strat_fold, scoring='accuracy', n_jobs=2)\n",
    "f\"{cv_decision_t.mean():.3f} +/- {cv_decision_t.std():.3f}\""
   ]
  },
  {
   "cell_type": "markdown",
   "id": "b655f2c8",
   "metadata": {},
   "source": [
    "Repeat the experiment by computing the `balanced_accuracy`."
   ]
  },
  {
   "cell_type": "code",
   "execution_count": 22,
   "id": "77062a09",
   "metadata": {},
   "outputs": [
    {
     "data": {
      "text/plain": [
       "'0.505 +/- 0.107'"
      ]
     },
     "execution_count": 22,
     "metadata": {},
     "output_type": "execute_result"
    }
   ],
   "source": [
    "cv_decision_t2 = cross_val_score(model_tree, data, target, cv=strat_fold, scoring='balanced_accuracy', n_jobs=2)\n",
    "f\"{cv_decision_t2.mean():.3f} +/- {cv_decision_t2.std():.3f}\""
   ]
  },
  {
   "cell_type": "markdown",
   "id": "bbd7ddd4",
   "metadata": {},
   "source": [
    "We will now add a bit of complexity. We would like to compute the precision\n",
    "of our model. However, during the course we saw that we need to mention the\n",
    "positive label which in our case we consider to be the class `donated`.\n",
    "\n",
    "We will show that computing the precision without providing the positive\n",
    "label will not be supported by scikit-learn because it is indeed ambiguous."
   ]
  },
  {
   "cell_type": "code",
   "execution_count": 9,
   "id": "a985927c",
   "metadata": {
    "collapsed": true,
    "jupyter": {
     "outputs_hidden": true
    },
    "tags": []
   },
   "outputs": [
    {
     "name": "stderr",
     "output_type": "stream",
     "text": [
      "/Users/nirvanabear/.local/share/virtualenvs/scikit-learn-mooc-btn2WeXi/lib/python3.9/site-packages/sklearn/model_selection/_validation.py:770: UserWarning: Scoring failed. The score on this train-test partition for these parameters will be set to nan. Details: \n",
      "Traceback (most recent call last):\n",
      "  File \"/Users/nirvanabear/.local/share/virtualenvs/scikit-learn-mooc-btn2WeXi/lib/python3.9/site-packages/sklearn/model_selection/_validation.py\", line 761, in _score\n",
      "    scores = scorer(estimator, X_test, y_test)\n",
      "  File \"/Users/nirvanabear/.local/share/virtualenvs/scikit-learn-mooc-btn2WeXi/lib/python3.9/site-packages/sklearn/metrics/_scorer.py\", line 103, in __call__\n",
      "    score = scorer._score(cached_call, estimator, *args, **kwargs)\n",
      "  File \"/Users/nirvanabear/.local/share/virtualenvs/scikit-learn-mooc-btn2WeXi/lib/python3.9/site-packages/sklearn/metrics/_scorer.py\", line 264, in _score\n",
      "    return self._sign * self._score_func(y_true, y_pred, **self._kwargs)\n",
      "  File \"/Users/nirvanabear/.local/share/virtualenvs/scikit-learn-mooc-btn2WeXi/lib/python3.9/site-packages/sklearn/metrics/_classification.py\", line 1757, in precision_score\n",
      "    p, _, _, _ = precision_recall_fscore_support(\n",
      "  File \"/Users/nirvanabear/.local/share/virtualenvs/scikit-learn-mooc-btn2WeXi/lib/python3.9/site-packages/sklearn/metrics/_classification.py\", line 1544, in precision_recall_fscore_support\n",
      "    labels = _check_set_wise_labels(y_true, y_pred, average, labels, pos_label)\n",
      "  File \"/Users/nirvanabear/.local/share/virtualenvs/scikit-learn-mooc-btn2WeXi/lib/python3.9/site-packages/sklearn/metrics/_classification.py\", line 1356, in _check_set_wise_labels\n",
      "    raise ValueError(\n",
      "ValueError: pos_label=1 is not a valid label. It should be one of ['donated', 'not donated']\n",
      "\n",
      "  warnings.warn(\n",
      "/Users/nirvanabear/.local/share/virtualenvs/scikit-learn-mooc-btn2WeXi/lib/python3.9/site-packages/sklearn/model_selection/_validation.py:770: UserWarning: Scoring failed. The score on this train-test partition for these parameters will be set to nan. Details: \n",
      "Traceback (most recent call last):\n",
      "  File \"/Users/nirvanabear/.local/share/virtualenvs/scikit-learn-mooc-btn2WeXi/lib/python3.9/site-packages/sklearn/model_selection/_validation.py\", line 761, in _score\n",
      "    scores = scorer(estimator, X_test, y_test)\n",
      "  File \"/Users/nirvanabear/.local/share/virtualenvs/scikit-learn-mooc-btn2WeXi/lib/python3.9/site-packages/sklearn/metrics/_scorer.py\", line 103, in __call__\n",
      "    score = scorer._score(cached_call, estimator, *args, **kwargs)\n",
      "  File \"/Users/nirvanabear/.local/share/virtualenvs/scikit-learn-mooc-btn2WeXi/lib/python3.9/site-packages/sklearn/metrics/_scorer.py\", line 264, in _score\n",
      "    return self._sign * self._score_func(y_true, y_pred, **self._kwargs)\n",
      "  File \"/Users/nirvanabear/.local/share/virtualenvs/scikit-learn-mooc-btn2WeXi/lib/python3.9/site-packages/sklearn/metrics/_classification.py\", line 1757, in precision_score\n",
      "    p, _, _, _ = precision_recall_fscore_support(\n",
      "  File \"/Users/nirvanabear/.local/share/virtualenvs/scikit-learn-mooc-btn2WeXi/lib/python3.9/site-packages/sklearn/metrics/_classification.py\", line 1544, in precision_recall_fscore_support\n",
      "    labels = _check_set_wise_labels(y_true, y_pred, average, labels, pos_label)\n",
      "  File \"/Users/nirvanabear/.local/share/virtualenvs/scikit-learn-mooc-btn2WeXi/lib/python3.9/site-packages/sklearn/metrics/_classification.py\", line 1356, in _check_set_wise_labels\n",
      "    raise ValueError(\n",
      "ValueError: pos_label=1 is not a valid label. It should be one of ['donated', 'not donated']\n",
      "\n",
      "  warnings.warn(\n",
      "/Users/nirvanabear/.local/share/virtualenvs/scikit-learn-mooc-btn2WeXi/lib/python3.9/site-packages/sklearn/model_selection/_validation.py:770: UserWarning: Scoring failed. The score on this train-test partition for these parameters will be set to nan. Details: \n",
      "Traceback (most recent call last):\n",
      "  File \"/Users/nirvanabear/.local/share/virtualenvs/scikit-learn-mooc-btn2WeXi/lib/python3.9/site-packages/sklearn/model_selection/_validation.py\", line 761, in _score\n",
      "    scores = scorer(estimator, X_test, y_test)\n",
      "  File \"/Users/nirvanabear/.local/share/virtualenvs/scikit-learn-mooc-btn2WeXi/lib/python3.9/site-packages/sklearn/metrics/_scorer.py\", line 103, in __call__\n",
      "    score = scorer._score(cached_call, estimator, *args, **kwargs)\n",
      "  File \"/Users/nirvanabear/.local/share/virtualenvs/scikit-learn-mooc-btn2WeXi/lib/python3.9/site-packages/sklearn/metrics/_scorer.py\", line 264, in _score\n",
      "    return self._sign * self._score_func(y_true, y_pred, **self._kwargs)\n",
      "  File \"/Users/nirvanabear/.local/share/virtualenvs/scikit-learn-mooc-btn2WeXi/lib/python3.9/site-packages/sklearn/metrics/_classification.py\", line 1757, in precision_score\n",
      "    p, _, _, _ = precision_recall_fscore_support(\n",
      "  File \"/Users/nirvanabear/.local/share/virtualenvs/scikit-learn-mooc-btn2WeXi/lib/python3.9/site-packages/sklearn/metrics/_classification.py\", line 1544, in precision_recall_fscore_support\n",
      "    labels = _check_set_wise_labels(y_true, y_pred, average, labels, pos_label)\n",
      "  File \"/Users/nirvanabear/.local/share/virtualenvs/scikit-learn-mooc-btn2WeXi/lib/python3.9/site-packages/sklearn/metrics/_classification.py\", line 1356, in _check_set_wise_labels\n",
      "    raise ValueError(\n",
      "ValueError: pos_label=1 is not a valid label. It should be one of ['donated', 'not donated']\n",
      "\n",
      "  warnings.warn(\n",
      "/Users/nirvanabear/.local/share/virtualenvs/scikit-learn-mooc-btn2WeXi/lib/python3.9/site-packages/sklearn/model_selection/_validation.py:770: UserWarning: Scoring failed. The score on this train-test partition for these parameters will be set to nan. Details: \n",
      "Traceback (most recent call last):\n",
      "  File \"/Users/nirvanabear/.local/share/virtualenvs/scikit-learn-mooc-btn2WeXi/lib/python3.9/site-packages/sklearn/model_selection/_validation.py\", line 761, in _score\n",
      "    scores = scorer(estimator, X_test, y_test)\n",
      "  File \"/Users/nirvanabear/.local/share/virtualenvs/scikit-learn-mooc-btn2WeXi/lib/python3.9/site-packages/sklearn/metrics/_scorer.py\", line 103, in __call__\n",
      "    score = scorer._score(cached_call, estimator, *args, **kwargs)\n",
      "  File \"/Users/nirvanabear/.local/share/virtualenvs/scikit-learn-mooc-btn2WeXi/lib/python3.9/site-packages/sklearn/metrics/_scorer.py\", line 264, in _score\n",
      "    return self._sign * self._score_func(y_true, y_pred, **self._kwargs)\n",
      "  File \"/Users/nirvanabear/.local/share/virtualenvs/scikit-learn-mooc-btn2WeXi/lib/python3.9/site-packages/sklearn/metrics/_classification.py\", line 1757, in precision_score\n",
      "    p, _, _, _ = precision_recall_fscore_support(\n",
      "  File \"/Users/nirvanabear/.local/share/virtualenvs/scikit-learn-mooc-btn2WeXi/lib/python3.9/site-packages/sklearn/metrics/_classification.py\", line 1544, in precision_recall_fscore_support\n",
      "    labels = _check_set_wise_labels(y_true, y_pred, average, labels, pos_label)\n",
      "  File \"/Users/nirvanabear/.local/share/virtualenvs/scikit-learn-mooc-btn2WeXi/lib/python3.9/site-packages/sklearn/metrics/_classification.py\", line 1356, in _check_set_wise_labels\n",
      "    raise ValueError(\n",
      "ValueError: pos_label=1 is not a valid label. It should be one of ['donated', 'not donated']\n",
      "\n",
      "  warnings.warn(\n",
      "/Users/nirvanabear/.local/share/virtualenvs/scikit-learn-mooc-btn2WeXi/lib/python3.9/site-packages/sklearn/model_selection/_validation.py:770: UserWarning: Scoring failed. The score on this train-test partition for these parameters will be set to nan. Details: \n",
      "Traceback (most recent call last):\n",
      "  File \"/Users/nirvanabear/.local/share/virtualenvs/scikit-learn-mooc-btn2WeXi/lib/python3.9/site-packages/sklearn/model_selection/_validation.py\", line 761, in _score\n",
      "    scores = scorer(estimator, X_test, y_test)\n",
      "  File \"/Users/nirvanabear/.local/share/virtualenvs/scikit-learn-mooc-btn2WeXi/lib/python3.9/site-packages/sklearn/metrics/_scorer.py\", line 103, in __call__\n",
      "    score = scorer._score(cached_call, estimator, *args, **kwargs)\n",
      "  File \"/Users/nirvanabear/.local/share/virtualenvs/scikit-learn-mooc-btn2WeXi/lib/python3.9/site-packages/sklearn/metrics/_scorer.py\", line 264, in _score\n",
      "    return self._sign * self._score_func(y_true, y_pred, **self._kwargs)\n",
      "  File \"/Users/nirvanabear/.local/share/virtualenvs/scikit-learn-mooc-btn2WeXi/lib/python3.9/site-packages/sklearn/metrics/_classification.py\", line 1757, in precision_score\n",
      "    p, _, _, _ = precision_recall_fscore_support(\n",
      "  File \"/Users/nirvanabear/.local/share/virtualenvs/scikit-learn-mooc-btn2WeXi/lib/python3.9/site-packages/sklearn/metrics/_classification.py\", line 1544, in precision_recall_fscore_support\n",
      "    labels = _check_set_wise_labels(y_true, y_pred, average, labels, pos_label)\n",
      "  File \"/Users/nirvanabear/.local/share/virtualenvs/scikit-learn-mooc-btn2WeXi/lib/python3.9/site-packages/sklearn/metrics/_classification.py\", line 1356, in _check_set_wise_labels\n",
      "    raise ValueError(\n",
      "ValueError: pos_label=1 is not a valid label. It should be one of ['donated', 'not donated']\n",
      "\n",
      "  warnings.warn(\n",
      "/Users/nirvanabear/.local/share/virtualenvs/scikit-learn-mooc-btn2WeXi/lib/python3.9/site-packages/sklearn/model_selection/_validation.py:770: UserWarning: Scoring failed. The score on this train-test partition for these parameters will be set to nan. Details: \n",
      "Traceback (most recent call last):\n",
      "  File \"/Users/nirvanabear/.local/share/virtualenvs/scikit-learn-mooc-btn2WeXi/lib/python3.9/site-packages/sklearn/model_selection/_validation.py\", line 761, in _score\n",
      "    scores = scorer(estimator, X_test, y_test)\n",
      "  File \"/Users/nirvanabear/.local/share/virtualenvs/scikit-learn-mooc-btn2WeXi/lib/python3.9/site-packages/sklearn/metrics/_scorer.py\", line 103, in __call__\n",
      "    score = scorer._score(cached_call, estimator, *args, **kwargs)\n",
      "  File \"/Users/nirvanabear/.local/share/virtualenvs/scikit-learn-mooc-btn2WeXi/lib/python3.9/site-packages/sklearn/metrics/_scorer.py\", line 264, in _score\n",
      "    return self._sign * self._score_func(y_true, y_pred, **self._kwargs)\n",
      "  File \"/Users/nirvanabear/.local/share/virtualenvs/scikit-learn-mooc-btn2WeXi/lib/python3.9/site-packages/sklearn/metrics/_classification.py\", line 1757, in precision_score\n",
      "    p, _, _, _ = precision_recall_fscore_support(\n",
      "  File \"/Users/nirvanabear/.local/share/virtualenvs/scikit-learn-mooc-btn2WeXi/lib/python3.9/site-packages/sklearn/metrics/_classification.py\", line 1544, in precision_recall_fscore_support\n",
      "    labels = _check_set_wise_labels(y_true, y_pred, average, labels, pos_label)\n",
      "  File \"/Users/nirvanabear/.local/share/virtualenvs/scikit-learn-mooc-btn2WeXi/lib/python3.9/site-packages/sklearn/metrics/_classification.py\", line 1356, in _check_set_wise_labels\n",
      "    raise ValueError(\n",
      "ValueError: pos_label=1 is not a valid label. It should be one of ['donated', 'not donated']\n",
      "\n",
      "  warnings.warn(\n",
      "/Users/nirvanabear/.local/share/virtualenvs/scikit-learn-mooc-btn2WeXi/lib/python3.9/site-packages/sklearn/model_selection/_validation.py:770: UserWarning: Scoring failed. The score on this train-test partition for these parameters will be set to nan. Details: \n",
      "Traceback (most recent call last):\n",
      "  File \"/Users/nirvanabear/.local/share/virtualenvs/scikit-learn-mooc-btn2WeXi/lib/python3.9/site-packages/sklearn/model_selection/_validation.py\", line 761, in _score\n",
      "    scores = scorer(estimator, X_test, y_test)\n",
      "  File \"/Users/nirvanabear/.local/share/virtualenvs/scikit-learn-mooc-btn2WeXi/lib/python3.9/site-packages/sklearn/metrics/_scorer.py\", line 103, in __call__\n",
      "    score = scorer._score(cached_call, estimator, *args, **kwargs)\n",
      "  File \"/Users/nirvanabear/.local/share/virtualenvs/scikit-learn-mooc-btn2WeXi/lib/python3.9/site-packages/sklearn/metrics/_scorer.py\", line 264, in _score\n",
      "    return self._sign * self._score_func(y_true, y_pred, **self._kwargs)\n",
      "  File \"/Users/nirvanabear/.local/share/virtualenvs/scikit-learn-mooc-btn2WeXi/lib/python3.9/site-packages/sklearn/metrics/_classification.py\", line 1757, in precision_score\n",
      "    p, _, _, _ = precision_recall_fscore_support(\n",
      "  File \"/Users/nirvanabear/.local/share/virtualenvs/scikit-learn-mooc-btn2WeXi/lib/python3.9/site-packages/sklearn/metrics/_classification.py\", line 1544, in precision_recall_fscore_support\n",
      "    labels = _check_set_wise_labels(y_true, y_pred, average, labels, pos_label)\n",
      "  File \"/Users/nirvanabear/.local/share/virtualenvs/scikit-learn-mooc-btn2WeXi/lib/python3.9/site-packages/sklearn/metrics/_classification.py\", line 1356, in _check_set_wise_labels\n",
      "    raise ValueError(\n",
      "ValueError: pos_label=1 is not a valid label. It should be one of ['donated', 'not donated']\n",
      "\n",
      "  warnings.warn(\n",
      "/Users/nirvanabear/.local/share/virtualenvs/scikit-learn-mooc-btn2WeXi/lib/python3.9/site-packages/sklearn/model_selection/_validation.py:770: UserWarning: Scoring failed. The score on this train-test partition for these parameters will be set to nan. Details: \n",
      "Traceback (most recent call last):\n",
      "  File \"/Users/nirvanabear/.local/share/virtualenvs/scikit-learn-mooc-btn2WeXi/lib/python3.9/site-packages/sklearn/model_selection/_validation.py\", line 761, in _score\n",
      "    scores = scorer(estimator, X_test, y_test)\n",
      "  File \"/Users/nirvanabear/.local/share/virtualenvs/scikit-learn-mooc-btn2WeXi/lib/python3.9/site-packages/sklearn/metrics/_scorer.py\", line 103, in __call__\n",
      "    score = scorer._score(cached_call, estimator, *args, **kwargs)\n",
      "  File \"/Users/nirvanabear/.local/share/virtualenvs/scikit-learn-mooc-btn2WeXi/lib/python3.9/site-packages/sklearn/metrics/_scorer.py\", line 264, in _score\n",
      "    return self._sign * self._score_func(y_true, y_pred, **self._kwargs)\n",
      "  File \"/Users/nirvanabear/.local/share/virtualenvs/scikit-learn-mooc-btn2WeXi/lib/python3.9/site-packages/sklearn/metrics/_classification.py\", line 1757, in precision_score\n",
      "    p, _, _, _ = precision_recall_fscore_support(\n",
      "  File \"/Users/nirvanabear/.local/share/virtualenvs/scikit-learn-mooc-btn2WeXi/lib/python3.9/site-packages/sklearn/metrics/_classification.py\", line 1544, in precision_recall_fscore_support\n",
      "    labels = _check_set_wise_labels(y_true, y_pred, average, labels, pos_label)\n",
      "  File \"/Users/nirvanabear/.local/share/virtualenvs/scikit-learn-mooc-btn2WeXi/lib/python3.9/site-packages/sklearn/metrics/_classification.py\", line 1356, in _check_set_wise_labels\n",
      "    raise ValueError(\n",
      "ValueError: pos_label=1 is not a valid label. It should be one of ['donated', 'not donated']\n",
      "\n",
      "  warnings.warn(\n",
      "/Users/nirvanabear/.local/share/virtualenvs/scikit-learn-mooc-btn2WeXi/lib/python3.9/site-packages/sklearn/model_selection/_validation.py:770: UserWarning: Scoring failed. The score on this train-test partition for these parameters will be set to nan. Details: \n",
      "Traceback (most recent call last):\n",
      "  File \"/Users/nirvanabear/.local/share/virtualenvs/scikit-learn-mooc-btn2WeXi/lib/python3.9/site-packages/sklearn/model_selection/_validation.py\", line 761, in _score\n",
      "    scores = scorer(estimator, X_test, y_test)\n",
      "  File \"/Users/nirvanabear/.local/share/virtualenvs/scikit-learn-mooc-btn2WeXi/lib/python3.9/site-packages/sklearn/metrics/_scorer.py\", line 103, in __call__\n",
      "    score = scorer._score(cached_call, estimator, *args, **kwargs)\n",
      "  File \"/Users/nirvanabear/.local/share/virtualenvs/scikit-learn-mooc-btn2WeXi/lib/python3.9/site-packages/sklearn/metrics/_scorer.py\", line 264, in _score\n",
      "    return self._sign * self._score_func(y_true, y_pred, **self._kwargs)\n",
      "  File \"/Users/nirvanabear/.local/share/virtualenvs/scikit-learn-mooc-btn2WeXi/lib/python3.9/site-packages/sklearn/metrics/_classification.py\", line 1757, in precision_score\n",
      "    p, _, _, _ = precision_recall_fscore_support(\n",
      "  File \"/Users/nirvanabear/.local/share/virtualenvs/scikit-learn-mooc-btn2WeXi/lib/python3.9/site-packages/sklearn/metrics/_classification.py\", line 1544, in precision_recall_fscore_support\n",
      "    labels = _check_set_wise_labels(y_true, y_pred, average, labels, pos_label)\n",
      "  File \"/Users/nirvanabear/.local/share/virtualenvs/scikit-learn-mooc-btn2WeXi/lib/python3.9/site-packages/sklearn/metrics/_classification.py\", line 1356, in _check_set_wise_labels\n",
      "    raise ValueError(\n",
      "ValueError: pos_label=1 is not a valid label. It should be one of ['donated', 'not donated']\n",
      "\n",
      "  warnings.warn(\n",
      "/Users/nirvanabear/.local/share/virtualenvs/scikit-learn-mooc-btn2WeXi/lib/python3.9/site-packages/sklearn/model_selection/_validation.py:770: UserWarning: Scoring failed. The score on this train-test partition for these parameters will be set to nan. Details: \n",
      "Traceback (most recent call last):\n",
      "  File \"/Users/nirvanabear/.local/share/virtualenvs/scikit-learn-mooc-btn2WeXi/lib/python3.9/site-packages/sklearn/model_selection/_validation.py\", line 761, in _score\n",
      "    scores = scorer(estimator, X_test, y_test)\n",
      "  File \"/Users/nirvanabear/.local/share/virtualenvs/scikit-learn-mooc-btn2WeXi/lib/python3.9/site-packages/sklearn/metrics/_scorer.py\", line 103, in __call__\n",
      "    score = scorer._score(cached_call, estimator, *args, **kwargs)\n",
      "  File \"/Users/nirvanabear/.local/share/virtualenvs/scikit-learn-mooc-btn2WeXi/lib/python3.9/site-packages/sklearn/metrics/_scorer.py\", line 264, in _score\n",
      "    return self._sign * self._score_func(y_true, y_pred, **self._kwargs)\n",
      "  File \"/Users/nirvanabear/.local/share/virtualenvs/scikit-learn-mooc-btn2WeXi/lib/python3.9/site-packages/sklearn/metrics/_classification.py\", line 1757, in precision_score\n",
      "    p, _, _, _ = precision_recall_fscore_support(\n",
      "  File \"/Users/nirvanabear/.local/share/virtualenvs/scikit-learn-mooc-btn2WeXi/lib/python3.9/site-packages/sklearn/metrics/_classification.py\", line 1544, in precision_recall_fscore_support\n",
      "    labels = _check_set_wise_labels(y_true, y_pred, average, labels, pos_label)\n",
      "  File \"/Users/nirvanabear/.local/share/virtualenvs/scikit-learn-mooc-btn2WeXi/lib/python3.9/site-packages/sklearn/metrics/_classification.py\", line 1356, in _check_set_wise_labels\n",
      "    raise ValueError(\n",
      "ValueError: pos_label=1 is not a valid label. It should be one of ['donated', 'not donated']\n",
      "\n",
      "  warnings.warn(\n"
     ]
    }
   ],
   "source": [
    "from sklearn.model_selection import cross_val_score\n",
    "from sklearn.tree import DecisionTreeClassifier\n",
    "\n",
    "tree = DecisionTreeClassifier()\n",
    "try:\n",
    "    scores = cross_val_score(tree, data, target, cv=10, scoring=\"precision\")\n",
    "except ValueError as exc:\n",
    "    print(exc)"
   ]
  },
  {
   "cell_type": "markdown",
   "id": "e2a9172e",
   "metadata": {},
   "source": [
    "<div class=\"admonition tip alert alert-warning\">\n",
    "<p class=\"first admonition-title\" style=\"font-weight: bold;\">Tip</p>\n",
    "<p class=\"last\">We catch the exception with a <tt class=\"docutils literal\">try</tt>/<tt class=\"docutils literal\">except</tt> pattern to be able to print it.</p>\n",
    "</div>\n",
    "We get an exception because the default scorer has its positive label set to\n",
    "one (`pos_label=1`), which is not our case (our positive label is \"donated\").\n",
    "In this case, we need to create a scorer using the scoring function and the\n",
    "helper function `make_scorer`.\n",
    "\n",
    "So, import `sklearn.metrics.make_scorer` and\n",
    "`sklearn.metrics.precision_score`. Check their documentations for more\n",
    "information.\n",
    "Finally, create a scorer by calling `make_scorer` using the score function\n",
    "`precision_score` and pass the extra parameter `pos_label=\"donated\"`."
   ]
  },
  {
   "cell_type": "code",
   "execution_count": 10,
   "id": "47ba431a",
   "metadata": {},
   "outputs": [],
   "source": [
    "from sklearn.metrics import make_scorer, precision_score\n",
    "\n",
    "scorer_donated = make_scorer(precision_score, pos_label='donated')"
   ]
  },
  {
   "cell_type": "markdown",
   "id": "c2ae503f",
   "metadata": {},
   "source": [
    "Now, instead of providing the string `\"precision\"` to the `scoring` parameter\n",
    "in the `cross_val_score` call, pass the scorer that you created above."
   ]
  },
  {
   "cell_type": "code",
   "execution_count": 23,
   "id": "f62c5c4f",
   "metadata": {},
   "outputs": [
    {
     "data": {
      "text/plain": [
       "'0.249 +/- 0.167'"
      ]
     },
     "execution_count": 23,
     "metadata": {},
     "output_type": "execute_result"
    }
   ],
   "source": [
    "cv_decision_t3 = cross_val_score(model_tree, data, target, cv=strat_fold, scoring=scorer_donated, n_jobs=2)\n",
    "f\"{cv_decision_t3.mean():.3f} +/- {cv_decision_t3.std():.3f}\""
   ]
  },
  {
   "cell_type": "markdown",
   "id": "b63811e7",
   "metadata": {},
   "source": [
    "`cross_val_score` will only compute a single score provided to the `scoring`\n",
    "parameter. The function `cross_validate` allows the computation of multiple\n",
    "scores by passing a list of string or scorer to the parameter `scoring`,\n",
    "which could be handy.\n",
    "\n",
    "Import `sklearn.model_selection.cross_validate` and compute the accuracy and\n",
    "balanced accuracy through cross-validation. Plot the cross-validation score\n",
    "for both metrics using a box plot."
   ]
  },
  {
   "cell_type": "code",
   "execution_count": 24,
   "id": "6573e916",
   "metadata": {},
   "outputs": [
    {
     "data": {
      "text/plain": [
       "{'fit_time': array([0.00497222, 0.00781894, 0.00423598, 0.00475121, 0.00699902,\n",
       "        0.00461102, 0.00649405, 0.00407815, 0.00591898, 0.0063839 ]),\n",
       " 'score_time': array([0.0039928 , 0.00258899, 0.00334525, 0.00419688, 0.00331712,\n",
       "        0.00303793, 0.00351477, 0.00382686, 0.00561309, 0.00623202]),\n",
       " 'test_accuracy': array([0.29333333, 0.50666667, 0.78666667, 0.56      , 0.57333333,\n",
       "        0.64      , 0.69333333, 0.78666667, 0.66216216, 0.74324324]),\n",
       " 'test_balanced_accuracy': array([0.42105263, 0.46637427, 0.66959064, 0.40643275, 0.41520468,\n",
       "        0.42105263, 0.55116959, 0.74561404, 0.49174407, 0.50309598])}"
      ]
     },
     "execution_count": 24,
     "metadata": {},
     "output_type": "execute_result"
    }
   ],
   "source": [
    "from sklearn.model_selection import cross_validate\n",
    "\n",
    "cv_dt_accuracies = cross_validate(model_tree, data, target, cv=strat_fold, scoring=['accuracy', 'balanced_accuracy'], n_jobs=2)\n",
    "cv_dt_accuracies"
   ]
  },
  {
   "cell_type": "code",
   "execution_count": 25,
   "id": "8fc327fb-e3be-4996-a888-48daefbfd551",
   "metadata": {},
   "outputs": [
    {
     "data": {
      "image/png": "[encoded data removed]",
      "text/plain": [
       "<Figure size 432x288 with 1 Axes>"
      ]
     },
     "metadata": {
      "needs_background": "light"
     },
     "output_type": "display_data"
    }
   ],
   "source": [
    "import matplotlib.pyplot as plt\n",
    "\n",
    "accuracies = pd.DataFrame({'accuracy': cv_dt_accuracies['test_accuracy'], 'balanced accuracy': cv_dt_accuracies['test_balanced_accuracy']})\n",
    "color = {\"whiskers\": \"black\", \"medians\": \"black\", \"caps\": \"black\"}\n",
    "accuracies.plot.box(color=color, vert=False)\n",
    "_ = plt.title(\"Metrics: Accuracy vs. Balanced Accuracy\")"
   ]
  },
  {
   "cell_type": "code",
   "execution_count": 26,
   "id": "c279d81c-e1a8-40e8-8e49-ff27dbaceac2",
   "metadata": {},
   "outputs": [
    {
     "data": {
      "text/plain": [
       "0.5882352941176471"
      ]
     },
     "execution_count": 26,
     "metadata": {},
     "output_type": "execute_result"
    }
   ],
   "source": [
    "10 / (10+7)"
   ]
  },
  {
   "cell_type": "code",
   "execution_count": 28,
   "id": "ce45ae61-27b6-47e4-a317-edce558a5acb",
   "metadata": {},
   "outputs": [
    {
     "data": {
      "text/plain": [
       "0.75"
      ]
     },
     "execution_count": 28,
     "metadata": {},
     "output_type": "execute_result"
    }
   ],
   "source": [
    "9 / (9+3)"
   ]
  },
  {
   "cell_type": "code",
   "execution_count": 29,
   "id": "c0f506e7-92af-48b9-9872-6549c6f15557",
   "metadata": {},
   "outputs": [
    {
     "data": {
      "text/plain": [
       "0.9090909090909091"
      ]
     },
     "execution_count": 29,
     "metadata": {},
     "output_type": "execute_result"
    }
   ],
   "source": [
    "10/(10+1)"
   ]
  },
  {
   "cell_type": "code",
   "execution_count": 30,
   "id": "80248187-37a8-429f-96bc-0eedd88cf852",
   "metadata": {},
   "outputs": [
    {
     "data": {
      "text/plain": [
       "0.8181818181818182"
      ]
     },
     "execution_count": 30,
     "metadata": {},
     "output_type": "execute_result"
    }
   ],
   "source": [
    "9/(9+2)"
   ]
  },
  {
   "cell_type": "code",
   "execution_count": null,
   "id": "e4385a4d-4dea-4323-aef6-b2678a3bb2de",
   "metadata": {},
   "outputs": [],
   "source": []
  }
 ],
 "metadata": {
  "jupytext": {
   "main_language": "python"
  },
  "kernelspec": {
   "display_name": "Inria",
   "language": "python",
   "name": "scikit-learn-mooc-btn2wexi"
  },
  "language_info": {
   "codemirror_mode": {
    "name": "ipython",
    "version": 3
   },
   "file_extension": ".py",
   "mimetype": "text/x-python",
   "name": "python",
   "nbconvert_exporter": "python",
   "pygments_lexer": "ipython3",
   "version": "3.9.10"
  }
 },
 "nbformat": 4,
 "nbformat_minor": 5
}
