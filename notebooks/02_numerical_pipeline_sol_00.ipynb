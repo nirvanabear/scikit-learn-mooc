{
 "cells": [
  {
   "cell_type": "markdown",
   "id": "77126591",
   "metadata": {},
   "source": [
    "# 📃 Solution for Exercise M1.02\n",
    "\n",
    "The goal of this exercise is to fit a similar model as in the previous\n",
    "notebook to get familiar with manipulating scikit-learn objects and in\n",
    "particular the `.fit/.predict/.score` API."
   ]
  },
  {
   "cell_type": "markdown",
   "id": "062157a0",
   "metadata": {},
   "source": [
    "Let's load the adult census dataset with only numerical variables"
   ]
  },
  {
   "cell_type": "code",
   "execution_count": null,
   "id": "7708a6d6",
   "metadata": {},
   "outputs": [],
   "source": [
    "import pandas as pd\n",
    "adult_census = pd.read_csv(\"../datasets/adult-census-numeric.csv\")\n",
    "data = adult_census.drop(columns=\"class\")\n",
    "target = adult_census[\"class\"]"
   ]
  },
  {
   "cell_type": "markdown",
   "id": "932973b8",
   "metadata": {},
   "source": [
    "In the previous notebook we used `model = KNeighborsClassifier()`. All\n",
    "scikit-learn models can be created without arguments, which means that you\n",
    "don't need to understand the details of the model to use it in scikit-learn.\n",
    "\n",
    "One of the `KNeighborsClassifier` parameters is `n_neighbors`. It controls\n",
    "the number of neighbors we are going to use to make a prediction for a new\n",
    "data point.\n",
    "\n",
    "What is the default value of the `n_neighbors` parameter? Hint: Look at the\n",
    "documentation on the [scikit-learn\n",
    "website](https://scikit-learn.org/stable/modules/generated/sklearn.neighbors.KNeighborsClassifier.html)\n",
    "or directly access the description inside your notebook by running the\n",
    "following cell. This will open a pager pointing to the documentation."
   ]
  },
  {
   "cell_type": "code",
   "execution_count": null,
   "id": "054d0365",
   "metadata": {},
   "outputs": [],
   "source": [
    "from sklearn.neighbors import KNeighborsClassifier\n",
    "\n",
    "KNeighborsClassifier?"
   ]
  },
  {
   "cell_type": "markdown",
   "id": "72f4dbb3",
   "metadata": {
    "tags": [
     "solution"
    ]
   },
   "source": [
    "We can see that the default value for `n_neighbors` is 5."
   ]
  },
  {
   "cell_type": "markdown",
   "id": "1f36b3c7",
   "metadata": {},
   "source": [
    "Create a `KNeighborsClassifier` model with `n_neighbors=50`"
   ]
  },
  {
   "cell_type": "code",
   "execution_count": null,
   "id": "e48b9eed",
   "metadata": {},
   "outputs": [],
   "source": [
    "# solution\n",
    "model = KNeighborsClassifier(n_neighbors=50)"
   ]
  },
  {
   "cell_type": "markdown",
   "id": "5b13637e",
   "metadata": {},
   "source": [
    "Fit this model on the data and target loaded above"
   ]
  },
  {
   "cell_type": "code",
   "execution_count": null,
   "id": "a5234fff",
   "metadata": {},
   "outputs": [],
   "source": [
    "# solution\n",
    "model.fit(data, target)"
   ]
  },
  {
   "cell_type": "markdown",
   "id": "ffd6210a",
   "metadata": {},
   "source": [
    "Use your model to make predictions on the first 10 data points inside the\n",
    "data. Do they match the actual target values?"
   ]
  },
  {
   "cell_type": "code",
   "execution_count": null,
   "id": "8460fcd2",
   "metadata": {},
   "outputs": [],
   "source": [
    "# solution\n",
    "first_data_values = data.iloc[:10]\n",
    "first_predictions = model.predict(first_data_values)\n",
    "first_predictions"
   ]
  },
  {
   "cell_type": "code",
   "execution_count": null,
   "id": "85b2bf55",
   "metadata": {
    "tags": [
     "solution"
    ]
   },
   "outputs": [],
   "source": [
    "first_target_values = target.iloc[:10]\n",
    "first_target_values"
   ]
  },
  {
   "cell_type": "code",
   "execution_count": null,
   "id": "93293f88",
   "metadata": {
    "tags": [
     "solution"
    ]
   },
   "outputs": [],
   "source": [
    "number_of_correct_predictions = (\n",
    "    first_predictions == first_target_values).sum()\n",
    "number_of_predictions = len(first_predictions)\n",
    "print(\n",
    "    f\"{number_of_correct_predictions}/{number_of_predictions} \"\n",
    "    \"of predictions are correct\")"
   ]
  },
  {
   "cell_type": "markdown",
   "id": "d23baba1",
   "metadata": {},
   "source": [
    "Compute the accuracy on the training data."
   ]
  },
  {
   "cell_type": "code",
   "execution_count": null,
   "id": "46bf2cf1",
   "metadata": {},
   "outputs": [],
   "source": [
    "# solution\n",
    "model.score(data, target)"
   ]
  },
  {
   "cell_type": "markdown",
   "id": "035fbc15",
   "metadata": {},
   "source": [
    "Now load the test data from `\"../datasets/adult-census-numeric-test.csv\"` and\n",
    "compute the accuracy on the test data."
   ]
  },
  {
   "cell_type": "code",
   "execution_count": null,
   "id": "2b4beb0a",
   "metadata": {},
   "outputs": [],
   "source": [
    "# solution\n",
    "adult_census_test = pd.read_csv(\"../datasets/adult-census-numeric-test.csv\")\n",
    "\n",
    "data_test = adult_census_test.drop(columns=\"class\")\n",
    "target_test = adult_census_test[\"class\"]\n",
    "\n",
    "model.score(data_test, target_test)"
   ]
  },
  {
   "cell_type": "markdown",
   "id": "361c715c",
   "metadata": {
    "tags": [
     "solution"
    ]
   },
   "source": [
    "Looking at the previous notebook, the accuracy seems slightly higher with\n",
    "`n_neighbors=50` than with `n_neighbors=5` (the default value)."
   ]
  }
 ],
 "metadata": {
  "jupytext": {
   "main_language": "python"
  },
  "kernelspec": {
   "display_name": "Python 3 (ipykernel)",
   "language": "python",
   "name": "python3"
  },
  "language_info": {
   "codemirror_mode": {
    "name": "ipython",
    "version": 3
   },
   "file_extension": ".py",
   "mimetype": "text/x-python",
   "name": "python",
   "nbconvert_exporter": "python",
   "pygments_lexer": "ipython3",
   "version": "3.9.10"
  }
 },
 "nbformat": 4,
 "nbformat_minor": 5
}
