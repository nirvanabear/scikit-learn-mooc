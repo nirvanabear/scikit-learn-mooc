{
 "cells": [
  {
   "cell_type": "markdown",
   "id": "575a6842",
   "metadata": {},
   "source": [
    "# 📝 Exercise M4.03\n",
    "\n",
    "In all previous notebooks, we only used a single feature in `data`. But we\n",
    "have already shown that we could add new features to make the model more\n",
    "expressive by deriving new features, based on the original feature.\n",
    "\n",
    "The aim of this notebook is to train a linear regression algorithm on a\n",
    "dataset with more than a single feature.\n",
    "\n",
    "We will load a dataset about house prices in California.\n",
    "The dataset consists of 8 features regarding the demography and geography of\n",
    "districts in California and the aim is to predict the median house price of\n",
    "each district. We will use all 8 features to predict the target, the median\n",
    "house price."
   ]
  },
  {
   "cell_type": "markdown",
   "id": "175361fc",
   "metadata": {},
   "source": [
    "<div class=\"admonition note alert alert-info\">\n",
    "<p class=\"first admonition-title\" style=\"font-weight: bold;\">Note</p>\n",
    "<p class=\"last\">If you want a deeper overview regarding this dataset, you can refer to the\n",
    "Appendix - Datasets description section at the end of this MOOC.</p>\n",
    "</div>"
   ]
  },
  {
   "cell_type": "code",
   "execution_count": 1,
   "id": "4a69e865",
   "metadata": {},
   "outputs": [
    {
     "data": {
      "text/html": [
       "<div>\n",
       "<style scoped>\n",
       "    .dataframe tbody tr th:only-of-type {\n",
       "        vertical-align: middle;\n",
       "    }\n",
       "\n",
       "    .dataframe tbody tr th {\n",
       "        vertical-align: top;\n",
       "    }\n",
       "\n",
       "    .dataframe thead th {\n",
       "        text-align: right;\n",
       "    }\n",
       "</style>\n",
       "<table border=\"1\" class=\"dataframe\">\n",
       "  <thead>\n",
       "    <tr style=\"text-align: right;\">\n",
       "      <th></th>\n",
       "      <th>MedInc</th>\n",
       "      <th>HouseAge</th>\n",
       "      <th>AveRooms</th>\n",
       "      <th>AveBedrms</th>\n",
       "      <th>Population</th>\n",
       "      <th>AveOccup</th>\n",
       "      <th>Latitude</th>\n",
       "      <th>Longitude</th>\n",
       "    </tr>\n",
       "  </thead>\n",
       "  <tbody>\n",
       "    <tr>\n",
       "      <th>0</th>\n",
       "      <td>8.3252</td>\n",
       "      <td>41.0</td>\n",
       "      <td>6.984127</td>\n",
       "      <td>1.023810</td>\n",
       "      <td>322.0</td>\n",
       "      <td>2.555556</td>\n",
       "      <td>37.88</td>\n",
       "      <td>-122.23</td>\n",
       "    </tr>\n",
       "    <tr>\n",
       "      <th>1</th>\n",
       "      <td>8.3014</td>\n",
       "      <td>21.0</td>\n",
       "      <td>6.238137</td>\n",
       "      <td>0.971880</td>\n",
       "      <td>2401.0</td>\n",
       "      <td>2.109842</td>\n",
       "      <td>37.86</td>\n",
       "      <td>-122.22</td>\n",
       "    </tr>\n",
       "    <tr>\n",
       "      <th>2</th>\n",
       "      <td>7.2574</td>\n",
       "      <td>52.0</td>\n",
       "      <td>8.288136</td>\n",
       "      <td>1.073446</td>\n",
       "      <td>496.0</td>\n",
       "      <td>2.802260</td>\n",
       "      <td>37.85</td>\n",
       "      <td>-122.24</td>\n",
       "    </tr>\n",
       "    <tr>\n",
       "      <th>3</th>\n",
       "      <td>5.6431</td>\n",
       "      <td>52.0</td>\n",
       "      <td>5.817352</td>\n",
       "      <td>1.073059</td>\n",
       "      <td>558.0</td>\n",
       "      <td>2.547945</td>\n",
       "      <td>37.85</td>\n",
       "      <td>-122.25</td>\n",
       "    </tr>\n",
       "    <tr>\n",
       "      <th>4</th>\n",
       "      <td>3.8462</td>\n",
       "      <td>52.0</td>\n",
       "      <td>6.281853</td>\n",
       "      <td>1.081081</td>\n",
       "      <td>565.0</td>\n",
       "      <td>2.181467</td>\n",
       "      <td>37.85</td>\n",
       "      <td>-122.25</td>\n",
       "    </tr>\n",
       "  </tbody>\n",
       "</table>\n",
       "</div>"
      ],
      "text/plain": [
       "   MedInc  HouseAge  AveRooms  AveBedrms  Population  AveOccup  Latitude  \\\n",
       "0  8.3252      41.0  6.984127   1.023810       322.0  2.555556     37.88   \n",
       "1  8.3014      21.0  6.238137   0.971880      2401.0  2.109842     37.86   \n",
       "2  7.2574      52.0  8.288136   1.073446       496.0  2.802260     37.85   \n",
       "3  5.6431      52.0  5.817352   1.073059       558.0  2.547945     37.85   \n",
       "4  3.8462      52.0  6.281853   1.081081       565.0  2.181467     37.85   \n",
       "\n",
       "   Longitude  \n",
       "0    -122.23  \n",
       "1    -122.22  \n",
       "2    -122.24  \n",
       "3    -122.25  \n",
       "4    -122.25  "
      ]
     },
     "execution_count": 1,
     "metadata": {},
     "output_type": "execute_result"
    }
   ],
   "source": [
    "from sklearn.datasets import fetch_california_housing\n",
    "\n",
    "data, target = fetch_california_housing(as_frame=True, return_X_y=True)\n",
    "target *= 100  # rescale the target in k$\n",
    "data.head()"
   ]
  },
  {
   "cell_type": "code",
   "execution_count": 12,
   "id": "52e9da40-3915-476e-8055-fc7692d07750",
   "metadata": {},
   "outputs": [
    {
     "data": {
      "text/plain": [
       "0    452.6\n",
       "1    358.5\n",
       "2    352.1\n",
       "3    341.3\n",
       "4    342.2\n",
       "Name: MedHouseVal, dtype: float64"
      ]
     },
     "execution_count": 12,
     "metadata": {},
     "output_type": "execute_result"
    }
   ],
   "source": [
    "target.head()"
   ]
  },
  {
   "cell_type": "markdown",
   "id": "5856d04e",
   "metadata": {},
   "source": [
    "Now it is your turn to train a linear regression model on this dataset.\n",
    "First, create a linear regression model."
   ]
  },
  {
   "cell_type": "code",
   "execution_count": 2,
   "id": "6d77bf04",
   "metadata": {},
   "outputs": [],
   "source": [
    "from sklearn.linear_model import LinearRegression\n",
    "model = LinearRegression()"
   ]
  },
  {
   "cell_type": "code",
   "execution_count": 38,
   "id": "601ed35a-9b89-4c2f-a251-ac35e1c73c4f",
   "metadata": {},
   "outputs": [
    {
     "name": "stdout",
     "output_type": "stream",
     "text": [
      "[ 4.36693293e+01  9.43577803e-01 -1.07322041e+01  6.45065694e+01\n",
      " -3.97638942e-04 -3.78654265e-01 -4.21314378e+01 -4.34513755e+01]\n",
      "-3694.192020718441\n"
     ]
    }
   ],
   "source": [
    "model2 = model\n",
    "model2.fit(data, target)\n",
    "print(model2.coef_)\n",
    "print(model2.intercept_)"
   ]
  },
  {
   "cell_type": "markdown",
   "id": "6955c901",
   "metadata": {},
   "source": [
    "Execute a cross-validation with 10 folds and use the mean absolute error\n",
    "(MAE) as metric. Be sure to *return* the fitted *estimators*."
   ]
  },
  {
   "cell_type": "code",
   "execution_count": 5,
   "id": "eeac0ae5-92cc-468d-9210-2ad3fdc3d738",
   "metadata": {},
   "outputs": [
    {
     "data": {
      "text/plain": [
       "['accuracy',\n",
       " 'adjusted_mutual_info_score',\n",
       " 'adjusted_rand_score',\n",
       " 'average_precision',\n",
       " 'balanced_accuracy',\n",
       " 'completeness_score',\n",
       " 'explained_variance',\n",
       " 'f1',\n",
       " 'f1_macro',\n",
       " 'f1_micro',\n",
       " 'f1_samples',\n",
       " 'f1_weighted',\n",
       " 'fowlkes_mallows_score',\n",
       " 'homogeneity_score',\n",
       " 'jaccard',\n",
       " 'jaccard_macro',\n",
       " 'jaccard_micro',\n",
       " 'jaccard_samples',\n",
       " 'jaccard_weighted',\n",
       " 'max_error',\n",
       " 'mutual_info_score',\n",
       " 'neg_brier_score',\n",
       " 'neg_log_loss',\n",
       " 'neg_mean_absolute_error',\n",
       " 'neg_mean_absolute_percentage_error',\n",
       " 'neg_mean_gamma_deviance',\n",
       " 'neg_mean_poisson_deviance',\n",
       " 'neg_mean_squared_error',\n",
       " 'neg_mean_squared_log_error',\n",
       " 'neg_median_absolute_error',\n",
       " 'neg_root_mean_squared_error',\n",
       " 'normalized_mutual_info_score',\n",
       " 'precision',\n",
       " 'precision_macro',\n",
       " 'precision_micro',\n",
       " 'precision_samples',\n",
       " 'precision_weighted',\n",
       " 'r2',\n",
       " 'rand_score',\n",
       " 'recall',\n",
       " 'recall_macro',\n",
       " 'recall_micro',\n",
       " 'recall_samples',\n",
       " 'recall_weighted',\n",
       " 'roc_auc',\n",
       " 'roc_auc_ovo',\n",
       " 'roc_auc_ovo_weighted',\n",
       " 'roc_auc_ovr',\n",
       " 'roc_auc_ovr_weighted',\n",
       " 'top_k_accuracy',\n",
       " 'v_measure_score']"
      ]
     },
     "execution_count": 5,
     "metadata": {},
     "output_type": "execute_result"
    }
   ],
   "source": [
    "from sklearn.metrics import SCORERS\n",
    "\n",
    "sorted(SCORERS.keys())"
   ]
  },
  {
   "cell_type": "code",
   "execution_count": 6,
   "id": "394c4ab1",
   "metadata": {},
   "outputs": [],
   "source": [
    "from sklearn.model_selection import cross_validate\n",
    "cv_results = cross_validate(model, data, target, cv=10, scoring=\"neg_mean_absolute_error\", return_estimator=True)"
   ]
  },
  {
   "cell_type": "markdown",
   "id": "86908175",
   "metadata": {},
   "source": [
    "Compute the mean and std of the MAE in thousands of dollars (k$)."
   ]
  },
  {
   "cell_type": "code",
   "execution_count": 14,
   "id": "f66fcc7b-2c1d-4f7d-a8ae-9ff202752356",
   "metadata": {},
   "outputs": [
    {
     "data": {
      "text/plain": [
       "{'fit_time': array([0.02723098, 0.00789094, 0.0081358 , 0.00652313, 0.00888395,\n",
       "        0.007411  , 0.00810003, 0.00677896, 0.006392  , 0.00616097]),\n",
       " 'score_time': array([0.00914097, 0.00386119, 0.00255227, 0.00522494, 0.00204992,\n",
       "        0.00275397, 0.00226808, 0.00196314, 0.00364494, 0.00209212]),\n",
       " 'estimator': [LinearRegression(),\n",
       "  LinearRegression(),\n",
       "  LinearRegression(),\n",
       "  LinearRegression(),\n",
       "  LinearRegression(),\n",
       "  LinearRegression(),\n",
       "  LinearRegression(),\n",
       "  LinearRegression(),\n",
       "  LinearRegression(),\n",
       "  LinearRegression()],\n",
       " 'test_score': array([-53.51667968, -52.91050431, -67.85147748, -47.48574496,\n",
       "        -65.19784225, -50.0921865 , -39.62986083, -64.00626799,\n",
       "        -60.28617579, -43.54469953])}"
      ]
     },
     "execution_count": 14,
     "metadata": {},
     "output_type": "execute_result"
    }
   ],
   "source": []
  },
  {
   "cell_type": "code",
   "execution_count": 18,
   "id": "6ca32431",
   "metadata": {},
   "outputs": [
    {
     "data": {
      "text/plain": [
       "'54.452 +/- 9.109'"
      ]
     },
     "execution_count": 18,
     "metadata": {},
     "output_type": "execute_result"
    }
   ],
   "source": [
    "f\"{-cv_results['test_score'].mean():.3f} +/- {cv_results['test_score'].std():.3f}\""
   ]
  },
  {
   "cell_type": "markdown",
   "id": "dfcc4129",
   "metadata": {
    "lines_to_next_cell": 2
   },
   "source": [
    "Inspect the fitted model using a box plot to show the distribution of values\n",
    "for the coefficients returned from the cross-validation. Hint:\n",
    "use the function\n",
    "[`df.plot.box()`](https://pandas.pydata.org/pandas-docs/stable/reference/api/pandas.DataFrame.plot.box.html)\n",
    "to create a box plot."
   ]
  },
  {
   "cell_type": "code",
   "execution_count": 32,
   "id": "1fb1fc6a-9c35-4494-a2b8-789c0ef13d4f",
   "metadata": {},
   "outputs": [
    {
     "data": {
      "text/plain": [
       "Index(['MedInc', 'HouseAge', 'AveRooms', 'AveBedrms', 'Population', 'AveOccup',\n",
       "       'Latitude', 'Longitude'],\n",
       "      dtype='object')"
      ]
     },
     "execution_count": 32,
     "metadata": {},
     "output_type": "execute_result"
    }
   ],
   "source": [
    "data.columns"
   ]
  },
  {
   "cell_type": "code",
   "execution_count": 33,
   "id": "2b4381a4",
   "metadata": {},
   "outputs": [
    {
     "name": "stdout",
     "output_type": "stream",
     "text": [
      "[ 4.46132216e+01  1.07369084e+00 -1.28175474e+01  8.17098949e+01\n",
      " -4.48332964e-04 -3.78220476e-01 -4.50877281e+01 -4.79996099e+01]\n",
      "[ 4.28471348e+01  9.43540267e-01 -9.78382916e+00  6.04568155e+01\n",
      " -8.89298538e-04 -4.12785253e-01 -4.06348702e+01 -4.23809965e+01]\n",
      "[ 4.26479146e+01  9.25297917e-01 -7.77755890e+00  5.08072361e+01\n",
      " -6.74194726e-04 -3.38460963e-01 -4.11262879e+01 -4.31652409e+01]\n",
      "[ 4.38244374e+01  9.96925120e-01 -1.16072370e+01  6.81001957e+01\n",
      " -5.41734522e-04 -3.55432067e-01 -4.27550304e+01 -4.35866431e+01]\n",
      "[ 4.26292535e+01  9.07493466e-01 -9.49022234e+00  5.78375555e+01\n",
      "  3.20905763e-04 -3.48858308e-01 -4.23242852e+01 -4.41536685e+01]\n",
      "[ 4.47014606e+01  1.03060896e+00 -1.25141465e+01  7.06263982e+01\n",
      "  4.83524941e-04 -3.77876313e-01 -4.23387492e+01 -4.38138733e+01]\n",
      "[ 4.38193240e+01  9.91483156e-01 -1.10099578e+01  6.63258825e+01\n",
      " -1.14640318e-04 -3.77828031e-01 -4.17286942e+01 -4.26413538e+01]\n",
      "[ 4.28045208e+01  6.35487515e-01 -8.88503585e+00  5.43031069e+01\n",
      " -1.60246307e-03 -3.36349764e-01 -4.13970678e+01 -4.06383964e+01]\n",
      "[ 4.39883815e+01  9.00403416e-01 -1.12354130e+01  6.64415883e+01\n",
      " -4.17289768e-04 -4.26300531e-01 -4.09043608e+01 -4.15065132e+01]\n",
      "[ 4.42440871e+01  9.84845976e-01 -1.13854700e+01  6.81118426e+01\n",
      " -1.69407374e-04 -5.61851833e-01 -4.31983935e+01 -4.46590962e+01]\n"
     ]
    }
   ],
   "source": [
    "import pandas as pd\n",
    "for each in cv_results['estimator']:\n",
    "    print(each.coef_)\n",
    "weights = pd.DataFrame([lin_reg.coef_ for lin_reg in cv_results['estimator']], columns=data.columns)"
   ]
  },
  {
   "cell_type": "code",
   "execution_count": 36,
   "id": "e9d6e816-8970-43e5-a9d7-6c296ab24d78",
   "metadata": {},
   "outputs": [
    {
     "data": {
      "image/png": "[encoded data removed]",
      "text/plain": [
       "<Figure size 432x288 with 1 Axes>"
      ]
     },
     "metadata": {
      "needs_background": "light"
     },
     "output_type": "display_data"
    }
   ],
   "source": [
    "import matplotlib.pyplot as plt\n",
    "color = {\"whiskers\": \"black\", \"medians\": \"black\", \"caps\": \"black\"}\n",
    "weights.plot.box(color=color, vert=False)\n",
    "_ = plt.title(\"Value of linear regression coefficients\")"
   ]
  },
  {
   "cell_type": "code",
   "execution_count": 34,
   "id": "1c1f4300-ca09-4336-8a8b-5bdb36b88342",
   "metadata": {},
   "outputs": [
    {
     "data": {
      "text/html": [
       "<div>\n",
       "<style scoped>\n",
       "    .dataframe tbody tr th:only-of-type {\n",
       "        vertical-align: middle;\n",
       "    }\n",
       "\n",
       "    .dataframe tbody tr th {\n",
       "        vertical-align: top;\n",
       "    }\n",
       "\n",
       "    .dataframe thead th {\n",
       "        text-align: right;\n",
       "    }\n",
       "</style>\n",
       "<table border=\"1\" class=\"dataframe\">\n",
       "  <thead>\n",
       "    <tr style=\"text-align: right;\">\n",
       "      <th></th>\n",
       "      <th>MedInc</th>\n",
       "      <th>HouseAge</th>\n",
       "      <th>AveRooms</th>\n",
       "      <th>AveBedrms</th>\n",
       "      <th>Population</th>\n",
       "      <th>AveOccup</th>\n",
       "      <th>Latitude</th>\n",
       "      <th>Longitude</th>\n",
       "    </tr>\n",
       "  </thead>\n",
       "  <tbody>\n",
       "    <tr>\n",
       "      <th>0</th>\n",
       "      <td>44.613222</td>\n",
       "      <td>1.073691</td>\n",
       "      <td>-12.817547</td>\n",
       "      <td>81.709895</td>\n",
       "      <td>-0.000448</td>\n",
       "      <td>-0.378220</td>\n",
       "      <td>-45.087728</td>\n",
       "      <td>-47.999610</td>\n",
       "    </tr>\n",
       "    <tr>\n",
       "      <th>1</th>\n",
       "      <td>42.847135</td>\n",
       "      <td>0.943540</td>\n",
       "      <td>-9.783829</td>\n",
       "      <td>60.456816</td>\n",
       "      <td>-0.000889</td>\n",
       "      <td>-0.412785</td>\n",
       "      <td>-40.634870</td>\n",
       "      <td>-42.380996</td>\n",
       "    </tr>\n",
       "    <tr>\n",
       "      <th>2</th>\n",
       "      <td>42.647915</td>\n",
       "      <td>0.925298</td>\n",
       "      <td>-7.777559</td>\n",
       "      <td>50.807236</td>\n",
       "      <td>-0.000674</td>\n",
       "      <td>-0.338461</td>\n",
       "      <td>-41.126288</td>\n",
       "      <td>-43.165241</td>\n",
       "    </tr>\n",
       "    <tr>\n",
       "      <th>3</th>\n",
       "      <td>43.824437</td>\n",
       "      <td>0.996925</td>\n",
       "      <td>-11.607237</td>\n",
       "      <td>68.100196</td>\n",
       "      <td>-0.000542</td>\n",
       "      <td>-0.355432</td>\n",
       "      <td>-42.755030</td>\n",
       "      <td>-43.586643</td>\n",
       "    </tr>\n",
       "    <tr>\n",
       "      <th>4</th>\n",
       "      <td>42.629253</td>\n",
       "      <td>0.907493</td>\n",
       "      <td>-9.490222</td>\n",
       "      <td>57.837555</td>\n",
       "      <td>0.000321</td>\n",
       "      <td>-0.348858</td>\n",
       "      <td>-42.324285</td>\n",
       "      <td>-44.153669</td>\n",
       "    </tr>\n",
       "    <tr>\n",
       "      <th>5</th>\n",
       "      <td>44.701461</td>\n",
       "      <td>1.030609</td>\n",
       "      <td>-12.514147</td>\n",
       "      <td>70.626398</td>\n",
       "      <td>0.000484</td>\n",
       "      <td>-0.377876</td>\n",
       "      <td>-42.338749</td>\n",
       "      <td>-43.813873</td>\n",
       "    </tr>\n",
       "    <tr>\n",
       "      <th>6</th>\n",
       "      <td>43.819324</td>\n",
       "      <td>0.991483</td>\n",
       "      <td>-11.009958</td>\n",
       "      <td>66.325882</td>\n",
       "      <td>-0.000115</td>\n",
       "      <td>-0.377828</td>\n",
       "      <td>-41.728694</td>\n",
       "      <td>-42.641354</td>\n",
       "    </tr>\n",
       "    <tr>\n",
       "      <th>7</th>\n",
       "      <td>42.804521</td>\n",
       "      <td>0.635488</td>\n",
       "      <td>-8.885036</td>\n",
       "      <td>54.303107</td>\n",
       "      <td>-0.001602</td>\n",
       "      <td>-0.336350</td>\n",
       "      <td>-41.397068</td>\n",
       "      <td>-40.638396</td>\n",
       "    </tr>\n",
       "    <tr>\n",
       "      <th>8</th>\n",
       "      <td>43.988381</td>\n",
       "      <td>0.900403</td>\n",
       "      <td>-11.235413</td>\n",
       "      <td>66.441588</td>\n",
       "      <td>-0.000417</td>\n",
       "      <td>-0.426301</td>\n",
       "      <td>-40.904361</td>\n",
       "      <td>-41.506513</td>\n",
       "    </tr>\n",
       "    <tr>\n",
       "      <th>9</th>\n",
       "      <td>44.244087</td>\n",
       "      <td>0.984846</td>\n",
       "      <td>-11.385470</td>\n",
       "      <td>68.111843</td>\n",
       "      <td>-0.000169</td>\n",
       "      <td>-0.561852</td>\n",
       "      <td>-43.198393</td>\n",
       "      <td>-44.659096</td>\n",
       "    </tr>\n",
       "  </tbody>\n",
       "</table>\n",
       "</div>"
      ],
      "text/plain": [
       "      MedInc  HouseAge   AveRooms  AveBedrms  Population  AveOccup   Latitude  \\\n",
       "0  44.613222  1.073691 -12.817547  81.709895   -0.000448 -0.378220 -45.087728   \n",
       "1  42.847135  0.943540  -9.783829  60.456816   -0.000889 -0.412785 -40.634870   \n",
       "2  42.647915  0.925298  -7.777559  50.807236   -0.000674 -0.338461 -41.126288   \n",
       "3  43.824437  0.996925 -11.607237  68.100196   -0.000542 -0.355432 -42.755030   \n",
       "4  42.629253  0.907493  -9.490222  57.837555    0.000321 -0.348858 -42.324285   \n",
       "5  44.701461  1.030609 -12.514147  70.626398    0.000484 -0.377876 -42.338749   \n",
       "6  43.819324  0.991483 -11.009958  66.325882   -0.000115 -0.377828 -41.728694   \n",
       "7  42.804521  0.635488  -8.885036  54.303107   -0.001602 -0.336350 -41.397068   \n",
       "8  43.988381  0.900403 -11.235413  66.441588   -0.000417 -0.426301 -40.904361   \n",
       "9  44.244087  0.984846 -11.385470  68.111843   -0.000169 -0.561852 -43.198393   \n",
       "\n",
       "   Longitude  \n",
       "0 -47.999610  \n",
       "1 -42.380996  \n",
       "2 -43.165241  \n",
       "3 -43.586643  \n",
       "4 -44.153669  \n",
       "5 -43.813873  \n",
       "6 -42.641354  \n",
       "7 -40.638396  \n",
       "8 -41.506513  \n",
       "9 -44.659096  "
      ]
     },
     "execution_count": 34,
     "metadata": {},
     "output_type": "execute_result"
    }
   ],
   "source": [
    "weights"
   ]
  },
  {
   "cell_type": "code",
   "execution_count": null,
   "id": "47a9c3d0-8c84-4d75-80fd-910f4a7926e8",
   "metadata": {},
   "outputs": [],
   "source": []
  }
 ],
 "metadata": {
  "jupytext": {
   "main_language": "python"
  },
  "kernelspec": {
   "display_name": "Inria",
   "language": "python",
   "name": "scikit-learn-mooc-btn2wexi"
  },
  "language_info": {
   "codemirror_mode": {
    "name": "ipython",
    "version": 3
   },
   "file_extension": ".py",
   "mimetype": "text/x-python",
   "name": "python",
   "nbconvert_exporter": "python",
   "pygments_lexer": "ipython3",
   "version": "3.9.10"
  }
 },
 "nbformat": 4,
 "nbformat_minor": 5
}
