{
 "cells": [
  {
   "cell_type": "markdown",
   "id": "717ad992",
   "metadata": {},
   "source": [
    "# 📝 Exercise M7.01\n",
    "\n",
    "In this exercise we will define dummy classification baselines and use them\n",
    "as reference to assess the relative predictive performance of a given model\n",
    "of interest.\n",
    "\n",
    "We illustrate those baselines with the help of the Adult Census dataset,\n",
    "using only the numerical features for the sake of simplicity."
   ]
  },
  {
   "cell_type": "code",
   "execution_count": 1,
   "id": "7d98f57f",
   "metadata": {},
   "outputs": [],
   "source": [
    "import pandas as pd\n",
    "\n",
    "adult_census = pd.read_csv(\"../datasets/adult-census-numeric-all.csv\")\n",
    "data, target = adult_census.drop(columns=\"class\"), adult_census[\"class\"]"
   ]
  },
  {
   "cell_type": "markdown",
   "id": "d18af0ce",
   "metadata": {},
   "source": [
    "First, define a `ShuffleSplit` cross-validation strategy taking half of the\n",
    "samples as a testing at each round. Let us use 10 cross-validation rounds."
   ]
  },
  {
   "cell_type": "code",
   "execution_count": 4,
   "id": "75006369",
   "metadata": {},
   "outputs": [],
   "source": [
    "from sklearn.model_selection import ShuffleSplit\n",
    "\n",
    "shuffle = ShuffleSplit(n_splits=10, test_size=0.5, random_state=0)"
   ]
  },
  {
   "cell_type": "markdown",
   "id": "583a9cc7",
   "metadata": {},
   "source": [
    "Next, create a machine learning pipeline composed of a transformer to\n",
    "standardize the data followed by a logistic regression classifier."
   ]
  },
  {
   "cell_type": "code",
   "execution_count": 3,
   "id": "a46374a3",
   "metadata": {},
   "outputs": [],
   "source": [
    "from sklearn.preprocessing import StandardScaler\n",
    "from sklearn.linear_model import LogisticRegression\n",
    "from sklearn.pipeline import make_pipeline\n",
    "\n",
    "model_logistic = make_pipeline(StandardScaler(), LogisticRegression())"
   ]
  },
  {
   "cell_type": "markdown",
   "id": "ffe24e4c",
   "metadata": {},
   "source": [
    "Compute the cross-validation (test) scores for the classifier on this\n",
    "dataset. Store the results pandas Series as we did in the previous notebook."
   ]
  },
  {
   "cell_type": "code",
   "execution_count": 9,
   "id": "915854c3",
   "metadata": {},
   "outputs": [],
   "source": [
    "from sklearn.model_selection import cross_validate\n",
    "\n",
    "cv_logistic = cross_validate(model_logistic, data, target, cv=shuffle, n_jobs=2, return_estimator=True)\n",
    "cv_log_series = pd.Series(cv_logistic['test_score'], name=\"Logistic\")"
   ]
  },
  {
   "cell_type": "markdown",
   "id": "4c438e68",
   "metadata": {},
   "source": [
    "Now, compute the cross-validation scores of a dummy classifier that\n",
    "constantly predicts the most frequent class observed the training set. Please\n",
    "refer to the online documentation for the [sklearn.dummy.DummyClassifier\n",
    "](https://scikit-learn.org/stable/modules/generated/sklearn.dummy.DummyClassifier.html)\n",
    "class.\n",
    "\n",
    "Store the results in a second pandas Series."
   ]
  },
  {
   "cell_type": "code",
   "execution_count": 26,
   "id": "a44939eb",
   "metadata": {},
   "outputs": [],
   "source": [
    "from sklearn.dummy import DummyClassifier\n",
    "\n",
    "dumdum = DummyClassifier(strategy='most_frequent')\n",
    "cv_dumdum = cross_validate(dumdum, data, target, cv=shuffle, n_jobs=2, return_estimator=True)\n",
    "cv_dum_series = pd.Series(cv_dumdum['test_score'], name=\"Most Frequent Dummy\")"
   ]
  },
  {
   "cell_type": "code",
   "execution_count": 11,
   "id": "faa42a2c-018e-4341-85b7-986de4f242ad",
   "metadata": {},
   "outputs": [
    {
     "data": {
      "text/plain": [
       "{'constant': None, 'random_state': None, 'strategy': 'most_frequent'}"
      ]
     },
     "execution_count": 11,
     "metadata": {},
     "output_type": "execute_result"
    }
   ],
   "source": [
    "dumdum.get_params()"
   ]
  },
  {
   "cell_type": "markdown",
   "id": "6df84249",
   "metadata": {},
   "source": [
    "Now that we collected the results from the baseline and the model,\n",
    "concatenate the test scores as columns a single pandas dataframe."
   ]
  },
  {
   "cell_type": "code",
   "execution_count": 13,
   "id": "9be2456d",
   "metadata": {},
   "outputs": [
    {
     "data": {
      "text/html": [
       "<div>\n",
       "<style scoped>\n",
       "    .dataframe tbody tr th:only-of-type {\n",
       "        vertical-align: middle;\n",
       "    }\n",
       "\n",
       "    .dataframe tbody tr th {\n",
       "        vertical-align: top;\n",
       "    }\n",
       "\n",
       "    .dataframe thead th {\n",
       "        text-align: right;\n",
       "    }\n",
       "</style>\n",
       "<table border=\"1\" class=\"dataframe\">\n",
       "  <thead>\n",
       "    <tr style=\"text-align: right;\">\n",
       "      <th></th>\n",
       "      <th>Dummy</th>\n",
       "      <th>Logistic</th>\n",
       "    </tr>\n",
       "  </thead>\n",
       "  <tbody>\n",
       "    <tr>\n",
       "      <th>0</th>\n",
       "      <td>0.760329</td>\n",
       "      <td>0.815937</td>\n",
       "    </tr>\n",
       "    <tr>\n",
       "      <th>1</th>\n",
       "      <td>0.756808</td>\n",
       "      <td>0.813849</td>\n",
       "    </tr>\n",
       "    <tr>\n",
       "      <th>2</th>\n",
       "      <td>0.759142</td>\n",
       "      <td>0.815036</td>\n",
       "    </tr>\n",
       "    <tr>\n",
       "      <th>3</th>\n",
       "      <td>0.760739</td>\n",
       "      <td>0.815569</td>\n",
       "    </tr>\n",
       "    <tr>\n",
       "      <th>4</th>\n",
       "      <td>0.761681</td>\n",
       "      <td>0.810982</td>\n",
       "    </tr>\n",
       "    <tr>\n",
       "      <th>5</th>\n",
       "      <td>0.761885</td>\n",
       "      <td>0.814709</td>\n",
       "    </tr>\n",
       "    <tr>\n",
       "      <th>6</th>\n",
       "      <td>0.757463</td>\n",
       "      <td>0.813112</td>\n",
       "    </tr>\n",
       "    <tr>\n",
       "      <th>7</th>\n",
       "      <td>0.757176</td>\n",
       "      <td>0.810327</td>\n",
       "    </tr>\n",
       "    <tr>\n",
       "      <th>8</th>\n",
       "      <td>0.761885</td>\n",
       "      <td>0.812416</td>\n",
       "    </tr>\n",
       "    <tr>\n",
       "      <th>9</th>\n",
       "      <td>0.763114</td>\n",
       "      <td>0.816388</td>\n",
       "    </tr>\n",
       "  </tbody>\n",
       "</table>\n",
       "</div>"
      ],
      "text/plain": [
       "      Dummy  Logistic\n",
       "0  0.760329  0.815937\n",
       "1  0.756808  0.813849\n",
       "2  0.759142  0.815036\n",
       "3  0.760739  0.815569\n",
       "4  0.761681  0.810982\n",
       "5  0.761885  0.814709\n",
       "6  0.757463  0.813112\n",
       "7  0.757176  0.810327\n",
       "8  0.761885  0.812416\n",
       "9  0.763114  0.816388"
      ]
     },
     "execution_count": 13,
     "metadata": {},
     "output_type": "execute_result"
    }
   ],
   "source": [
    "log_vs_dum = pd.concat([cv_dum_series, cv_log_series], axis=1)\n",
    "log_vs_dum"
   ]
  },
  {
   "cell_type": "markdown",
   "id": "2856ad10",
   "metadata": {},
   "source": [
    "\n",
    "Next, plot the histogram of the cross-validation test scores for both\n",
    "models with the help of [pandas built-in plotting\n",
    "function](https://pandas.pydata.org/pandas-docs/stable/user_guide/visualization.html#histograms).\n",
    "\n",
    "What conclusions do you draw from the results?"
   ]
  },
  {
   "cell_type": "code",
   "execution_count": 20,
   "id": "864c7478",
   "metadata": {},
   "outputs": [
    {
     "data": {
      "image/png": "[encoded data removed]",
      "text/plain": [
       "<Figure size 432x288 with 1 Axes>"
      ]
     },
     "metadata": {
      "needs_background": "light"
     },
     "output_type": "display_data"
    }
   ],
   "source": [
    "import matplotlib.pyplot as plt\n",
    "import numpy as np\n",
    "\n",
    "bins = np.linspace(start=0.75, stop=0.85, num=100)\n",
    "log_vs_dum.plot.hist(bins=bins, edgecolor=\"black\")\n",
    "plt.legend(bbox_to_anchor=(1.05, 0.8), loc=\"upper left\")\n",
    "plt.xlabel(\"Scoring\")\n",
    "_ = plt.title(\"Cross-validation testing scores\")"
   ]
  },
  {
   "cell_type": "markdown",
   "id": "5b9e7a58",
   "metadata": {},
   "source": [
    "Change the `strategy` of the dummy classifier to `\"stratified\"`, compute the\n",
    "results. Similarly compute scores for `strategy=\"uniform\"` and then the  plot\n",
    "the distribution together with the other results.\n",
    "\n",
    "Are those new baselines better than the previous one? Why is this the case?\n",
    "\n",
    "Please refer to the scikit-learn documentation on\n",
    "[sklearn.dummy.DummyClassifier](\n",
    "https://scikit-learn.org/stable/modules/generated/sklearn.dummy.DummyClassifier.html)\n",
    "to find out about the meaning of the `\"stratified\"` and `\"uniform\"`\n",
    "strategies."
   ]
  },
  {
   "cell_type": "code",
   "execution_count": 22,
   "id": "fbdd0d70-5522-474f-ba88-a69cadc7dc55",
   "metadata": {},
   "outputs": [],
   "source": [
    "dumdum2 = DummyClassifier(strategy='stratified')\n",
    "dumdum3 = DummyClassifier(strategy='uniform')\n",
    "\n",
    "cv_dum2 = cross_validate(dumdum2, data, target, cv=shuffle, n_jobs=2)\n",
    "cv_dum3 = cross_validate(dumdum3, data, target, cv=shuffle, n_jobs=2)\n",
    "\n",
    "series_cv_dum2 = pd.Series(cv_dum2['test_score'], name=\"Stratified Dummy\")\n",
    "series_cv_dum3 = pd.Series(cv_dum3['test_score'], name=\"Uniform Dummy\")"
   ]
  },
  {
   "cell_type": "code",
   "execution_count": 27,
   "id": "fcb2f429-15d2-4340-b81f-ba178873c891",
   "metadata": {},
   "outputs": [
    {
     "data": {
      "text/html": [
       "<div>\n",
       "<style scoped>\n",
       "    .dataframe tbody tr th:only-of-type {\n",
       "        vertical-align: middle;\n",
       "    }\n",
       "\n",
       "    .dataframe tbody tr th {\n",
       "        vertical-align: top;\n",
       "    }\n",
       "\n",
       "    .dataframe thead th {\n",
       "        text-align: right;\n",
       "    }\n",
       "</style>\n",
       "<table border=\"1\" class=\"dataframe\">\n",
       "  <thead>\n",
       "    <tr style=\"text-align: right;\">\n",
       "      <th></th>\n",
       "      <th>Most Frequent Dummy</th>\n",
       "      <th>Logistic</th>\n",
       "      <th>Stratified Dummy</th>\n",
       "      <th>Uniform Dummy</th>\n",
       "    </tr>\n",
       "  </thead>\n",
       "  <tbody>\n",
       "    <tr>\n",
       "      <th>0</th>\n",
       "      <td>0.760329</td>\n",
       "      <td>0.815937</td>\n",
       "      <td>0.637034</td>\n",
       "      <td>0.498464</td>\n",
       "    </tr>\n",
       "    <tr>\n",
       "      <th>1</th>\n",
       "      <td>0.756808</td>\n",
       "      <td>0.813849</td>\n",
       "      <td>0.637075</td>\n",
       "      <td>0.502232</td>\n",
       "    </tr>\n",
       "    <tr>\n",
       "      <th>2</th>\n",
       "      <td>0.759142</td>\n",
       "      <td>0.815036</td>\n",
       "      <td>0.634945</td>\n",
       "      <td>0.495434</td>\n",
       "    </tr>\n",
       "    <tr>\n",
       "      <th>3</th>\n",
       "      <td>0.760739</td>\n",
       "      <td>0.815569</td>\n",
       "      <td>0.639900</td>\n",
       "      <td>0.503911</td>\n",
       "    </tr>\n",
       "    <tr>\n",
       "      <th>4</th>\n",
       "      <td>0.761681</td>\n",
       "      <td>0.810982</td>\n",
       "      <td>0.632734</td>\n",
       "      <td>0.493141</td>\n",
       "    </tr>\n",
       "    <tr>\n",
       "      <th>5</th>\n",
       "      <td>0.761885</td>\n",
       "      <td>0.814709</td>\n",
       "      <td>0.637402</td>\n",
       "      <td>0.502191</td>\n",
       "    </tr>\n",
       "    <tr>\n",
       "      <th>6</th>\n",
       "      <td>0.757463</td>\n",
       "      <td>0.813112</td>\n",
       "      <td>0.636297</td>\n",
       "      <td>0.494206</td>\n",
       "    </tr>\n",
       "    <tr>\n",
       "      <th>7</th>\n",
       "      <td>0.757176</td>\n",
       "      <td>0.810327</td>\n",
       "      <td>0.637607</td>\n",
       "      <td>0.497891</td>\n",
       "    </tr>\n",
       "    <tr>\n",
       "      <th>8</th>\n",
       "      <td>0.761885</td>\n",
       "      <td>0.812416</td>\n",
       "      <td>0.633471</td>\n",
       "      <td>0.494533</td>\n",
       "    </tr>\n",
       "    <tr>\n",
       "      <th>9</th>\n",
       "      <td>0.763114</td>\n",
       "      <td>0.816388</td>\n",
       "      <td>0.637689</td>\n",
       "      <td>0.496253</td>\n",
       "    </tr>\n",
       "  </tbody>\n",
       "</table>\n",
       "</div>"
      ],
      "text/plain": [
       "   Most Frequent Dummy  Logistic  Stratified Dummy  Uniform Dummy\n",
       "0             0.760329  0.815937          0.637034       0.498464\n",
       "1             0.756808  0.813849          0.637075       0.502232\n",
       "2             0.759142  0.815036          0.634945       0.495434\n",
       "3             0.760739  0.815569          0.639900       0.503911\n",
       "4             0.761681  0.810982          0.632734       0.493141\n",
       "5             0.761885  0.814709          0.637402       0.502191\n",
       "6             0.757463  0.813112          0.636297       0.494206\n",
       "7             0.757176  0.810327          0.637607       0.497891\n",
       "8             0.761885  0.812416          0.633471       0.494533\n",
       "9             0.763114  0.816388          0.637689       0.496253"
      ]
     },
     "execution_count": 27,
     "metadata": {},
     "output_type": "execute_result"
    }
   ],
   "source": [
    "log_vs_all_dum = pd.concat([cv_dum_series, cv_log_series, series_cv_dum2, series_cv_dum3], axis=1)\n",
    "log_vs_all_dum"
   ]
  },
  {
   "cell_type": "code",
   "execution_count": 28,
   "id": "2872d477",
   "metadata": {},
   "outputs": [
    {
     "data": {
      "image/png": "[encoded data removed]",
      "text/plain": [
       "<Figure size 432x288 with 1 Axes>"
      ]
     },
     "metadata": {
      "needs_background": "light"
     },
     "output_type": "display_data"
    }
   ],
   "source": [
    "bins = np.linspace(start=0, stop=1, num=100)\n",
    "log_vs_all_dum.plot.hist(bins=bins, edgecolor=\"black\")\n",
    "plt.legend(bbox_to_anchor=(1.05, 0.8), loc=\"upper left\")\n",
    "plt.xlabel(\"Scoring\")\n",
    "_ = plt.title(\"Cross-validation testing scores\")"
   ]
  },
  {
   "cell_type": "code",
   "execution_count": 29,
   "id": "64e08d72-3df2-4b2b-b6f2-2fac609421c0",
   "metadata": {},
   "outputs": [
    {
     "data": {
      "text/plain": [
       "{'fit_time': array([0.1237359 , 0.09348917, 0.0792079 , 0.07769608, 0.08464003,\n",
       "        0.08623409, 0.09121275, 0.10052824, 0.0752027 , 0.08164191]),\n",
       " 'score_time': array([0.07013416, 0.08044386, 0.070611  , 0.070508  , 0.07185102,\n",
       "        0.08010912, 0.08031726, 0.07028985, 0.07000017, 0.06852412]),\n",
       " 'estimator': [Pipeline(steps=[('standardscaler', StandardScaler()),\n",
       "                  ('logisticregression', LogisticRegression())]),\n",
       "  Pipeline(steps=[('standardscaler', StandardScaler()),\n",
       "                  ('logisticregression', LogisticRegression())]),\n",
       "  Pipeline(steps=[('standardscaler', StandardScaler()),\n",
       "                  ('logisticregression', LogisticRegression())]),\n",
       "  Pipeline(steps=[('standardscaler', StandardScaler()),\n",
       "                  ('logisticregression', LogisticRegression())]),\n",
       "  Pipeline(steps=[('standardscaler', StandardScaler()),\n",
       "                  ('logisticregression', LogisticRegression())]),\n",
       "  Pipeline(steps=[('standardscaler', StandardScaler()),\n",
       "                  ('logisticregression', LogisticRegression())]),\n",
       "  Pipeline(steps=[('standardscaler', StandardScaler()),\n",
       "                  ('logisticregression', LogisticRegression())]),\n",
       "  Pipeline(steps=[('standardscaler', StandardScaler()),\n",
       "                  ('logisticregression', LogisticRegression())]),\n",
       "  Pipeline(steps=[('standardscaler', StandardScaler()),\n",
       "                  ('logisticregression', LogisticRegression())]),\n",
       "  Pipeline(steps=[('standardscaler', StandardScaler()),\n",
       "                  ('logisticregression', LogisticRegression())])],\n",
       " 'test_score': array([0.8159371 , 0.81384874, 0.81503624, 0.81556857, 0.81098235,\n",
       "        0.81470865, 0.81311167, 0.81032718, 0.81241554, 0.81638754])}"
      ]
     },
     "execution_count": 29,
     "metadata": {},
     "output_type": "execute_result"
    }
   ],
   "source": [
    "cv_logistic"
   ]
  },
  {
   "cell_type": "code",
   "execution_count": null,
   "id": "8cec7c07-6dbd-41a2-ba2b-c15fca60444d",
   "metadata": {},
   "outputs": [],
   "source": []
  }
 ],
 "metadata": {
  "jupytext": {
   "main_language": "python"
  },
  "kernelspec": {
   "display_name": "Inria",
   "language": "python",
   "name": "scikit-learn-mooc-btn2wexi"
  },
  "language_info": {
   "codemirror_mode": {
    "name": "ipython",
    "version": 3
   },
   "file_extension": ".py",
   "mimetype": "text/x-python",
   "name": "python",
   "nbconvert_exporter": "python",
   "pygments_lexer": "ipython3",
   "version": "3.9.10"
  }
 },
 "nbformat": 4,
 "nbformat_minor": 5
}
