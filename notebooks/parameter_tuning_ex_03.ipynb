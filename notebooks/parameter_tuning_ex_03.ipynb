{
 "cells": [
  {
   "cell_type": "markdown",
   "id": "87c26253",
   "metadata": {},
   "source": [
    "# 📝 Exercise M3.02\n",
    "\n",
    "The goal is to find the best set of hyperparameters which maximize the\n",
    "generalization performance on a training set.\n",
    "\n",
    "Here again with limit the size of the training set to make computation\n",
    "run faster. Feel free to increase the `train_size` value if your computer\n",
    "is powerful enough."
   ]
  },
  {
   "cell_type": "code",
   "execution_count": 1,
   "id": "1c0a8290",
   "metadata": {},
   "outputs": [],
   "source": [
    "\n",
    "import numpy as np\n",
    "import pandas as pd\n",
    "\n",
    "adult_census = pd.read_csv(\"../datasets/adult-census.csv\")\n",
    "\n",
    "target_name = \"class\"\n",
    "target = adult_census[target_name]\n",
    "data = adult_census.drop(columns=[target_name, \"education-num\"])\n",
    "from sklearn.model_selection import train_test_split\n",
    "\n",
    "data_train, data_test, target_train, target_test = train_test_split(\n",
    "    data, target, train_size=0.2, random_state=42)"
   ]
  },
  {
   "cell_type": "markdown",
   "id": "d1288032",
   "metadata": {
    "lines_to_next_cell": 0
   },
   "source": [
    "In this exercise, we will progressively define the classification pipeline\n",
    "and later tune its hyperparameters.\n",
    "\n",
    "Our pipeline should:\n",
    "* preprocess the categorical columns using a `OneHotEncoder` and use a\n",
    "  `StandardScaler` to normalize the numerical data.\n",
    "* use a `LogisticRegression` as a predictive model.\n",
    "\n",
    "Start by defining the columns and the preprocessing pipelines to be applied\n",
    "on each group of columns."
   ]
  },
  {
   "cell_type": "code",
   "execution_count": 2,
   "id": "a8f26b0a",
   "metadata": {},
   "outputs": [],
   "source": [
    "from sklearn.compose import make_column_selector as selector\n",
    "\n",
    "categorical_columns = selector(dtype_include=object)\n",
    "numerical_columns = selector(dtype_exclude=object)\n"
   ]
  },
  {
   "cell_type": "code",
   "execution_count": 3,
   "id": "a42f00a3",
   "metadata": {},
   "outputs": [],
   "source": [
    "from sklearn.preprocessing import OneHotEncoder\n",
    "from sklearn.preprocessing import StandardScaler\n",
    "\n",
    "# Write your code here."
   ]
  },
  {
   "cell_type": "markdown",
   "id": "c4ed7bb3",
   "metadata": {},
   "source": [
    "Subsequently, create a `ColumnTransformer` to redirect the specific columns\n",
    "a preprocessing pipeline."
   ]
  },
  {
   "cell_type": "code",
   "execution_count": 5,
   "id": "0863020f",
   "metadata": {},
   "outputs": [],
   "source": [
    "from sklearn.compose import ColumnTransformer\n",
    "\n",
    "preprocessor = ColumnTransformer([('OneHot', OneHotEncoder(handle_unknown=\"ignore\"), categorical_columns), ('StdScaler', StandardScaler(), numerical_columns)], sparse_threshold=0)"
   ]
  },
  {
   "cell_type": "markdown",
   "id": "837c884f",
   "metadata": {},
   "source": [
    "Assemble the final pipeline by combining the above preprocessor\n",
    "with a logistic regression classifier. Force the maximum number of\n",
    "iterations to `10_000` to ensure that the model will converge."
   ]
  },
  {
   "cell_type": "code",
   "execution_count": 6,
   "id": "40b1aac7",
   "metadata": {},
   "outputs": [],
   "source": [
    "from sklearn.pipeline import make_pipeline\n",
    "from sklearn.linear_model import LogisticRegression\n",
    "\n",
    "model = make_pipeline(preprocessor, LogisticRegression(max_iter=10_000))"
   ]
  },
  {
   "cell_type": "code",
   "execution_count": 7,
   "id": "45473007-a241-4999-b1c5-08c77bb5d6e2",
   "metadata": {},
   "outputs": [
    {
     "data": {
      "text/plain": [
       "{'memory': None,\n",
       " 'steps': [('columntransformer',\n",
       "   ColumnTransformer(sparse_threshold=0,\n",
       "                     transformers=[('OneHot',\n",
       "                                    OneHotEncoder(handle_unknown='ignore'),\n",
       "                                    <sklearn.compose._column_transformer.make_column_selector object at 0x7fed0d10f520>),\n",
       "                                   ('StdScaler', StandardScaler(),\n",
       "                                    <sklearn.compose._column_transformer.make_column_selector object at 0x7fed0d10f880>)])),\n",
       "  ('logisticregression', LogisticRegression(max_iter=10000))],\n",
       " 'verbose': False,\n",
       " 'columntransformer': ColumnTransformer(sparse_threshold=0,\n",
       "                   transformers=[('OneHot',\n",
       "                                  OneHotEncoder(handle_unknown='ignore'),\n",
       "                                  <sklearn.compose._column_transformer.make_column_selector object at 0x7fed0d10f520>),\n",
       "                                 ('StdScaler', StandardScaler(),\n",
       "                                  <sklearn.compose._column_transformer.make_column_selector object at 0x7fed0d10f880>)]),\n",
       " 'logisticregression': LogisticRegression(max_iter=10000),\n",
       " 'columntransformer__n_jobs': None,\n",
       " 'columntransformer__remainder': 'drop',\n",
       " 'columntransformer__sparse_threshold': 0,\n",
       " 'columntransformer__transformer_weights': None,\n",
       " 'columntransformer__transformers': [('OneHot',\n",
       "   OneHotEncoder(handle_unknown='ignore'),\n",
       "   <sklearn.compose._column_transformer.make_column_selector at 0x7fed0d10f520>),\n",
       "  ('StdScaler',\n",
       "   StandardScaler(),\n",
       "   <sklearn.compose._column_transformer.make_column_selector at 0x7fed0d10f880>)],\n",
       " 'columntransformer__verbose': False,\n",
       " 'columntransformer__verbose_feature_names_out': True,\n",
       " 'columntransformer__OneHot': OneHotEncoder(handle_unknown='ignore'),\n",
       " 'columntransformer__StdScaler': StandardScaler(),\n",
       " 'columntransformer__OneHot__categories': 'auto',\n",
       " 'columntransformer__OneHot__drop': None,\n",
       " 'columntransformer__OneHot__dtype': numpy.float64,\n",
       " 'columntransformer__OneHot__handle_unknown': 'ignore',\n",
       " 'columntransformer__OneHot__sparse': True,\n",
       " 'columntransformer__StdScaler__copy': True,\n",
       " 'columntransformer__StdScaler__with_mean': True,\n",
       " 'columntransformer__StdScaler__with_std': True,\n",
       " 'logisticregression__C': 1.0,\n",
       " 'logisticregression__class_weight': None,\n",
       " 'logisticregression__dual': False,\n",
       " 'logisticregression__fit_intercept': True,\n",
       " 'logisticregression__intercept_scaling': 1,\n",
       " 'logisticregression__l1_ratio': None,\n",
       " 'logisticregression__max_iter': 10000,\n",
       " 'logisticregression__multi_class': 'auto',\n",
       " 'logisticregression__n_jobs': None,\n",
       " 'logisticregression__penalty': 'l2',\n",
       " 'logisticregression__random_state': None,\n",
       " 'logisticregression__solver': 'lbfgs',\n",
       " 'logisticregression__tol': 0.0001,\n",
       " 'logisticregression__verbose': 0,\n",
       " 'logisticregression__warm_start': False}"
      ]
     },
     "execution_count": 7,
     "metadata": {},
     "output_type": "execute_result"
    }
   ],
   "source": [
    "model.get_params()"
   ]
  },
  {
   "cell_type": "markdown",
   "id": "1c5bf1fb",
   "metadata": {},
   "source": [
    "Use `RandomizedSearchCV` with `n_iter=20` to find the best set of\n",
    "hyperparameters by tuning the following parameters of the `model`:\n",
    "\n",
    "- the parameter `C` of the `LogisticRegression` with values ranging from\n",
    "  0.001 to 10. You can use a log-uniform distribution\n",
    "  (i.e. `scipy.stats.loguniform`);\n",
    "- the parameter `with_mean` of the `StandardScaler` with possible values\n",
    "  `True` or `False`;\n",
    "- the parameter `with_std` of the `StandardScaler` with possible values\n",
    "  `True` or `False`.\n",
    "\n",
    "Once the computation has completed, print the best combination of parameters\n",
    "stored in the `best_params_` attribute."
   ]
  },
  {
   "cell_type": "code",
   "execution_count": 8,
   "id": "e889dcbd",
   "metadata": {},
   "outputs": [],
   "source": [
    "from sklearn.model_selection import RandomizedSearchCV\n",
    "from scipy.stats import loguniform\n",
    "\n",
    "param_dist = {'logisticregression__C': loguniform(.001, 10),\n",
    "             'columntransformer__StdScaler__with_mean': [True, False],\n",
    "             'columntransformer__StdScaler__with_std': [True, False]}\n",
    "best_model = RandomizedSearchCV(model, param_distributions=param_dist, n_iter=20)"
   ]
  },
  {
   "cell_type": "code",
   "execution_count": 9,
   "id": "c4513a4b-4df9-4267-916c-b8466f394e47",
   "metadata": {},
   "outputs": [
    {
     "data": {
      "text/plain": [
       "RandomizedSearchCV(estimator=Pipeline(steps=[('columntransformer',\n",
       "                                              ColumnTransformer(sparse_threshold=0,\n",
       "                                                                transformers=[('OneHot',\n",
       "                                                                               OneHotEncoder(handle_unknown='ignore'),\n",
       "                                                                               <sklearn.compose._column_transformer.make_column_selector object at 0x7fed0d10f520>),\n",
       "                                                                              ('StdScaler',\n",
       "                                                                               StandardScaler(),\n",
       "                                                                               <sklearn.compose._column_transformer.make_column_selector object at 0x7fed0d10f880>)])),\n",
       "                                             ('logisticregression',\n",
       "                                              LogisticRegression(max_iter=10000))]),\n",
       "                   n_iter=20,\n",
       "                   param_distributions={'columntransformer__StdScaler__with_mean': [True,\n",
       "                                                                                    False],\n",
       "                                        'columntransformer__StdScaler__with_std': [True,\n",
       "                                                                                   False],\n",
       "                                        'logisticregression__C': <scipy.stats._distn_infrastructure.rv_frozen object at 0x7fed10fd8220>})"
      ]
     },
     "execution_count": 9,
     "metadata": {},
     "output_type": "execute_result"
    }
   ],
   "source": [
    "best_model.fit(data_train, target_train)"
   ]
  },
  {
   "cell_type": "code",
   "execution_count": 10,
   "id": "a3c32877-4782-4cc5-aaca-47d732d8233a",
   "metadata": {},
   "outputs": [
    {
     "data": {
      "text/plain": [
       "{'columntransformer__StdScaler__with_mean': True,\n",
       " 'columntransformer__StdScaler__with_std': False,\n",
       " 'logisticregression__C': 0.2797311784907848}"
      ]
     },
     "execution_count": 10,
     "metadata": {},
     "output_type": "execute_result"
    }
   ],
   "source": [
    "best_model.best_params_"
   ]
  },
  {
   "cell_type": "code",
   "execution_count": null,
   "id": "e1c72b1f-442e-4e61-a6ac-5a99dd43d4f1",
   "metadata": {},
   "outputs": [],
   "source": []
  }
 ],
 "metadata": {
  "jupytext": {
   "main_language": "python"
  },
  "kernelspec": {
   "display_name": "Inria",
   "language": "python",
   "name": "scikit-learn-mooc-btn2wexi"
  },
  "language_info": {
   "codemirror_mode": {
    "name": "ipython",
    "version": 3
   },
   "file_extension": ".py",
   "mimetype": "text/x-python",
   "name": "python",
   "nbconvert_exporter": "python",
   "pygments_lexer": "ipython3",
   "version": "3.9.10"
  }
 },
 "nbformat": 4,
 "nbformat_minor": 5
}
