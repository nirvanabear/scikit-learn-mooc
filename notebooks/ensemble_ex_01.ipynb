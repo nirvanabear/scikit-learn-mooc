{
 "cells": [
  {
   "cell_type": "markdown",
   "id": "d6fa8625",
   "metadata": {},
   "source": [
    "# 📝 Exercise M6.01\n",
    "\n",
    "The aim of this notebook is to investigate if we can tune the hyperparameters\n",
    "of a bagging regressor and evaluate the gain obtained.\n",
    "\n",
    "We will load the California housing dataset and split it into a training and\n",
    "a testing set."
   ]
  },
  {
   "cell_type": "code",
   "execution_count": 1,
   "id": "f4414b1c",
   "metadata": {},
   "outputs": [],
   "source": [
    "from sklearn.datasets import fetch_california_housing\n",
    "from sklearn.model_selection import train_test_split\n",
    "\n",
    "data, target = fetch_california_housing(as_frame=True, return_X_y=True)\n",
    "target *= 100  # rescale the target in k$\n",
    "data_train, data_test, target_train, target_test = train_test_split(\n",
    "    data, target, random_state=0, test_size=0.5)"
   ]
  },
  {
   "cell_type": "code",
   "execution_count": 15,
   "id": "c888bb26-c34b-4315-ac7e-6e4019018ce6",
   "metadata": {},
   "outputs": [
    {
     "data": {
      "text/plain": [
       "(10320, 8)"
      ]
     },
     "execution_count": 15,
     "metadata": {},
     "output_type": "execute_result"
    }
   ],
   "source": [
    "data_train.shape"
   ]
  },
  {
   "cell_type": "code",
   "execution_count": null,
   "id": "59a7e0cf-d874-43cb-975b-2d9dcaf0122c",
   "metadata": {},
   "outputs": [],
   "source": []
  },
  {
   "cell_type": "markdown",
   "id": "8c15ebfc",
   "metadata": {},
   "source": [
    "<div class=\"admonition note alert alert-info\">\n",
    "<p class=\"first admonition-title\" style=\"font-weight: bold;\">Note</p>\n",
    "<p class=\"last\">If you want a deeper overview regarding this dataset, you can refer to the\n",
    "Appendix - Datasets description section at the end of this MOOC.</p>\n",
    "</div>"
   ]
  },
  {
   "cell_type": "markdown",
   "id": "95e3342d",
   "metadata": {},
   "source": [
    "Create a `BaggingRegressor` and provide a `DecisionTreeRegressor`\n",
    "to its parameter `base_estimator`. Train the regressor and evaluate its\n",
    "generalization performance on the testing set using the mean absolute error."
   ]
  },
  {
   "cell_type": "code",
   "execution_count": 34,
   "id": "abc798de",
   "metadata": {},
   "outputs": [
    {
     "data": {
      "text/plain": [
       "36.829958168604655"
      ]
     },
     "execution_count": 34,
     "metadata": {},
     "output_type": "execute_result"
    }
   ],
   "source": [
    "from sklearn.tree import DecisionTreeRegressor\n",
    "from sklearn.ensemble import BaggingRegressor\n",
    "from sklearn.metrics import mean_absolute_error\n",
    "\n",
    "# Don't use a max depth on the regressor.\n",
    "# tree = DecisionTreeRegressor(max_depth=3, random_state=0)\n",
    "\n",
    "# Don't set the number of estimators for BaggingRegressor\n",
    "# n_estimators=100\n",
    "# but we can use it in the randomized search.\n",
    "\n",
    "# Don't use squared error, use absolute.\n",
    "# bagged_error = mean_squared_error(target_test, predictions)\n",
    "\n",
    "bagged_trees = BaggingRegressor(\n",
    "    base_estimator=DecisionTreeRegressor(), n_jobs=2  \n",
    ")\n",
    "bagged_trees.fit(data_train, target_train)\n",
    "predictions = bagged_trees.predict(data_test)\n",
    "\n",
    "bagged_error = mean_absolute_error(target_test, predictions)\n",
    "bagged_error"
   ]
  },
  {
   "cell_type": "code",
   "execution_count": 19,
   "id": "0bacf335-3f07-4d10-afd7-c99527dae35a",
   "metadata": {},
   "outputs": [
    {
     "ename": "AttributeError",
     "evalue": "'BaggingRegressor' object has no attribute 'best_params_'",
     "output_type": "error",
     "traceback": [
      "\u001b[0;31m---------------------------------------------------------------------------\u001b[0m",
      "\u001b[0;31mAttributeError\u001b[0m                            Traceback (most recent call last)",
      "Input \u001b[0;32mIn [19]\u001b[0m, in \u001b[0;36m<cell line: 1>\u001b[0;34m()\u001b[0m\n\u001b[0;32m----> 1\u001b[0m \u001b[43mbagged_trees\u001b[49m\u001b[38;5;241;43m.\u001b[39;49m\u001b[43mbest_params_\u001b[49m()\n",
      "\u001b[0;31mAttributeError\u001b[0m: 'BaggingRegressor' object has no attribute 'best_params_'"
     ]
    }
   ],
   "source": [
    "bagged_trees.best_params_"
   ]
  },
  {
   "cell_type": "code",
   "execution_count": 47,
   "id": "e290d69f-7da9-4b10-ad64-07337f098457",
   "metadata": {},
   "outputs": [
    {
     "ename": "TypeError",
     "evalue": "'rv_frozen' object is not an iterator",
     "output_type": "error",
     "traceback": [
      "\u001b[0;31m---------------------------------------------------------------------------\u001b[0m",
      "\u001b[0;31mTypeError\u001b[0m                                 Traceback (most recent call last)",
      "Input \u001b[0;32mIn [47]\u001b[0m, in \u001b[0;36m<cell line: 2>\u001b[0;34m()\u001b[0m\n\u001b[1;32m      1\u001b[0m \u001b[38;5;28;01mfrom\u001b[39;00m \u001b[38;5;21;01mscipy\u001b[39;00m\u001b[38;5;21;01m.\u001b[39;00m\u001b[38;5;21;01mstats\u001b[39;00m \u001b[38;5;28;01mimport\u001b[39;00m randint\n\u001b[0;32m----> 2\u001b[0m \u001b[38;5;28;43mnext\u001b[39;49m\u001b[43m(\u001b[49m\u001b[43mrandint\u001b[49m\u001b[43m(\u001b[49m\u001b[38;5;241;43m10\u001b[39;49m\u001b[43m,\u001b[49m\u001b[43m \u001b[49m\u001b[38;5;241;43m30\u001b[39;49m\u001b[43m)\u001b[49m\u001b[43m)\u001b[49m\n",
      "\u001b[0;31mTypeError\u001b[0m: 'rv_frozen' object is not an iterator"
     ]
    }
   ],
   "source": [
    "from scipy.stats import randint\n",
    "next(randint(10, 30))"
   ]
  },
  {
   "cell_type": "code",
   "execution_count": null,
   "id": "be9950c3-09c8-47c4-ba51-ce6cda5f6706",
   "metadata": {},
   "outputs": [],
   "source": []
  },
  {
   "cell_type": "code",
   "execution_count": null,
   "id": "1a692275-f155-4c50-926c-0ee1ce65b935",
   "metadata": {},
   "outputs": [],
   "source": []
  },
  {
   "cell_type": "markdown",
   "id": "831e43a2",
   "metadata": {},
   "source": [
    "Now, create a `RandomizedSearchCV` instance using the previous model and\n",
    "tune the important parameters of the bagging regressor. Find the best\n",
    "parameters  and check if you are able to find a set of parameters that\n",
    "improve the default regressor still using the mean absolute error as a\n",
    "metric.\n",
    "\n",
    "<div class=\"admonition tip alert alert-warning\">\n",
    "<p class=\"first admonition-title\" style=\"font-weight: bold;\">Tip</p>\n",
    "<p class=\"last\">You can list the bagging regressor's parameters using the <tt class=\"docutils literal\">get_params</tt>\n",
    "method.</p>\n",
    "</div>"
   ]
  },
  {
   "cell_type": "code",
   "execution_count": 3,
   "id": "f9c0b2c7-e146-486d-ad8e-e9251e3b18fa",
   "metadata": {},
   "outputs": [
    {
     "data": {
      "text/plain": [
       "{'base_estimator__ccp_alpha': 0.0,\n",
       " 'base_estimator__criterion': 'squared_error',\n",
       " 'base_estimator__max_depth': 3,\n",
       " 'base_estimator__max_features': None,\n",
       " 'base_estimator__max_leaf_nodes': None,\n",
       " 'base_estimator__min_impurity_decrease': 0.0,\n",
       " 'base_estimator__min_samples_leaf': 1,\n",
       " 'base_estimator__min_samples_split': 2,\n",
       " 'base_estimator__min_weight_fraction_leaf': 0.0,\n",
       " 'base_estimator__random_state': None,\n",
       " 'base_estimator__splitter': 'best',\n",
       " 'base_estimator': DecisionTreeRegressor(max_depth=3),\n",
       " 'bootstrap': True,\n",
       " 'bootstrap_features': False,\n",
       " 'max_features': 1.0,\n",
       " 'max_samples': 1.0,\n",
       " 'n_estimators': 100,\n",
       " 'n_jobs': None,\n",
       " 'oob_score': False,\n",
       " 'random_state': None,\n",
       " 'verbose': 0,\n",
       " 'warm_start': False}"
      ]
     },
     "execution_count": 3,
     "metadata": {},
     "output_type": "execute_result"
    }
   ],
   "source": [
    "bagged_trees.get_params()"
   ]
  },
  {
   "cell_type": "code",
   "execution_count": null,
   "id": "710fbf2b-4360-4af2-bc16-f694ec24e53e",
   "metadata": {},
   "outputs": [],
   "source": [
    "from scipy.stats import loguniform\n",
    "\n",
    "\n",
    "class loguniform_int:\n",
    "    \"\"\"Integer valued version of the log-uniform distribution\"\"\"\n",
    "    def __init__(self, a, b):\n",
    "        self._distribution = loguniform(a, b)\n",
    "\n",
    "    def rvs(self, *args, **kwargs):\n",
    "        \"\"\"Random variable sample\"\"\"\n",
    "        return self._distribution.rvs(*args, **kwargs).astype(int)"
   ]
  },
  {
   "cell_type": "code",
   "execution_count": 8,
   "id": "f4ced413-aa86-41a9-ae23-1cd31232340a",
   "metadata": {},
   "outputs": [
    {
     "name": "stdout",
     "output_type": "stream",
     "text": [
      "[ 1.   3.5  6.   8.5 11. ]\n"
     ]
    }
   ],
   "source": [
    "import numpy as np\n",
    "print(np.linspace(1, 11, num=5))"
   ]
  },
  {
   "cell_type": "code",
   "execution_count": 49,
   "id": "30489fff-fb12-49be-82de-e5822823be48",
   "metadata": {},
   "outputs": [
    {
     "data": {
      "text/plain": [
       "[0.1,\n",
       " 0.2,\n",
       " 0.30000000000000004,\n",
       " 0.4,\n",
       " 0.5,\n",
       " 0.6000000000000001,\n",
       " 0.7000000000000001,\n",
       " 0.8,\n",
       " 0.9,\n",
       " 1.0]"
      ]
     },
     "execution_count": 49,
     "metadata": {},
     "output_type": "execute_result"
    }
   ],
   "source": [
    "[i*0.1 for i in range(1,11)]"
   ]
  },
  {
   "cell_type": "code",
   "execution_count": 52,
   "id": "3a973409",
   "metadata": {},
   "outputs": [],
   "source": [
    "from scipy.stats import randint\n",
    "from sklearn.model_selection import RandomizedSearchCV\n",
    "\n",
    "param_dist = {\n",
    "    # 'max_features': [i for i in range(1,9)],\n",
    "    'max_features': [.5, .8, 1.0],\n",
    "    'n_estimators': randint(10, 30),\n",
    "    'max_samples': [.5, .8, 1.0],\n",
    "    'base_estimator__max_depth': randint(3, 10)\n",
    "    # 'max_samples': 0,\n",
    "    # 'base_estimator__max_depth': [i for i in range(1,31)],\n",
    "    # 'base_estimator__max_leaf_nodes': [i for i in range(1,31)],\n",
    "    # 'base_estimator__min_samples_leaf': [i for i in range(1,31)]\n",
    "    # 'base_estimator__min_samples_split': [i for i in range(1,31)]\n",
    "    # 'base_estimator__min_impurity_decrease': [i for i in range(1,31)],\n",
    "}\n",
    "\n",
    "model_randomCV = RandomizedSearchCV(bagged_trees, param_distributions=param_dist, \n",
    "                                    # n_iter=10, cv=5, verbose=1\n",
    "                                    n_iter=20, scoring=\"neg_mean_absolute_error\")"
   ]
  },
  {
   "cell_type": "markdown",
   "id": "51ff7d46",
   "metadata": {},
   "source": [
    "We see that the predictor provided by the bagging regressor does not need\n",
    "much hyperparameter tuning compared to a single decision tree."
   ]
  },
  {
   "cell_type": "code",
   "execution_count": 54,
   "id": "e9f9d607-7967-4478-9387-263e181b0841",
   "metadata": {},
   "outputs": [
    {
     "data": {
      "text/plain": [
       "39.33134336333586"
      ]
     },
     "execution_count": 54,
     "metadata": {},
     "output_type": "execute_result"
    }
   ],
   "source": [
    "model_randomCV.fit(data_train, target_train)\n",
    "predictions2 = model_randomCV.predict(data_test)\n",
    "\n",
    "bagged_randomCV_error = mean_absolute_error(target_test, predictions2)\n",
    "bagged_randomCV_error"
   ]
  },
  {
   "cell_type": "code",
   "execution_count": null,
   "id": "8690e456-c01f-4284-958c-09c6bd2f5f94",
   "metadata": {},
   "outputs": [],
   "source": []
  },
  {
   "cell_type": "code",
   "execution_count": null,
   "id": "b2627926-45eb-4d7a-8bdb-8e2be259196b",
   "metadata": {},
   "outputs": [],
   "source": []
  }
 ],
 "metadata": {
  "jupytext": {
   "main_language": "python"
  },
  "kernelspec": {
   "display_name": "Inria",
   "language": "python",
   "name": "scikit-learn-mooc-btn2wexi"
  },
  "language_info": {
   "codemirror_mode": {
    "name": "ipython",
    "version": 3
   },
   "file_extension": ".py",
   "mimetype": "text/x-python",
   "name": "python",
   "nbconvert_exporter": "python",
   "pygments_lexer": "ipython3",
   "version": "3.9.10"
  }
 },
 "nbformat": 4,
 "nbformat_minor": 5
}
