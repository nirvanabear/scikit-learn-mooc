{
 "cells": [
  {
   "cell_type": "markdown",
   "id": "86c1f082",
   "metadata": {},
   "source": [
    "# 📝 Exercise M4.04\n",
    "\n",
    "In the previous notebook, we saw the effect of applying some regularization\n",
    "on the coefficient of a linear model.\n",
    "\n",
    "In this exercise, we will study the advantage of using some regularization\n",
    "when dealing with correlated features.\n",
    "\n",
    "We will first create a regression dataset. This dataset will contain 2,000\n",
    "samples and 5 features from which only 2 features will be informative."
   ]
  },
  {
   "cell_type": "code",
   "execution_count": 3,
   "id": "ca98eed3",
   "metadata": {},
   "outputs": [],
   "source": [
    "from sklearn.datasets import make_regression\n",
    "\n",
    "data, target, coef = make_regression(\n",
    "    n_samples=2_000,\n",
    "    n_features=5,\n",
    "    n_informative=2,\n",
    "    shuffle=False,\n",
    "    coef=True,\n",
    "    random_state=0,\n",
    "    noise=30,\n",
    ")"
   ]
  },
  {
   "cell_type": "markdown",
   "id": "1161d130",
   "metadata": {},
   "source": [
    "When creating the dataset, `make_regression` returns the true coefficient\n",
    "used to generate the dataset. Let's plot this information."
   ]
  },
  {
   "cell_type": "code",
   "execution_count": 4,
   "id": "48ec7d8f",
   "metadata": {},
   "outputs": [
    {
     "data": {
      "text/plain": [
       "Relevant feature #0     9.566665\n",
       "Relevant feature #1    40.192077\n",
       "Noisy feature #0        0.000000\n",
       "Noisy feature #1        0.000000\n",
       "Noisy feature #2        0.000000\n",
       "dtype: float64"
      ]
     },
     "execution_count": 4,
     "metadata": {},
     "output_type": "execute_result"
    },
    {
     "data": {
      "image/png": "[encoded data removed]",
      "text/plain": [
       "<Figure size 432x288 with 1 Axes>"
      ]
     },
     "metadata": {
      "needs_background": "light"
     },
     "output_type": "display_data"
    }
   ],
   "source": [
    "import pandas as pd\n",
    "\n",
    "feature_names = [\n",
    "    \"Relevant feature #0\",\n",
    "    \"Relevant feature #1\",\n",
    "    \"Noisy feature #0\",\n",
    "    \"Noisy feature #1\",\n",
    "    \"Noisy feature #2\",\n",
    "]\n",
    "coef = pd.Series(coef, index=feature_names)\n",
    "coef.plot.barh()\n",
    "coef"
   ]
  },
  {
   "cell_type": "markdown",
   "id": "932a95d7",
   "metadata": {},
   "source": [
    "Create a `LinearRegression` regressor and fit on the entire dataset and\n",
    "check the value of the coefficients. Are the coefficients of the linear\n",
    "regressor close to the coefficients used to generate the dataset?"
   ]
  },
  {
   "cell_type": "code",
   "execution_count": 6,
   "id": "c0924b92",
   "metadata": {},
   "outputs": [
    {
     "name": "stdout",
     "output_type": "stream",
     "text": [
      "[10.89587004 40.41128042 -0.20542454 -0.18954462  0.11129768]\n",
      "0.03035092187591669\n"
     ]
    }
   ],
   "source": [
    "from sklearn.linear_model import LinearRegression\n",
    "\n",
    "model1 = LinearRegression()\n",
    "model1.fit(data, target)\n",
    "print(model1.coef_)\n",
    "print(model1.intercept_)"
   ]
  },
  {
   "cell_type": "markdown",
   "id": "fffc7644",
   "metadata": {},
   "source": [
    "Now, create a new dataset that will be the same as `data` with 4 additional\n",
    "columns that will repeat twice features 0 and 1. This procedure will create\n",
    "perfectly correlated features."
   ]
  },
  {
   "cell_type": "code",
   "execution_count": 7,
   "id": "3fd9e72a-42da-4427-a64e-e6826c32253c",
   "metadata": {},
   "outputs": [
    {
     "data": {
      "text/plain": [
       "array([[ 1.76405235,  0.40015721,  0.97873798,  2.2408932 ,  1.86755799],\n",
       "       [-0.97727788,  0.95008842, -0.15135721, -0.10321885,  0.4105985 ],\n",
       "       [ 0.14404357,  1.45427351,  0.76103773,  0.12167502,  0.44386323],\n",
       "       ...,\n",
       "       [-0.77440295,  0.70878733,  0.0184736 , -0.10408058, -0.23485774],\n",
       "       [-0.25090635, -0.96275025,  0.49340515,  2.13305005,  0.98388829],\n",
       "       [-1.80928169,  0.04235881,  0.51687218, -0.03292069,  1.29811143]])"
      ]
     },
     "execution_count": 7,
     "metadata": {},
     "output_type": "execute_result"
    }
   ],
   "source": [
    "data"
   ]
  },
  {
   "cell_type": "code",
   "execution_count": 21,
   "id": "989fa174-3d19-41ae-ab80-bbc0dcf71f1d",
   "metadata": {},
   "outputs": [
    {
     "data": {
      "text/plain": [
       "array([[ 1.76405235,  0.40015721],\n",
       "       [-0.97727788,  0.95008842],\n",
       "       [ 0.14404357,  1.45427351],\n",
       "       ...,\n",
       "       [-0.77440295,  0.70878733],\n",
       "       [-0.25090635, -0.96275025],\n",
       "       [-1.80928169,  0.04235881]])"
      ]
     },
     "execution_count": 21,
     "metadata": {},
     "output_type": "execute_result"
    }
   ],
   "source": [
    "data[:,0:2]"
   ]
  },
  {
   "cell_type": "code",
   "execution_count": 12,
   "id": "afbb57f6-e038-4831-86e7-2b5a642ababe",
   "metadata": {},
   "outputs": [
    {
     "data": {
      "text/plain": [
       "array([[ 0.40015721],\n",
       "       [ 0.95008842],\n",
       "       [ 1.45427351],\n",
       "       ...,\n",
       "       [ 0.70878733],\n",
       "       [-0.96275025],\n",
       "       [ 0.04235881]])"
      ]
     },
     "execution_count": 12,
     "metadata": {},
     "output_type": "execute_result"
    }
   ],
   "source": [
    "data[:,1].reshape(-1,1)"
   ]
  },
  {
   "cell_type": "code",
   "execution_count": null,
   "id": "fbcae4dc-b946-45d7-b95b-847ad40d8a7e",
   "metadata": {},
   "outputs": [],
   "source": [
    "data[:]"
   ]
  },
  {
   "cell_type": "code",
   "execution_count": 13,
   "id": "34afd1af-e176-4b72-ac7d-1fadf7b4f94a",
   "metadata": {},
   "outputs": [
    {
     "data": {
      "text/plain": [
       "array([[ 1.76405235,  0.40015721,  0.97873798,  2.2408932 ,  1.86755799,\n",
       "         0.40015721],\n",
       "       [-0.97727788,  0.95008842, -0.15135721, -0.10321885,  0.4105985 ,\n",
       "         0.95008842],\n",
       "       [ 0.14404357,  1.45427351,  0.76103773,  0.12167502,  0.44386323,\n",
       "         1.45427351],\n",
       "       ...,\n",
       "       [-0.77440295,  0.70878733,  0.0184736 , -0.10408058, -0.23485774,\n",
       "         0.70878733],\n",
       "       [-0.25090635, -0.96275025,  0.49340515,  2.13305005,  0.98388829,\n",
       "        -0.96275025],\n",
       "       [-1.80928169,  0.04235881,  0.51687218, -0.03292069,  1.29811143,\n",
       "         0.04235881]])"
      ]
     },
     "execution_count": 13,
     "metadata": {},
     "output_type": "execute_result"
    }
   ],
   "source": [
    "import numpy as np\n",
    "np.concatenate((data, data[:,1].reshape(-1,1)), axis=1)"
   ]
  },
  {
   "cell_type": "code",
   "execution_count": 22,
   "id": "bb3ab649-39d3-4dd1-9dac-ae158de1e32c",
   "metadata": {},
   "outputs": [
    {
     "data": {
      "text/plain": [
       "array([[ 1.76405235,  0.40015721,  0.97873798, ...,  0.40015721,\n",
       "         1.76405235,  0.40015721],\n",
       "       [-0.97727788,  0.95008842, -0.15135721, ...,  0.95008842,\n",
       "        -0.97727788,  0.95008842],\n",
       "       [ 0.14404357,  1.45427351,  0.76103773, ...,  1.45427351,\n",
       "         0.14404357,  1.45427351],\n",
       "       ...,\n",
       "       [-0.77440295,  0.70878733,  0.0184736 , ...,  0.70878733,\n",
       "        -0.77440295,  0.70878733],\n",
       "       [-0.25090635, -0.96275025,  0.49340515, ..., -0.96275025,\n",
       "        -0.25090635, -0.96275025],\n",
       "       [-1.80928169,  0.04235881,  0.51687218, ...,  0.04235881,\n",
       "        -1.80928169,  0.04235881]])"
      ]
     },
     "execution_count": 22,
     "metadata": {},
     "output_type": "execute_result"
    }
   ],
   "source": [
    "data1 = np.concatenate((data, data[:,0:2]), axis=1)\n",
    "data2 = np.concatenate((data1, data[:,0:2]), axis=1)\n",
    "data2"
   ]
  },
  {
   "cell_type": "code",
   "execution_count": null,
   "id": "495cc505",
   "metadata": {},
   "outputs": [],
   "source": []
  },
  {
   "cell_type": "markdown",
   "id": "0acb2393",
   "metadata": {},
   "source": [
    "Fit again the linear regressor on this new dataset and check the\n",
    "coefficients. What do you observe?"
   ]
  },
  {
   "cell_type": "code",
   "execution_count": 24,
   "id": "c528ef0f",
   "metadata": {},
   "outputs": [
    {
     "name": "stdout",
     "output_type": "stream",
     "text": [
      "[ 1.31388260e+12 -1.59473665e+14 -1.99218750e-01 -1.68457031e-01\n",
      "  9.52148438e-02 -6.56941302e+11  4.12806902e+13 -6.56941302e+11\n",
      "  1.18192975e+14]\n",
      "0.031069731298306577\n"
     ]
    }
   ],
   "source": [
    "model2 = LinearRegression()\n",
    "model2.fit(data2, target)\n",
    "print(model2.coef_)\n",
    "print(model2.intercept_)"
   ]
  },
  {
   "cell_type": "markdown",
   "id": "b7fb8141",
   "metadata": {},
   "source": [
    "Create a ridge regressor and fit on the same dataset. Check the coefficients.\n",
    "What do you observe?"
   ]
  },
  {
   "cell_type": "code",
   "execution_count": 25,
   "id": "07cb2939",
   "metadata": {},
   "outputs": [
    {
     "name": "stdout",
     "output_type": "stream",
     "text": [
      "[ 3.6313933  13.46802113 -0.20549345 -0.18929961  0.11117205  3.6313933\n",
      " 13.46802113  3.6313933  13.46802113]\n",
      "0.031069731298306577\n"
     ]
    }
   ],
   "source": [
    "from sklearn.linear_model import Ridge\n",
    "\n",
    "model3 = Ridge()\n",
    "model3.fit(data2, target)\n",
    "print(model3.coef_)\n",
    "print(model2.intercept_)"
   ]
  },
  {
   "cell_type": "markdown",
   "id": "4ff51891",
   "metadata": {},
   "source": [
    "Can you find the relationship between the ridge coefficients and the original\n",
    "coefficients?"
   ]
  },
  {
   "cell_type": "code",
   "execution_count": 28,
   "id": "9bf26298",
   "metadata": {},
   "outputs": [
    {
     "data": {
      "text/plain": [
       "0.238023646574219"
      ]
     },
     "execution_count": 28,
     "metadata": {},
     "output_type": "execute_result"
    }
   ],
   "source": [
    "coef[0]/coef[1]"
   ]
  },
  {
   "cell_type": "code",
   "execution_count": 29,
   "id": "9c2a0d68-f4b8-40dd-bb6f-6ae452dad668",
   "metadata": {},
   "outputs": [
    {
     "data": {
      "text/plain": [
       "0.26963079943678414"
      ]
     },
     "execution_count": 29,
     "metadata": {},
     "output_type": "execute_result"
    }
   ],
   "source": [
    "model3.coef_[0]/model3.coef_[1]"
   ]
  },
  {
   "cell_type": "code",
   "execution_count": 30,
   "id": "0c3285ad-0967-4400-90fd-25144d9dbf48",
   "metadata": {},
   "outputs": [
    {
     "data": {
      "text/plain": [
       "10.894179909038588"
      ]
     },
     "execution_count": 30,
     "metadata": {},
     "output_type": "execute_result"
    }
   ],
   "source": [
    "model3.coef_[0] * 3"
   ]
  },
  {
   "cell_type": "code",
   "execution_count": 31,
   "id": "a9fe5927-c4fa-49bf-a310-58d7547b20ea",
   "metadata": {},
   "outputs": [
    {
     "data": {
      "text/plain": [
       "40.40406337775505"
      ]
     },
     "execution_count": 31,
     "metadata": {},
     "output_type": "execute_result"
    }
   ],
   "source": [
    "model3.coef_[1] * 3"
   ]
  },
  {
   "cell_type": "code",
   "execution_count": null,
   "id": "8f323529-60e0-4cbe-aedb-357ca0ab80e2",
   "metadata": {},
   "outputs": [],
   "source": []
  }
 ],
 "metadata": {
  "jupytext": {
   "main_language": "python"
  },
  "kernelspec": {
   "display_name": "Inria",
   "language": "python",
   "name": "scikit-learn-mooc-btn2wexi"
  },
  "language_info": {
   "codemirror_mode": {
    "name": "ipython",
    "version": 3
   },
   "file_extension": ".py",
   "mimetype": "text/x-python",
   "name": "python",
   "nbconvert_exporter": "python",
   "pygments_lexer": "ipython3",
   "version": "3.9.10"
  }
 },
 "nbformat": 4,
 "nbformat_minor": 5
}
