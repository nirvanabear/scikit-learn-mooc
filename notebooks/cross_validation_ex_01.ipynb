{
 "cells": [
  {
   "cell_type": "markdown",
   "id": "beaf60ec",
   "metadata": {},
   "source": [
    "# 📝 Exercise M2.01\n",
    "\n",
    "The aim of this exercise is to make the following experiments:\n",
    "\n",
    "* train and test a support vector machine classifier through\n",
    "  cross-validation;\n",
    "* study the effect of the parameter gamma of this classifier using a\n",
    "  validation curve;\n",
    "* use a learning curve to determine the usefulness of adding new\n",
    "  samples in the dataset when building a classifier.\n",
    "\n",
    "To make these experiments we will first load the blood transfusion dataset."
   ]
  },
  {
   "cell_type": "markdown",
   "id": "243b1652",
   "metadata": {},
   "source": [
    "<div class=\"admonition note alert alert-info\">\n",
    "<p class=\"first admonition-title\" style=\"font-weight: bold;\">Note</p>\n",
    "<p class=\"last\">If you want a deeper overview regarding this dataset, you can refer to the\n",
    "Appendix - Datasets description section at the end of this MOOC.</p>\n",
    "</div>"
   ]
  },
  {
   "cell_type": "code",
   "execution_count": 15,
   "id": "a72d5593",
   "metadata": {},
   "outputs": [],
   "source": [
    "import pandas as pd\n",
    "\n",
    "blood_transfusion = pd.read_csv(\"../datasets/blood_transfusion.csv\")\n",
    "data = blood_transfusion.drop(columns=\"Class\")\n",
    "target = blood_transfusion[\"Class\"]"
   ]
  },
  {
   "cell_type": "markdown",
   "id": "022223e2",
   "metadata": {},
   "source": [
    "We will use a support vector machine classifier (SVM). In its most simple\n",
    "form, a SVM classifier is a linear classifier behaving similarly to a\n",
    "logistic regression. Indeed, the optimization used to find the optimal\n",
    "weights of the linear model are different but we don't need to know these\n",
    "details for the exercise.\n",
    "\n",
    "Also, this classifier can become more flexible/expressive by using a\n",
    "so-called kernel that makes the model become non-linear. Again, no requirement\n",
    "regarding the mathematics is required to accomplish this exercise.\n",
    "\n",
    "We will use an RBF kernel where a parameter `gamma` allows to tune the\n",
    "flexibility of the model.\n",
    "\n",
    "First let's create a predictive pipeline made of:\n",
    "\n",
    "* a [`sklearn.preprocessing.StandardScaler`](https://scikit-learn.org/stable/modules/generated/sklearn.preprocessing.StandardScaler.html)\n",
    "  with default parameter;\n",
    "* a [`sklearn.svm.SVC`](https://scikit-learn.org/stable/modules/generated/sklearn.svm.SVC.html)\n",
    "  where the parameter `kernel` could be set to `\"rbf\"`. Note that this is the\n",
    "  default."
   ]
  },
  {
   "cell_type": "code",
   "execution_count": 17,
   "id": "928aa44d",
   "metadata": {},
   "outputs": [],
   "source": [
    "from sklearn.preprocessing import StandardScaler\n",
    "from sklearn.pipeline import make_pipeline\n",
    "from sklearn.svm import SVC\n",
    "\n",
    "model = make_pipeline(StandardScaler(), SVC())"
   ]
  },
  {
   "cell_type": "code",
   "execution_count": 7,
   "id": "8fbff0db-88ce-4cf0-b743-0d71f332764a",
   "metadata": {},
   "outputs": [
    {
     "data": {
      "text/plain": [
       "dict_keys(['C', 'break_ties', 'cache_size', 'class_weight', 'coef0', 'decision_function_shape', 'degree', 'gamma', 'kernel', 'max_iter', 'probability', 'random_state', 'shrinking', 'tol', 'verbose'])"
      ]
     },
     "execution_count": 7,
     "metadata": {},
     "output_type": "execute_result"
    }
   ],
   "source": [
    "# SVC(kernel=\"rbf\").get_params().keys()"
   ]
  },
  {
   "cell_type": "markdown",
   "id": "86c08a92",
   "metadata": {},
   "source": [
    "Evaluate the generalization performance of your model by cross-validation with a\n",
    "`ShuffleSplit` scheme. Thus, you can use\n",
    "[`sklearn.model_selection.cross_validate`](https://scikit-learn.org/stable/modules/generated/sklearn.model_selection.cross_validate.html)\n",
    "and pass a [`sklearn.model_selection.ShuffleSplit`](https://scikit-learn.org/stable/modules/generated/sklearn.model_selection.ShuffleSplit.html)\n",
    "to the `cv` parameter. Only fix the `random_state=0` in the `ShuffleSplit`\n",
    "and let the other parameters to the default."
   ]
  },
  {
   "cell_type": "code",
   "execution_count": 18,
   "id": "b64fa39a",
   "metadata": {},
   "outputs": [],
   "source": [
    "from sklearn.model_selection import ShuffleSplit\n",
    "from sklearn.model_selection import cross_validate\n",
    "\n",
    "shuffle_s = ShuffleSplit(random_state=0)\n",
    "cv_results1 = cross_validate(model, data, target, cv=shuffle_s, n_jobs=2)"
   ]
  },
  {
   "cell_type": "code",
   "execution_count": 19,
   "id": "b0489754-bfc2-449b-9630-c3f066e77925",
   "metadata": {},
   "outputs": [
    {
     "data": {
      "text/html": [
       "<div>\n",
       "<style scoped>\n",
       "    .dataframe tbody tr th:only-of-type {\n",
       "        vertical-align: middle;\n",
       "    }\n",
       "\n",
       "    .dataframe tbody tr th {\n",
       "        vertical-align: top;\n",
       "    }\n",
       "\n",
       "    .dataframe thead th {\n",
       "        text-align: right;\n",
       "    }\n",
       "</style>\n",
       "<table border=\"1\" class=\"dataframe\">\n",
       "  <thead>\n",
       "    <tr style=\"text-align: right;\">\n",
       "      <th></th>\n",
       "      <th>fit_time</th>\n",
       "      <th>score_time</th>\n",
       "      <th>test_score</th>\n",
       "    </tr>\n",
       "  </thead>\n",
       "  <tbody>\n",
       "    <tr>\n",
       "      <th>0</th>\n",
       "      <td>0.026699</td>\n",
       "      <td>0.006773</td>\n",
       "      <td>0.680000</td>\n",
       "    </tr>\n",
       "    <tr>\n",
       "      <th>1</th>\n",
       "      <td>0.025780</td>\n",
       "      <td>0.004211</td>\n",
       "      <td>0.746667</td>\n",
       "    </tr>\n",
       "    <tr>\n",
       "      <th>2</th>\n",
       "      <td>0.033066</td>\n",
       "      <td>0.007119</td>\n",
       "      <td>0.786667</td>\n",
       "    </tr>\n",
       "    <tr>\n",
       "      <th>3</th>\n",
       "      <td>0.027650</td>\n",
       "      <td>0.006336</td>\n",
       "      <td>0.800000</td>\n",
       "    </tr>\n",
       "    <tr>\n",
       "      <th>4</th>\n",
       "      <td>0.020004</td>\n",
       "      <td>0.004102</td>\n",
       "      <td>0.746667</td>\n",
       "    </tr>\n",
       "    <tr>\n",
       "      <th>5</th>\n",
       "      <td>0.015912</td>\n",
       "      <td>0.003894</td>\n",
       "      <td>0.786667</td>\n",
       "    </tr>\n",
       "    <tr>\n",
       "      <th>6</th>\n",
       "      <td>0.016849</td>\n",
       "      <td>0.004288</td>\n",
       "      <td>0.800000</td>\n",
       "    </tr>\n",
       "    <tr>\n",
       "      <th>7</th>\n",
       "      <td>0.014703</td>\n",
       "      <td>0.006922</td>\n",
       "      <td>0.826667</td>\n",
       "    </tr>\n",
       "    <tr>\n",
       "      <th>8</th>\n",
       "      <td>0.037217</td>\n",
       "      <td>0.006338</td>\n",
       "      <td>0.746667</td>\n",
       "    </tr>\n",
       "    <tr>\n",
       "      <th>9</th>\n",
       "      <td>0.036381</td>\n",
       "      <td>0.004355</td>\n",
       "      <td>0.733333</td>\n",
       "    </tr>\n",
       "  </tbody>\n",
       "</table>\n",
       "</div>"
      ],
      "text/plain": [
       "   fit_time  score_time  test_score\n",
       "0  0.026699    0.006773    0.680000\n",
       "1  0.025780    0.004211    0.746667\n",
       "2  0.033066    0.007119    0.786667\n",
       "3  0.027650    0.006336    0.800000\n",
       "4  0.020004    0.004102    0.746667\n",
       "5  0.015912    0.003894    0.786667\n",
       "6  0.016849    0.004288    0.800000\n",
       "7  0.014703    0.006922    0.826667\n",
       "8  0.037217    0.006338    0.746667\n",
       "9  0.036381    0.004355    0.733333"
      ]
     },
     "execution_count": 19,
     "metadata": {},
     "output_type": "execute_result"
    }
   ],
   "source": [
    "# solution\n",
    "from sklearn.model_selection import cross_validate, ShuffleSplit\n",
    "\n",
    "cv = ShuffleSplit(random_state=0)\n",
    "cv_results = cross_validate(model, data, target, cv=cv, n_jobs=2)\n",
    "cv_results = pd.DataFrame(cv_results)\n",
    "cv_results"
   ]
  },
  {
   "cell_type": "code",
   "execution_count": 20,
   "id": "94b6ee83-0288-4986-a760-198a9eeff4b7",
   "metadata": {},
   "outputs": [
    {
     "data": {
      "text/plain": [
       "'0.765 +/- 0.041'"
      ]
     },
     "execution_count": 20,
     "metadata": {},
     "output_type": "execute_result"
    }
   ],
   "source": [
    "f\"{cv_results1['test_score'].mean():.3f} +/- {cv_results1['test_score'].std():.3f}\""
   ]
  },
  {
   "cell_type": "markdown",
   "id": "5c7dd411",
   "metadata": {},
   "source": [
    "As previously mentioned, the parameter `gamma` is one of the parameters\n",
    "controlling under/over-fitting in support vector machine with an RBF kernel.\n",
    "\n",
    "Evaluate the effect of the parameter `gamma` by using the\n",
    "[`sklearn.model_selection.validation_curve`](https://scikit-learn.org/stable/modules/generated/sklearn.model_selection.validation_curve.html) function.\n",
    "You can leave the default `scoring=None` which is equivalent to\n",
    "`scoring=\"accuracy\"` for classification problems. You can vary `gamma`\n",
    "between `10e-3` and `10e2` by generating samples on a logarithmic scale\n",
    "with the help of `np.logspace(-3, 2, num=30)`.\n",
    "\n",
    "Since we are manipulating a `Pipeline` the parameter name will be set to\n",
    "`svc__gamma` instead of only `gamma`. You can retrieve the parameter name\n",
    "using `model.get_params().keys()`. We will go more into detail regarding\n",
    "accessing and setting hyperparameter in the next section."
   ]
  },
  {
   "cell_type": "code",
   "execution_count": 6,
   "id": "e3eac2ec-c9a7-4fcd-9dd8-6546e4dc8b39",
   "metadata": {},
   "outputs": [
    {
     "data": {
      "text/plain": [
       "dict_keys(['memory', 'steps', 'verbose', 'standardscaler', 'svc', 'standardscaler__copy', 'standardscaler__with_mean', 'standardscaler__with_std', 'svc__C', 'svc__break_ties', 'svc__cache_size', 'svc__class_weight', 'svc__coef0', 'svc__decision_function_shape', 'svc__degree', 'svc__gamma', 'svc__kernel', 'svc__max_iter', 'svc__probability', 'svc__random_state', 'svc__shrinking', 'svc__tol', 'svc__verbose'])"
      ]
     },
     "execution_count": 6,
     "metadata": {},
     "output_type": "execute_result"
    }
   ],
   "source": [
    "# model.get_params().keys()"
   ]
  },
  {
   "cell_type": "code",
   "execution_count": 21,
   "id": "b3714f50-5a4f-4c31-a17f-f1d3a696290c",
   "metadata": {},
   "outputs": [
    {
     "data": {
      "text/plain": [
       "array([1.00000000e-03, 1.48735211e-03, 2.21221629e-03, 3.29034456e-03,\n",
       "       4.89390092e-03, 7.27895384e-03, 1.08263673e-02, 1.61026203e-02,\n",
       "       2.39502662e-02, 3.56224789e-02, 5.29831691e-02, 7.88046282e-02,\n",
       "       1.17210230e-01, 1.74332882e-01, 2.59294380e-01, 3.85662042e-01,\n",
       "       5.73615251e-01, 8.53167852e-01, 1.26896100e+00, 1.88739182e+00,\n",
       "       2.80721620e+00, 4.17531894e+00, 6.21016942e+00, 9.23670857e+00,\n",
       "       1.37382380e+01, 2.04335972e+01, 3.03919538e+01, 4.52035366e+01,\n",
       "       6.72335754e+01, 1.00000000e+02])"
      ]
     },
     "execution_count": 21,
     "metadata": {},
     "output_type": "execute_result"
    }
   ],
   "source": [
    "import numpy as np\n",
    "gamma_range = np.logspace(-3, 2, num=30)\n",
    "gamma_range"
   ]
  },
  {
   "cell_type": "code",
   "execution_count": 22,
   "id": "f1e9776e",
   "metadata": {},
   "outputs": [],
   "source": [
    "from sklearn.model_selection import validation_curve\n",
    "\n",
    "train_scores1, test_scores1 = validation_curve(model, data, target, param_name=\"svc__gamma\", param_range=gamma_range, cv=shuffle_s, n_jobs=2)"
   ]
  },
  {
   "cell_type": "code",
   "execution_count": 23,
   "id": "f3a56594-648b-4983-a538-9ed934436131",
   "metadata": {},
   "outputs": [],
   "source": [
    "# solution\n",
    "import numpy as np\n",
    "from sklearn.model_selection import validation_curve\n",
    "\n",
    "gammas = np.logspace(-3, 2, num=30)\n",
    "param_name = \"svc__gamma\"\n",
    "train_scores, test_scores = validation_curve(\n",
    "    model, data, target, param_name=param_name, param_range=gammas, cv=cv,\n",
    "    n_jobs=2)"
   ]
  },
  {
   "cell_type": "code",
   "execution_count": 15,
   "id": "6e6e1f7a-344d-46a1-9dcd-6d1871682523",
   "metadata": {},
   "outputs": [],
   "source": [
    "# train_errors, test_errors = -train_scores, -test_scores\n",
    "# train_size, train_scores, test_scores = results[:3]"
   ]
  },
  {
   "cell_type": "markdown",
   "id": "a3d0d9d9",
   "metadata": {},
   "source": [
    "Plot the validation curve for the train and test scores."
   ]
  },
  {
   "cell_type": "code",
   "execution_count": 30,
   "id": "2b47e9a5",
   "metadata": {
    "tags": []
   },
   "outputs": [
    {
     "data": {
      "image/png": "[encoded data removed]",
      "text/plain": [
       "<Figure size 432x288 with 1 Axes>"
      ]
     },
     "metadata": {
      "needs_background": "light"
     },
     "output_type": "display_data"
    }
   ],
   "source": [
    "import matplotlib.pyplot as plt\n",
    "\n",
    "# plt.plot(gamma_range, train_errors.mean(axis=1))\n",
    "# plt.plot(gamma_range, test_errors.mean(axis=1))\n",
    "\n",
    "plt.errorbar(gamma_range, train_scores1.mean(axis=1),\n",
    "             yerr=train_scores1.std(axis=1), alpha=.95, label='Training score')\n",
    "plt.errorbar(gamma_range, test_scores1.mean(axis=1),\n",
    "             yerr=test_scores1.std(axis=1), alpha=.5, label='Testing score')\n",
    "\n",
    "plt.legend()\n",
    "\n",
    "plt.xscale(\"log\")\n",
    "plt.xlabel(\"Gamma\")\n",
    "plt.ylabel(\"Accuracy score\")\n",
    "_ = plt.title(\"Validation curve SVC\")\n",
    "\n",
    "'''Did we get training on using '''"
   ]
  },
  {
   "cell_type": "code",
   "execution_count": 44,
   "id": "d2aa2553-f141-4566-b5dc-b5310fa13172",
   "metadata": {},
   "outputs": [
    {
     "data": {
      "image/png": "[encoded data removed]",
      "text/plain": [
       "<Figure size 432x288 with 1 Axes>"
      ]
     },
     "metadata": {
      "needs_background": "light"
     },
     "output_type": "display_data"
    }
   ],
   "source": [
    "# solution\n",
    "import matplotlib.pyplot as plt\n",
    "\n",
    "plt.errorbar(\n",
    "    gamma_range,\n",
    "    train_scores1.mean(axis=1),\n",
    "    yerr=train_scores1.std(axis=1),\n",
    "    alpha=0.95,\n",
    "    label=\"Training score\",\n",
    ")\n",
    "plt.errorbar(\n",
    "    gamma_range,\n",
    "    test_scores1.mean(axis=1),\n",
    "    yerr=test_scores1.std(axis=1),\n",
    "    alpha=0.5,\n",
    "    label=\"Testing score\",\n",
    ")\n",
    "plt.legend()\n",
    "\n",
    "plt.xscale(\"log\")\n",
    "plt.xlabel(r\"Value of hyperparameter $\\gamma$\")\n",
    "plt.ylabel(\"Accuracy score\")\n",
    "_ = plt.title(\"Validation score of support vector machine\")"
   ]
  },
  {
   "cell_type": "code",
   "execution_count": 49,
   "id": "e5d2d2b9-e74d-4c82-9ce8-48af3777d2b3",
   "metadata": {},
   "outputs": [
    {
     "data": {
      "text/plain": [
       "array([0.76133333, 0.76133333, 0.76133333, 0.76133333, 0.76133333,\n",
       "       0.76133333, 0.76133333, 0.764     , 0.76266667, 0.76133333,\n",
       "       0.76666667, 0.76266667, 0.76266667, 0.76266667, 0.76266667,\n",
       "       0.78266667, 0.784     , 0.78      , 0.78933333, 0.78533333,\n",
       "       0.78133333, 0.78133333, 0.77333333, 0.76533333, 0.76133333,\n",
       "       0.76133333, 0.764     , 0.756     , 0.75733333, 0.75866667])"
      ]
     },
     "execution_count": 49,
     "metadata": {},
     "output_type": "execute_result"
    }
   ],
   "source": [
    "test_scores1\n",
    "len(test_scores1)\n",
    "len(test_scores1[0])\n",
    "test_scores1.mean(axis=0)\n",
    "test_scores1.mean(axis=1)"
   ]
  },
  {
   "cell_type": "markdown",
   "id": "ca611efb",
   "metadata": {},
   "source": [
    "Now, you can perform an analysis to check whether adding new samples to the\n",
    "dataset could help our model to better generalize. Compute the learning curve\n",
    "(using [`sklearn.model_selection.learning_curve`](https://scikit-learn.org/stable/modules/generated/sklearn.model_selection.learning_curve.html))\n",
    "by computing the train and test scores for different training dataset size.\n",
    "Plot the train and test scores with respect to the number of samples."
   ]
  },
  {
   "cell_type": "code",
   "execution_count": 32,
   "id": "e217472f-d642-4aa6-9043-dcab6a9cc947",
   "metadata": {},
   "outputs": [
    {
     "data": {
      "text/plain": [
       "array([0.1, 0.2, 0.3, 0.4, 0.5, 0.6, 0.7, 0.8, 0.9, 1. ])"
      ]
     },
     "execution_count": 32,
     "metadata": {},
     "output_type": "execute_result"
    }
   ],
   "source": [
    "train_sizes = np.linspace(0.1, 1.0, num=10)\n",
    "train_sizes"
   ]
  },
  {
   "cell_type": "code",
   "execution_count": 34,
   "id": "d2bf0b06",
   "metadata": {},
   "outputs": [],
   "source": [
    "from sklearn.model_selection import learning_curve\n",
    "\n",
    "results = learning_curve(\n",
    "    model, data, target, train_sizes=train_sizes, cv=shuffle_s)"
   ]
  },
  {
   "cell_type": "code",
   "execution_count": 35,
   "id": "fe6ddc80-1456-41e6-bfd7-78d2870ba949",
   "metadata": {},
   "outputs": [],
   "source": [
    "train_size, train_scores, test_scores = results\n",
    "# train_errors, test_errors = -train_scores, -test_scores"
   ]
  },
  {
   "cell_type": "code",
   "execution_count": 37,
   "id": "4d9ea01d-f808-4b63-9903-729efa44cbca",
   "metadata": {},
   "outputs": [
    {
     "data": {
      "text/plain": [
       "Text(0, 0.5, 'Accuracy')"
      ]
     },
     "execution_count": 38,
     "metadata": {},
     "output_type": "execute_result"
    },
    {
     "data": {
      "image/png": "[encoded data removed]",
      "text/plain": [
       "<Figure size 432x288 with 1 Axes>"
      ]
     },
     "metadata": {
      "needs_background": "light"
     },
     "output_type": "display_data"
    }
   ],
   "source": [
    "import matplotlib.pyplot as plt\n",
    "\n",
    "# plt.plot(gamma_range, train_errors.mean(axis=1))\n",
    "# plt.plot(gamma_range, test_errors.mean(axis=1))\n",
    "\n",
    "plt.errorbar(train_sizes, train_scores.mean(axis=1),\n",
    "             yerr=train_scores.std(axis=1), alpha=0.95, label='Training error')\n",
    "plt.errorbar(train_sizes, test_scores.mean(axis=1),\n",
    "             yerr=test_scores.std(axis=1), alpha=0.5, label='Testing error')\n",
    "\n",
    "plt.legend()\n",
    "\n",
    "plt.xlabel(\"Training set sizes\")\n",
    "plt.ylabel(\"Accuracy\")"
   ]
  },
  {
   "cell_type": "code",
   "execution_count": null,
   "id": "71c80010-f870-4294-93d7-b9ac5ebd09a8",
   "metadata": {},
   "outputs": [],
   "source": []
  }
 ],
 "metadata": {
  "jupytext": {
   "main_language": "python"
  },
  "kernelspec": {
   "display_name": "Inria",
   "language": "python",
   "name": "scikit-learn-mooc-btn2wexi"
  },
  "language_info": {
   "codemirror_mode": {
    "name": "ipython",
    "version": 3
   },
   "file_extension": ".py",
   "mimetype": "text/x-python",
   "name": "python",
   "nbconvert_exporter": "python",
   "pygments_lexer": "ipython3",
   "version": "3.9.10"
  }
 },
 "nbformat": 4,
 "nbformat_minor": 5
}
