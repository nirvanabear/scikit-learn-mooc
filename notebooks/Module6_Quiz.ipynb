{
 "cells": [
  {
   "cell_type": "markdown",
   "id": "8451f496-a443-4890-a795-ec1d860bb53f",
   "metadata": {},
   "source": [
    "This wrap-up quiz uses the penguins dataset, but notice that we do not use the traditional Species column as predictive target:"
   ]
  },
  {
   "cell_type": "code",
   "execution_count": 1,
   "id": "3708cbbe-6b9b-43ca-9e62-a5f42b3a1f81",
   "metadata": {},
   "outputs": [],
   "source": [
    "import pandas as pd\n",
    "\n",
    "dataset = pd.read_csv(\"../datasets/penguins.csv\")\n",
    "\n",
    "feature_names = [\n",
    "    \"Culmen Length (mm)\",\n",
    "    \"Culmen Depth (mm)\",\n",
    "    \"Flipper Length (mm)\",\n",
    "]\n",
    "target_name = \"Body Mass (g)\"\n",
    "\n",
    "dataset = dataset[feature_names + [target_name]].dropna(axis=\"rows\", how=\"any\")\n",
    "dataset = dataset.sample(frac=1, random_state=0).reset_index(drop=True)\n",
    "data, target = dataset[feature_names], dataset[target_name]"
   ]
  },
  {
   "cell_type": "markdown",
   "id": "289293c1-d004-4af1-841a-7f4f3ac5df23",
   "metadata": {},
   "source": [
    "We therefore define our problem as a regression problem: we want to predict the body mass of a penguin given its culmen and flipper measurements.\n",
    "\n",
    "Notice that we randomly shuffled the rows of the dataset after loading it (dataset.sample(frac=1, random_state=0)). The reason is to break a spurious order-related statistical dependency that would otherwise cause trouble with the naive cross-validation procedure we use in this notebook. The problem of order-dependent samples will be discussed in more detail on the model evaluation module and is outside of the scope of this quiz for now. Now, evaluate the following tree-based models:\n",
    "\n",
    "    a decision tree regressor, i.e. sklearn.tree.DecisionTreeRegressor\n",
    "    a random forest regressor, i.e. sklearn.ensemble.RandomForestRegressor\n",
    "\n",
    "Use the default hyper-parameter settings for both models. The only exception is to pass random_state=0 for all models to be sure to recover the exact same performance scores as the solutions to this quiz.\n",
    "\n",
    "Evaluate the generalization performance of these models using a 10-fold cross-validation:\n",
    "\n",
    "    use sklearn.model_selection.cross_validate to run the cross-validation routine\n",
    "    set the parameter cv=10 to use a 10-fold cross-validation strategy. Store the training score of the cross-validation by setting the parameter return_train_score=True in the function cross_validate as we will use it later on.\n",
    "\n",
    "<h1>Question 1</h1> (1 point possible)\n",
    "\n",
    "By comparing the cross-validation test scores fold-to-fold, count the number of times a random forest is better than a single decision tree. Select the range which this number belongs to:\n",
    "\n",
    "a) [0, 3]: the random forest model is substantially worse than the single decision tree regressor\n",
    "b) [4, 6]: both models are almost equivalent\n",
    "c) [7, 10]: the random forest model is substantially better than the single decision tree regressor "
   ]
  },
  {
   "cell_type": "code",
   "execution_count": 2,
   "id": "28ba666d-c91e-47cc-8a87-030f985050c6",
   "metadata": {},
   "outputs": [],
   "source": [
    "from sklearn.tree import DecisionTreeRegressor\n",
    "from sklearn.ensemble import RandomForestRegressor\n",
    "from sklearn.model_selection import cross_validate\n",
    "\n",
    "d_tree = DecisionTreeRegressor(random_state=0)\n",
    "r_forest = RandomForestRegressor(random_state=0)\n",
    "tree_cv = cross_validate(d_tree, data, target, cv=10, return_train_score=True, return_estimator=True)\n",
    "forest_cv = cross_validate(r_forest, data, target, cv=10, return_train_score=True, return_estimator=True)"
   ]
  },
  {
   "cell_type": "code",
   "execution_count": 6,
   "id": "87cf24d4-994a-40df-9c50-53c89425574d",
   "metadata": {},
   "outputs": [
    {
     "data": {
      "text/plain": [
       "array([ True,  True,  True,  True,  True,  True,  True,  True,  True,\n",
       "        True])"
      ]
     },
     "execution_count": 6,
     "metadata": {},
     "output_type": "execute_result"
    }
   ],
   "source": [
    "tree_cv['test_score'] < forest_cv['test_score']"
   ]
  },
  {
   "cell_type": "code",
   "execution_count": 5,
   "id": "2381a732-996d-4699-aaab-1f8646ca2e47",
   "metadata": {},
   "outputs": [
    {
     "name": "stdout",
     "output_type": "stream",
     "text": [
      "[0.59650558 0.66957713 0.7193112  0.8184209  0.6242818  0.72483157\n",
      " 0.53090702 0.51655398 0.58421785 0.49038086]\n",
      "[0.78812533 0.77436104 0.88871396 0.84661427 0.78043644 0.85771461\n",
      " 0.79185662 0.73543268 0.76485281 0.8077531 ]\n"
     ]
    }
   ],
   "source": [
    "print(tree_cv['test_score'])\n",
    "print(forest_cv['test_score'])"
   ]
  },
  {
   "cell_type": "markdown",
   "id": "a8e78455-33c1-4c28-8e24-ac45482580ee",
   "metadata": {},
   "source": [
    "Now, train and evaluate with the same cross-validation strategy a random forest with 5 decision trees and another containing 100 decision trees. Once again store the training score.\n",
    "<h1>Question 2</h1> (1 point possible)\n",
    "\n",
    "By comparing the cross-validation test scores fold-to-fold, count the number of times a random forest with 100 decision trees is better than a random forest with 5 decision trees. Select the range which this number belongs to:\n",
    "a) [0, 3]: the random forest model with 100 decision trees is substantially worse than the random forest model with 5 decision trees\n",
    "b) [4, 6]: both models are almost equivalent\n",
    "c) [7, 10]: the random forest model with 100 decision trees is substantially better than the random forest model with 5 decision trees "
   ]
  },
  {
   "cell_type": "code",
   "execution_count": 11,
   "id": "e5309df6-797f-48f2-b71b-0e5adfca8b2c",
   "metadata": {},
   "outputs": [],
   "source": [
    "r_forest100 = RandomForestRegressor(n_estimators=100, random_state=0)\n",
    "r_forest5 = RandomForestRegressor(n_estimators=5, random_state=0)\n",
    "forest100_cv = cross_validate(r_forest100, data, target, cv=10, return_train_score=True, return_estimator=True)\n",
    "forest5_cv = cross_validate(r_forest5, data, target, cv=10, return_train_score=True, return_estimator=True)"
   ]
  },
  {
   "cell_type": "code",
   "execution_count": 12,
   "id": "ea6ea3fc-ef37-435f-8482-8d35d110fcf0",
   "metadata": {},
   "outputs": [
    {
     "data": {
      "text/plain": [
       "array([ True,  True,  True,  True, False,  True,  True,  True,  True,\n",
       "        True])"
      ]
     },
     "execution_count": 12,
     "metadata": {},
     "output_type": "execute_result"
    }
   ],
   "source": [
    "forest100_cv['test_score'] > forest5_cv['test_score']"
   ]
  },
  {
   "cell_type": "markdown",
   "id": "21693a6f-be11-4ed0-b0e2-46ad506f07a0",
   "metadata": {},
   "source": [
    "\n",
    "\n",
    "Plot the validation curve of the n_estimators parameters defined by:\n",
    "\n",
    "n_estimators = [1, 2, 5, 10, 20, 50, 100, 200, 500, 1_000]\n",
    "\n",
    "<h1>Question 3</h1> (1 point possible)\n",
    "\n",
    "Select the correct statements below.\n",
    "a) the train score decreases when n_estimators become large (above 500 trees)\n",
    "b) the train score reaches a plateau when n_estimators become large (above 500 trees)\n",
    "c) the train score increases when n_estimators become large (above 500 trees)\n",
    "d) the test score decreases when n_estimators become large (above 500 trees)\n",
    "e) the test score reaches a plateau when n_estimators become large (above 500 trees)\n",
    "f) the test score increases when n_estimators become large (above 500 trees) "
   ]
  },
  {
   "cell_type": "code",
   "execution_count": 22,
   "id": "024b1116-7489-4ceb-b704-057e3f6ac561",
   "metadata": {},
   "outputs": [],
   "source": [
    "from sklearn.model_selection import validation_curve\n",
    "\n",
    "forest_plain = RandomForestRegressor(random_state=0)\n",
    "\n",
    "n_estimators = [1, 2, 5, 10, 20, 50, 100, 200, 500, 1_000]\n",
    "forest_train, forest_test = validation_curve(forest_plain, data, target, param_name='n_estimators', param_range=n_estimators, n_jobs=2)"
   ]
  },
  {
   "cell_type": "code",
   "execution_count": 24,
   "id": "9e03be61-711c-462d-964b-cc1e040bc730",
   "metadata": {},
   "outputs": [
    {
     "data": {
      "text/html": [
       "<div>\n",
       "<style scoped>\n",
       "    .dataframe tbody tr th:only-of-type {\n",
       "        vertical-align: middle;\n",
       "    }\n",
       "\n",
       "    .dataframe tbody tr th {\n",
       "        vertical-align: top;\n",
       "    }\n",
       "\n",
       "    .dataframe thead th {\n",
       "        text-align: right;\n",
       "    }\n",
       "</style>\n",
       "<table border=\"1\" class=\"dataframe\">\n",
       "  <thead>\n",
       "    <tr style=\"text-align: right;\">\n",
       "      <th></th>\n",
       "      <th>0</th>\n",
       "    </tr>\n",
       "  </thead>\n",
       "  <tbody>\n",
       "    <tr>\n",
       "      <th>1</th>\n",
       "      <td>0.861528</td>\n",
       "    </tr>\n",
       "    <tr>\n",
       "      <th>2</th>\n",
       "      <td>0.912372</td>\n",
       "    </tr>\n",
       "    <tr>\n",
       "      <th>5</th>\n",
       "      <td>0.950560</td>\n",
       "    </tr>\n",
       "    <tr>\n",
       "      <th>10</th>\n",
       "      <td>0.961408</td>\n",
       "    </tr>\n",
       "    <tr>\n",
       "      <th>20</th>\n",
       "      <td>0.967479</td>\n",
       "    </tr>\n",
       "    <tr>\n",
       "      <th>50</th>\n",
       "      <td>0.972061</td>\n",
       "    </tr>\n",
       "    <tr>\n",
       "      <th>100</th>\n",
       "      <td>0.972397</td>\n",
       "    </tr>\n",
       "    <tr>\n",
       "      <th>200</th>\n",
       "      <td>0.972818</td>\n",
       "    </tr>\n",
       "    <tr>\n",
       "      <th>500</th>\n",
       "      <td>0.973158</td>\n",
       "    </tr>\n",
       "    <tr>\n",
       "      <th>1000</th>\n",
       "      <td>0.973191</td>\n",
       "    </tr>\n",
       "  </tbody>\n",
       "</table>\n",
       "</div>"
      ],
      "text/plain": [
       "             0\n",
       "1     0.861528\n",
       "2     0.912372\n",
       "5     0.950560\n",
       "10    0.961408\n",
       "20    0.967479\n",
       "50    0.972061\n",
       "100   0.972397\n",
       "200   0.972818\n",
       "500   0.973158\n",
       "1000  0.973191"
      ]
     },
     "execution_count": 24,
     "metadata": {},
     "output_type": "execute_result"
    }
   ],
   "source": [
    "import pandas as pd\n",
    "pd.DataFrame(forest_train.mean(axis=1), n_estimators)"
   ]
  },
  {
   "cell_type": "code",
   "execution_count": 25,
   "id": "e1200146-23cd-404a-9e7b-7e6f84514c0a",
   "metadata": {},
   "outputs": [
    {
     "data": {
      "text/html": [
       "<div>\n",
       "<style scoped>\n",
       "    .dataframe tbody tr th:only-of-type {\n",
       "        vertical-align: middle;\n",
       "    }\n",
       "\n",
       "    .dataframe tbody tr th {\n",
       "        vertical-align: top;\n",
       "    }\n",
       "\n",
       "    .dataframe thead th {\n",
       "        text-align: right;\n",
       "    }\n",
       "</style>\n",
       "<table border=\"1\" class=\"dataframe\">\n",
       "  <thead>\n",
       "    <tr style=\"text-align: right;\">\n",
       "      <th></th>\n",
       "      <th>0</th>\n",
       "    </tr>\n",
       "  </thead>\n",
       "  <tbody>\n",
       "    <tr>\n",
       "      <th>1</th>\n",
       "      <td>0.632427</td>\n",
       "    </tr>\n",
       "    <tr>\n",
       "      <th>2</th>\n",
       "      <td>0.715735</td>\n",
       "    </tr>\n",
       "    <tr>\n",
       "      <th>5</th>\n",
       "      <td>0.761288</td>\n",
       "    </tr>\n",
       "    <tr>\n",
       "      <th>10</th>\n",
       "      <td>0.774916</td>\n",
       "    </tr>\n",
       "    <tr>\n",
       "      <th>20</th>\n",
       "      <td>0.787109</td>\n",
       "    </tr>\n",
       "    <tr>\n",
       "      <th>50</th>\n",
       "      <td>0.796847</td>\n",
       "    </tr>\n",
       "    <tr>\n",
       "      <th>100</th>\n",
       "      <td>0.796528</td>\n",
       "    </tr>\n",
       "    <tr>\n",
       "      <th>200</th>\n",
       "      <td>0.799116</td>\n",
       "    </tr>\n",
       "    <tr>\n",
       "      <th>500</th>\n",
       "      <td>0.798490</td>\n",
       "    </tr>\n",
       "    <tr>\n",
       "      <th>1000</th>\n",
       "      <td>0.799624</td>\n",
       "    </tr>\n",
       "  </tbody>\n",
       "</table>\n",
       "</div>"
      ],
      "text/plain": [
       "             0\n",
       "1     0.632427\n",
       "2     0.715735\n",
       "5     0.761288\n",
       "10    0.774916\n",
       "20    0.787109\n",
       "50    0.796847\n",
       "100   0.796528\n",
       "200   0.799116\n",
       "500   0.798490\n",
       "1000  0.799624"
      ]
     },
     "execution_count": 25,
     "metadata": {},
     "output_type": "execute_result"
    }
   ],
   "source": [
    "pd.DataFrame(forest_test.mean(axis=1), n_estimators)"
   ]
  },
  {
   "cell_type": "code",
   "execution_count": 19,
   "id": "135ec09a-4c59-4b09-9b1c-2840e2f22cec",
   "metadata": {},
   "outputs": [
    {
     "data": {
      "text/plain": [
       "array([0.86152823, 0.91237165, 0.95056033, 0.96140771, 0.96747911,\n",
       "       0.97206105, 0.97239677, 0.97281778, 0.9731584 , 0.9731906 ])"
      ]
     },
     "execution_count": 19,
     "metadata": {},
     "output_type": "execute_result"
    }
   ],
   "source": [
    "forest_train.mean(axis=1)"
   ]
  },
  {
   "cell_type": "markdown",
   "id": "9b61f004-5877-4a7b-9279-f2d0c64ddf3f",
   "metadata": {},
   "source": [
    "\n",
    "\n",
    "Repeat the previous experiment but this time, instead of choosing the default parameters for the random forest, set the parameter max_depth=5 and build the validation curve.\n",
    "<h1>Question 4</h1> (1 point possible)\n",
    "\n",
    "Comparing the validation curve (train and test scores) of the random forest with a full depth and the random forest with a limited depth, select the correct statements.\n",
    "a) the test score of the random forest with a full depth is (almost) always better than the test score of the random forest with a limited depth\n",
    "b) the train score of the random forest with a full depth is (almost) always better than the train score of the random forest with a limited depth\n",
    "c) the gap between the train and test scores decreases when reducing the depth of the trees of the random forest\n",
    "d) the gap between the train and test scores increases when reducing the depth of the trees of the random forest "
   ]
  },
  {
   "cell_type": "code",
   "execution_count": 26,
   "id": "90cee655-854b-4f07-bb1e-b3ac40ab87d0",
   "metadata": {},
   "outputs": [],
   "source": [
    "forest_plain2 = RandomForestRegressor(max_depth=5, random_state=0)\n",
    "\n",
    "n_estimators = [1, 2, 5, 10, 20, 50, 100, 200, 500, 1_000]\n",
    "forest_train2, forest_test2 = validation_curve(forest_plain2, data, target, param_name='n_estimators', param_range=n_estimators, n_jobs=2)"
   ]
  },
  {
   "cell_type": "code",
   "execution_count": 34,
   "id": "2d4a101f-8979-43a0-a9e0-63d633c24d61",
   "metadata": {},
   "outputs": [
    {
     "data": {
      "text/html": [
       "<div>\n",
       "<style scoped>\n",
       "    .dataframe tbody tr th:only-of-type {\n",
       "        vertical-align: middle;\n",
       "    }\n",
       "\n",
       "    .dataframe tbody tr th {\n",
       "        vertical-align: top;\n",
       "    }\n",
       "\n",
       "    .dataframe thead th {\n",
       "        text-align: right;\n",
       "    }\n",
       "</style>\n",
       "<table border=\"1\" class=\"dataframe\">\n",
       "  <thead>\n",
       "    <tr style=\"text-align: right;\">\n",
       "      <th></th>\n",
       "      <th>Training 2</th>\n",
       "      <th>Testing 2</th>\n",
       "      <th>Training 1</th>\n",
       "      <th>Testing 1</th>\n",
       "    </tr>\n",
       "  </thead>\n",
       "  <tbody>\n",
       "    <tr>\n",
       "      <th>1</th>\n",
       "      <td>0.847475</td>\n",
       "      <td>0.734790</td>\n",
       "      <td>0.861528</td>\n",
       "      <td>0.632427</td>\n",
       "    </tr>\n",
       "    <tr>\n",
       "      <th>2</th>\n",
       "      <td>0.870527</td>\n",
       "      <td>0.761275</td>\n",
       "      <td>0.912372</td>\n",
       "      <td>0.715735</td>\n",
       "    </tr>\n",
       "    <tr>\n",
       "      <th>5</th>\n",
       "      <td>0.895309</td>\n",
       "      <td>0.781236</td>\n",
       "      <td>0.950560</td>\n",
       "      <td>0.761288</td>\n",
       "    </tr>\n",
       "    <tr>\n",
       "      <th>10</th>\n",
       "      <td>0.902120</td>\n",
       "      <td>0.793510</td>\n",
       "      <td>0.961408</td>\n",
       "      <td>0.774916</td>\n",
       "    </tr>\n",
       "    <tr>\n",
       "      <th>20</th>\n",
       "      <td>0.905576</td>\n",
       "      <td>0.798741</td>\n",
       "      <td>0.967479</td>\n",
       "      <td>0.787109</td>\n",
       "    </tr>\n",
       "    <tr>\n",
       "      <th>50</th>\n",
       "      <td>0.907722</td>\n",
       "      <td>0.804334</td>\n",
       "      <td>0.972061</td>\n",
       "      <td>0.796847</td>\n",
       "    </tr>\n",
       "    <tr>\n",
       "      <th>100</th>\n",
       "      <td>0.908297</td>\n",
       "      <td>0.807105</td>\n",
       "      <td>0.972397</td>\n",
       "      <td>0.796528</td>\n",
       "    </tr>\n",
       "    <tr>\n",
       "      <th>200</th>\n",
       "      <td>0.908211</td>\n",
       "      <td>0.809453</td>\n",
       "      <td>0.972818</td>\n",
       "      <td>0.799116</td>\n",
       "    </tr>\n",
       "    <tr>\n",
       "      <th>500</th>\n",
       "      <td>0.908290</td>\n",
       "      <td>0.809350</td>\n",
       "      <td>0.973158</td>\n",
       "      <td>0.798490</td>\n",
       "    </tr>\n",
       "    <tr>\n",
       "      <th>1000</th>\n",
       "      <td>0.908550</td>\n",
       "      <td>0.810312</td>\n",
       "      <td>0.973191</td>\n",
       "      <td>0.799624</td>\n",
       "    </tr>\n",
       "  </tbody>\n",
       "</table>\n",
       "</div>"
      ],
      "text/plain": [
       "      Training 2  Testing 2  Training 1  Testing 1\n",
       "1       0.847475   0.734790    0.861528   0.632427\n",
       "2       0.870527   0.761275    0.912372   0.715735\n",
       "5       0.895309   0.781236    0.950560   0.761288\n",
       "10      0.902120   0.793510    0.961408   0.774916\n",
       "20      0.905576   0.798741    0.967479   0.787109\n",
       "50      0.907722   0.804334    0.972061   0.796847\n",
       "100     0.908297   0.807105    0.972397   0.796528\n",
       "200     0.908211   0.809453    0.972818   0.799116\n",
       "500     0.908290   0.809350    0.973158   0.798490\n",
       "1000    0.908550   0.810312    0.973191   0.799624"
      ]
     },
     "execution_count": 34,
     "metadata": {},
     "output_type": "execute_result"
    }
   ],
   "source": [
    "pd.DataFrame({\"Training 2\": forest_train2.mean(axis=1),  \"Testing 2\": forest_test2.mean(axis=1), \"Training 1\": forest_train.mean(axis=1), \"Testing 1\": forest_test.mean(axis=1)}, n_estimators)"
   ]
  },
  {
   "cell_type": "code",
   "execution_count": 30,
   "id": "a07e85e0-7590-492a-b03f-9c3789179265",
   "metadata": {},
   "outputs": [
    {
     "data": {
      "text/plain": [
       "array([[False, False, False, False, False],\n",
       "       [False, False, False, False, False],\n",
       "       [False, False, False, False, False],\n",
       "       [False, False, False, False, False],\n",
       "       [False,  True, False, False, False],\n",
       "       [ True,  True, False, False, False],\n",
       "       [ True, False, False, False, False],\n",
       "       [ True,  True, False, False, False],\n",
       "       [ True,  True, False, False, False],\n",
       "       [ True,  True, False, False, False]])"
      ]
     },
     "execution_count": 30,
     "metadata": {},
     "output_type": "execute_result"
    }
   ],
   "source": [
    "forest_test > forest_test2"
   ]
  },
  {
   "cell_type": "code",
   "execution_count": 31,
   "id": "af6405a5-2733-4dde-b934-94ad4255264f",
   "metadata": {},
   "outputs": [
    {
     "data": {
      "text/plain": [
       "array([[ True,  True, False,  True,  True],\n",
       "       [ True,  True,  True,  True,  True],\n",
       "       [ True,  True,  True,  True,  True],\n",
       "       [ True,  True,  True,  True,  True],\n",
       "       [ True,  True,  True,  True,  True],\n",
       "       [ True,  True,  True,  True,  True],\n",
       "       [ True,  True,  True,  True,  True],\n",
       "       [ True,  True,  True,  True,  True],\n",
       "       [ True,  True,  True,  True,  True],\n",
       "       [ True,  True,  True,  True,  True]])"
      ]
     },
     "execution_count": 31,
     "metadata": {},
     "output_type": "execute_result"
    }
   ],
   "source": [
    "forest_train > forest_train2"
   ]
  },
  {
   "cell_type": "code",
   "execution_count": 35,
   "id": "15e5d270-61cb-4c86-a7f8-fa65a646eead",
   "metadata": {},
   "outputs": [
    {
     "data": {
      "text/html": [
       "<div>\n",
       "<style scoped>\n",
       "    .dataframe tbody tr th:only-of-type {\n",
       "        vertical-align: middle;\n",
       "    }\n",
       "\n",
       "    .dataframe tbody tr th {\n",
       "        vertical-align: top;\n",
       "    }\n",
       "\n",
       "    .dataframe thead th {\n",
       "        text-align: right;\n",
       "    }\n",
       "</style>\n",
       "<table border=\"1\" class=\"dataframe\">\n",
       "  <thead>\n",
       "    <tr style=\"text-align: right;\">\n",
       "      <th></th>\n",
       "      <th>Shallow</th>\n",
       "      <th>Deep</th>\n",
       "    </tr>\n",
       "  </thead>\n",
       "  <tbody>\n",
       "    <tr>\n",
       "      <th>1</th>\n",
       "      <td>0.112685</td>\n",
       "      <td>0.229101</td>\n",
       "    </tr>\n",
       "    <tr>\n",
       "      <th>2</th>\n",
       "      <td>0.109252</td>\n",
       "      <td>0.196637</td>\n",
       "    </tr>\n",
       "    <tr>\n",
       "      <th>5</th>\n",
       "      <td>0.114073</td>\n",
       "      <td>0.189272</td>\n",
       "    </tr>\n",
       "    <tr>\n",
       "      <th>10</th>\n",
       "      <td>0.108609</td>\n",
       "      <td>0.186491</td>\n",
       "    </tr>\n",
       "    <tr>\n",
       "      <th>20</th>\n",
       "      <td>0.106835</td>\n",
       "      <td>0.180370</td>\n",
       "    </tr>\n",
       "    <tr>\n",
       "      <th>50</th>\n",
       "      <td>0.103388</td>\n",
       "      <td>0.175214</td>\n",
       "    </tr>\n",
       "    <tr>\n",
       "      <th>100</th>\n",
       "      <td>0.101192</td>\n",
       "      <td>0.175869</td>\n",
       "    </tr>\n",
       "    <tr>\n",
       "      <th>200</th>\n",
       "      <td>0.098757</td>\n",
       "      <td>0.173702</td>\n",
       "    </tr>\n",
       "    <tr>\n",
       "      <th>500</th>\n",
       "      <td>0.098940</td>\n",
       "      <td>0.174668</td>\n",
       "    </tr>\n",
       "    <tr>\n",
       "      <th>1000</th>\n",
       "      <td>0.098238</td>\n",
       "      <td>0.173567</td>\n",
       "    </tr>\n",
       "  </tbody>\n",
       "</table>\n",
       "</div>"
      ],
      "text/plain": [
       "       Shallow      Deep\n",
       "1     0.112685  0.229101\n",
       "2     0.109252  0.196637\n",
       "5     0.114073  0.189272\n",
       "10    0.108609  0.186491\n",
       "20    0.106835  0.180370\n",
       "50    0.103388  0.175214\n",
       "100   0.101192  0.175869\n",
       "200   0.098757  0.173702\n",
       "500   0.098940  0.174668\n",
       "1000  0.098238  0.173567"
      ]
     },
     "execution_count": 35,
     "metadata": {},
     "output_type": "execute_result"
    }
   ],
   "source": [
    "pd.DataFrame({\"Shallow\": forest_train2.mean(axis=1) - forest_test2.mean(axis=1), \"Deep\": forest_train.mean(axis=1) - forest_test.mean(axis=1)}, n_estimators)"
   ]
  },
  {
   "cell_type": "code",
   "execution_count": 38,
   "id": "c495af36-5495-4ccc-b1d8-9852ce887fda",
   "metadata": {},
   "outputs": [
    {
     "name": "stdout",
     "output_type": "stream",
     "text": [
      "Shallow vs. Deep: \n"
     ]
    },
    {
     "data": {
      "text/plain": [
       "array([ True,  True,  True,  True,  True,  True,  True,  True,  True,\n",
       "        True])"
      ]
     },
     "execution_count": 38,
     "metadata": {},
     "output_type": "execute_result"
    }
   ],
   "source": [
    "print(\"Shallow vs. Deep: \")\n",
    "(forest_train2.mean(axis=1) - forest_test2.mean(axis=1)) < (forest_train.mean(axis=1) - forest_test.mean(axis=1))"
   ]
  },
  {
   "cell_type": "markdown",
   "id": "34ad475e-c632-467c-8fb1-082534746a4b",
   "metadata": {},
   "source": [
    "Let us now focus at the very beginning of the validation curves, and consider the training score of a random forests with a single tree while using the default max_depth=None parameter setting:"
   ]
  },
  {
   "cell_type": "code",
   "execution_count": 39,
   "id": "b3fe7562-f7cc-49da-8c11-5f632ac1883a",
   "metadata": {},
   "outputs": [
    {
     "data": {
      "text/plain": [
       "array([0.83120264, 0.83309064, 0.83195043, 0.84834224, 0.85790323,\n",
       "       0.86235297, 0.84791111, 0.85183089, 0.82241954, 0.85045978])"
      ]
     },
     "execution_count": 39,
     "metadata": {},
     "output_type": "execute_result"
    }
   ],
   "source": [
    "rf_1_tree = RandomForestRegressor(n_estimators=1, random_state=0)\n",
    "cv_results_tree = cross_validate(\n",
    "    rf_1_tree, data, target, cv=10, return_train_score=True\n",
    ")\n",
    "cv_results_tree[\"train_score\"]"
   ]
  },
  {
   "cell_type": "markdown",
   "id": "ef37d33f-a97e-4d2d-8412-37da4b38238d",
   "metadata": {},
   "source": [
    "should return:"
   ]
  },
  {
   "cell_type": "code",
   "execution_count": 42,
   "id": "de24d47a-2e57-4d59-b647-60b4b9b098e1",
   "metadata": {},
   "outputs": [],
   "source": [
    "import numpy as np\n",
    "should_return = np.array([0.83120264, 0.83309064, 0.83195043, 0.84834224, 0.85790323,\n",
    "       0.86235297, 0.84791111, 0.85183089, 0.82241954, 0.85045978])"
   ]
  },
  {
   "cell_type": "code",
   "execution_count": 44,
   "id": "d8255016-ad0e-405b-9bd9-fd40f9ca9b32",
   "metadata": {},
   "outputs": [
    {
     "data": {
      "text/plain": [
       "array([ 3.58898566e-09,  4.49875237e-09,  1.25440780e-09, -1.33048850e-09,\n",
       "       -1.84455973e-09,  3.25138927e-09, -2.63632782e-10,  4.30029079e-09,\n",
       "        1.53893343e-10,  1.06499920e-09])"
      ]
     },
     "execution_count": 44,
     "metadata": {},
     "output_type": "execute_result"
    }
   ],
   "source": [
    "cv_results_tree[\"train_score\"] - should_return"
   ]
  },
  {
   "cell_type": "markdown",
   "id": "baad0396-5bd2-43aa-9492-8a23d4ca6a9c",
   "metadata": {},
   "source": [
    "The fact that this single-tree Random Forest can never reach a perfect R2 score of 1.0 on the training can be surprising.\n",
    "\n",
    "Indeed, if you we evaluate the training accuracy of the single DecisionTreeRegressor one gets perfect memorization of the training data:"
   ]
  },
  {
   "cell_type": "code",
   "execution_count": 45,
   "id": "548de934-1295-477f-acc4-ecdec24c3321",
   "metadata": {},
   "outputs": [
    {
     "data": {
      "text/plain": [
       "array([1., 1., 1., 1., 1., 1., 1., 1., 1., 1.])"
      ]
     },
     "execution_count": 45,
     "metadata": {},
     "output_type": "execute_result"
    }
   ],
   "source": [
    "tree = DecisionTreeRegressor(random_state=0)\n",
    "cv_results_tree = cross_validate(\n",
    "    tree, data, target, cv=10, return_train_score=True\n",
    ")\n",
    "cv_results_tree[\"train_score\"]"
   ]
  },
  {
   "cell_type": "markdown",
   "id": "a8c682a1-732b-4cb8-8fd9-e3ffdbed8fd6",
   "metadata": {},
   "source": [
    "# Question 5\n",
    "(1/1 point)\n",
    "\n",
    "From the following statements, select the one that explains that a single-tree random forest cannot achieve perfect training scores.\n",
    "a) the single tree in the random forest is trained using a bootstrap of the training set and not the training set itself (because bootstrap=True by default) a) the single tree in the random forest is trained using a bootstrap of the training set and not the training set itself (because bootstrap=True by default) - correct\n",
    "b) for a given feature, the single tree in the random forest uses random splits while the single decision tree uses the best split\n",
    "c) the random forest automatically limits the depth of the single decision tree, which prevents overfitting "
   ]
  },
  {
   "cell_type": "markdown",
   "id": "47608363-8b5a-4a1a-8579-6790df17f024",
   "metadata": {},
   "source": [
    "\n",
    "\n",
    "Build a validation curve for a sklearn.ensemble.HistGradientBoostingRegressor varying max_iter as follows:\n",
    "\n",
    "max_iter = [1, 2, 5, 10, 20, 50, 100, 200, 500, 1_000]\n",
    "\n",
    "We recall that max_iter corresponds to the number of trees in the boosted model.\n",
    "\n",
    "Plot the average train and test score for each value of max_iter.\n",
    "<h1>Question 6</h1> (1 point possible)\n",
    "\n",
    "Select the correct statements.\n",
    "a) for a small number of trees (between 5 and 10 trees), the gradient boosting model behave like the random forest algorithm: the train scores are high while the test scores are not optimum\n",
    "b) for a small number of trees (between 5 and 10 trees), the gradient boosting model behave differently to the random forest algorithm: both the train and test scores are small\n",
    "c) with a large number of trees (> 100 trees) adding more trees in the ensemble causes the gradient boosting model overfit (increasing the gap between the train score and test score)\n",
    "d) with a large number of trees (> 100 trees) adding more trees in the ensemble does not impact the generalization performance of the gradient boosting model "
   ]
  },
  {
   "cell_type": "code",
   "execution_count": 53,
   "id": "bca8a405-6d53-4e7f-a103-c340e28a9e19",
   "metadata": {},
   "outputs": [],
   "source": [
    "from sklearn.ensemble import HistGradientBoostingRegressor\n",
    "\n",
    "max_iter = [1, 2, 5, 10, 20, 50, 100, 200, 500, 1_000]\n",
    "# max_iter = [1, 2, 5, 10, 20, 50]\n",
    "\n",
    "hist_grad = HistGradientBoostingRegressor(random_state=0)\n",
    "hgbr_train, hgbr_test = validation_curve(hist_grad, data, target, param_name='max_iter', param_range=max_iter, n_jobs=2)"
   ]
  },
  {
   "cell_type": "code",
   "execution_count": 54,
   "id": "5917c70d-9f18-4031-ade5-033e6a9ad9a6",
   "metadata": {},
   "outputs": [
    {
     "data": {
      "image/png": "[encoded data removed]",
      "text/plain": [
       "<Figure size 432x288 with 1 Axes>"
      ]
     },
     "metadata": {
      "needs_background": "light"
     },
     "output_type": "display_data"
    }
   ],
   "source": [
    "hg_train_mean = hgbr_train.mean(axis=1)\n",
    "hg_test_mean = hgbr_test.mean(axis=1)\n",
    "\n",
    "import matplotlib.pyplot as plt\n",
    "\n",
    "plt.plot(max_iter, hg_train_mean, label=\"Training score\")\n",
    "plt.plot(max_iter, hg_test_mean, label=\"Testing score\")\n",
    "\n",
    "plt.legend()\n",
    "\n",
    "plt.xlabel(\"Number of trees\")\n",
    "plt.ylabel(\"Validation score\")\n",
    "_ = plt.title(\"Validation curve: Histogram Gradient Boost Regressor\")"
   ]
  },
  {
   "cell_type": "code",
   "execution_count": null,
   "id": "6eea29e8-0147-4264-acf5-3af1981d1ec5",
   "metadata": {},
   "outputs": [],
   "source": []
  }
 ],
 "metadata": {
  "kernelspec": {
   "display_name": "Inria",
   "language": "python",
   "name": "scikit-learn-mooc-btn2wexi"
  },
  "language_info": {
   "codemirror_mode": {
    "name": "ipython",
    "version": 3
   },
   "file_extension": ".py",
   "mimetype": "text/x-python",
   "name": "python",
   "nbconvert_exporter": "python",
   "pygments_lexer": "ipython3",
   "version": "3.9.10"
  }
 },
 "nbformat": 4,
 "nbformat_minor": 5
}
