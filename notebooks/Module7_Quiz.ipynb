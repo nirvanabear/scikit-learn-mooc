{
 "cells": [
  {
   "cell_type": "code",
   "execution_count": 1,
   "id": "34310d68-2236-45d0-9a6f-3e8c23b35735",
   "metadata": {},
   "outputs": [
    {
     "data": {
      "text/plain": [
       "['/Users/nirvanabear/Documents/code/MOOCs/Scikit-learn_FUN-MOOC/scikit-learn-mooc/notebooks',\n",
       " '/Library/Frameworks/Python.framework/Versions/3.9/lib/python39.zip',\n",
       " '/Library/Frameworks/Python.framework/Versions/3.9/lib/python3.9',\n",
       " '/Library/Frameworks/Python.framework/Versions/3.9/lib/python3.9/lib-dynload',\n",
       " '',\n",
       " '/Users/nirvanabear/.local/share/virtualenvs/scikit-learn-mooc-btn2WeXi/lib/python3.9/site-packages']"
      ]
     },
     "execution_count": 1,
     "metadata": {},
     "output_type": "execute_result"
    }
   ],
   "source": [
    "import os\n",
    "os.sys.path"
   ]
  },
  {
   "cell_type": "markdown",
   "id": "aff3b5d9-8020-4514-a8ae-bd9255216d95",
   "metadata": {},
   "source": [
    "Open the dataset bike_rides.csv with the following commands:"
   ]
  },
  {
   "cell_type": "code",
   "execution_count": 101,
   "id": "fab85ac9-f7f8-4da5-87f7-e543c5b64745",
   "metadata": {},
   "outputs": [
    {
     "data": {
      "text/html": [
       "<div>\n",
       "<style scoped>\n",
       "    .dataframe tbody tr th:only-of-type {\n",
       "        vertical-align: middle;\n",
       "    }\n",
       "\n",
       "    .dataframe tbody tr th {\n",
       "        vertical-align: top;\n",
       "    }\n",
       "\n",
       "    .dataframe thead th {\n",
       "        text-align: right;\n",
       "    }\n",
       "</style>\n",
       "<table border=\"1\" class=\"dataframe\">\n",
       "  <thead>\n",
       "    <tr style=\"text-align: right;\">\n",
       "      <th></th>\n",
       "      <th>heart-rate</th>\n",
       "      <th>cadence</th>\n",
       "      <th>speed</th>\n",
       "      <th>acceleration</th>\n",
       "      <th>slope</th>\n",
       "    </tr>\n",
       "    <tr>\n",
       "      <th></th>\n",
       "      <th></th>\n",
       "      <th></th>\n",
       "      <th></th>\n",
       "      <th></th>\n",
       "      <th></th>\n",
       "    </tr>\n",
       "  </thead>\n",
       "  <tbody>\n",
       "    <tr>\n",
       "      <th>2020-08-18 14:43:19</th>\n",
       "      <td>102.0</td>\n",
       "      <td>64.0</td>\n",
       "      <td>4.325</td>\n",
       "      <td>0.0880</td>\n",
       "      <td>-0.033870</td>\n",
       "    </tr>\n",
       "    <tr>\n",
       "      <th>2020-08-18 14:43:20</th>\n",
       "      <td>103.0</td>\n",
       "      <td>64.0</td>\n",
       "      <td>4.336</td>\n",
       "      <td>0.0842</td>\n",
       "      <td>-0.033571</td>\n",
       "    </tr>\n",
       "    <tr>\n",
       "      <th>2020-08-18 14:43:21</th>\n",
       "      <td>105.0</td>\n",
       "      <td>66.0</td>\n",
       "      <td>4.409</td>\n",
       "      <td>0.0234</td>\n",
       "      <td>-0.033223</td>\n",
       "    </tr>\n",
       "    <tr>\n",
       "      <th>2020-08-18 14:43:22</th>\n",
       "      <td>106.0</td>\n",
       "      <td>66.0</td>\n",
       "      <td>4.445</td>\n",
       "      <td>0.0016</td>\n",
       "      <td>-0.032908</td>\n",
       "    </tr>\n",
       "    <tr>\n",
       "      <th>2020-08-18 14:43:23</th>\n",
       "      <td>106.0</td>\n",
       "      <td>67.0</td>\n",
       "      <td>4.441</td>\n",
       "      <td>0.1144</td>\n",
       "      <td>0.000000</td>\n",
       "    </tr>\n",
       "    <tr>\n",
       "      <th>...</th>\n",
       "      <td>...</td>\n",
       "      <td>...</td>\n",
       "      <td>...</td>\n",
       "      <td>...</td>\n",
       "      <td>...</td>\n",
       "    </tr>\n",
       "    <tr>\n",
       "      <th>2020-09-13 14:55:57</th>\n",
       "      <td>130.0</td>\n",
       "      <td>0.0</td>\n",
       "      <td>1.054</td>\n",
       "      <td>0.0234</td>\n",
       "      <td>0.000000</td>\n",
       "    </tr>\n",
       "    <tr>\n",
       "      <th>2020-09-13 14:55:58</th>\n",
       "      <td>130.0</td>\n",
       "      <td>0.0</td>\n",
       "      <td>0.829</td>\n",
       "      <td>0.0258</td>\n",
       "      <td>0.000000</td>\n",
       "    </tr>\n",
       "    <tr>\n",
       "      <th>2020-09-13 14:55:59</th>\n",
       "      <td>129.0</td>\n",
       "      <td>0.0</td>\n",
       "      <td>0.616</td>\n",
       "      <td>-0.1686</td>\n",
       "      <td>0.000000</td>\n",
       "    </tr>\n",
       "    <tr>\n",
       "      <th>2020-09-13 14:56:00</th>\n",
       "      <td>130.0</td>\n",
       "      <td>0.0</td>\n",
       "      <td>0.000</td>\n",
       "      <td>-0.4284</td>\n",
       "      <td>0.000000</td>\n",
       "    </tr>\n",
       "    <tr>\n",
       "      <th>2020-09-13 14:56:01</th>\n",
       "      <td>130.0</td>\n",
       "      <td>0.0</td>\n",
       "      <td>0.000</td>\n",
       "      <td>-0.3096</td>\n",
       "      <td>0.000000</td>\n",
       "    </tr>\n",
       "  </tbody>\n",
       "</table>\n",
       "<p>38254 rows × 5 columns</p>\n",
       "</div>"
      ],
      "text/plain": [
       "                     heart-rate  cadence  speed  acceleration     slope\n",
       "                                                                       \n",
       "2020-08-18 14:43:19       102.0     64.0  4.325        0.0880 -0.033870\n",
       "2020-08-18 14:43:20       103.0     64.0  4.336        0.0842 -0.033571\n",
       "2020-08-18 14:43:21       105.0     66.0  4.409        0.0234 -0.033223\n",
       "2020-08-18 14:43:22       106.0     66.0  4.445        0.0016 -0.032908\n",
       "2020-08-18 14:43:23       106.0     67.0  4.441        0.1144  0.000000\n",
       "...                         ...      ...    ...           ...       ...\n",
       "2020-09-13 14:55:57       130.0      0.0  1.054        0.0234  0.000000\n",
       "2020-09-13 14:55:58       130.0      0.0  0.829        0.0258  0.000000\n",
       "2020-09-13 14:55:59       129.0      0.0  0.616       -0.1686  0.000000\n",
       "2020-09-13 14:56:00       130.0      0.0  0.000       -0.4284  0.000000\n",
       "2020-09-13 14:56:01       130.0      0.0  0.000       -0.3096  0.000000\n",
       "\n",
       "[38254 rows x 5 columns]"
      ]
     },
     "execution_count": 101,
     "metadata": {},
     "output_type": "execute_result"
    }
   ],
   "source": [
    "import pandas as pd\n",
    "\n",
    "cycling = pd.read_csv(\"../datasets/bike_rides.csv\", index_col=0,\n",
    "                      parse_dates=True)\n",
    "cycling.index.name = \"\"\n",
    "target_name = \"power\"\n",
    "data, target = cycling.drop(columns=target_name), cycling[target_name]\n",
    "data"
   ]
  },
  {
   "cell_type": "markdown",
   "id": "63628946-b3d6-4da5-8a3f-29ffd703eedd",
   "metadata": {},
   "source": [
    "A detailed description of this dataset is given in the appendix. As a reminder, the problem we are trying to solve with this dataset is to use measurements from cheap sensors (GPS, heart-rate monitor, etc.) in order to predict a cyclist power. Power can indeed be recorded via a cycling power meter device, but this device is rather expensive.\n",
    "\n",
    "Instead of using blindly machine learning, we will first introduce some flavor of classic mechanics: the Newton's second law.\n",
    "\n",
    "$ P_{meca} = (\\frac{1}{2} \\rho . SC_x . V_{a}^{2} + C_r . mg . \\cos \\alpha + mg . \\sin \\alpha + ma) V_d $ \n",
    "\n",
    "where:  \n",
    "ρ is the air density in $ kg.m^{−3} $,  \n",
    "S is frontal surface of the cyclist in $ m^{2} $,  \n",
    "$ C_x $ is the drag coefficient,  \n",
    "$ V_a $ is the air speed in $ m.s^{−1} $,  \n",
    "$ C_r $ is the rolling coefficient,  \n",
    "m is the mass of the rider and bicycle in kg,  \n",
    "g is the standard acceleration due to gravity which is equal to 9.81 $ m.s^{−2} $,  \n",
    "α is the slope in radian,  \n",
    "$ V_d $ is the rider speed in $ m.s^{−1} $, and  \n",
    "a is the rider acceleration in $ m.s^{−2} $.\n",
    "\n",
    "This equation might look a bit complex at first but we can explain with words what the different terms within the parenthesis are:\n",
    "\n",
    "* the first term is the power that a cyclist is required to produce to fight wind\n",
    "* the second term is the power that a cyclist is required to produce to fight the rolling resistance created by the tires on the floor\n",
    "* the third term is the power that a cyclist is required to produce to go up a hill if the slope is positive. If the slope is negative the cyclist does not need to produce any power to go forward\n",
    "* the fourth and last term is the power that a cyclist requires to change his speed (i.e. acceleration).\n",
    "\n",
    "We can simplify the model above by using the data that we have at hand. It would look like the following.\n",
    "\n",
    "$ P_{meca}=β_1V^3_d+β_2V_d+β_3sin(α)V_d+β_4aV_d $\n",
    "\n",
    "This model is closer to what we saw previously: it is a linear model trained on a non-linear feature transformation. We will build, train and evaluate such a model as part of this exercise. Thus, you need to:\n",
    "\n",
    "* create a new data matrix containing:  \n",
    "the cube of the speed,  \n",
    "the speed,  \n",
    "the speed multiplied by the sine of the angle of the slope, and  \n",
    "the speed multiplied by the acceleration.  \n",
    "To compute the angle of the slope, you need to take the arc tangent of the slope (`alpha = np.arctan(slope)`). In addition, we can limit ourself to positive acceleration only by clipping to 0 the negative acceleration values (they would correspond to some power created by the braking that we are not modeling here).\n",
    "* using the new data matrix, create a linear predictive model based on a `sklearn.preprocessing.StandardScaler` and a `sklearn.linear_model.RidgeCV`;\n",
    "* use a `sklearn.model_selection.ShuffleSplit` cross-validation strategy with only 4 splits (`n_splits=4`) to evaluate the generalization performance of the model. Use the mean absolute error (MAE) as a generalization performance metric. Also, pass the parameter `return_estimator=True` and `return_train_score=True` to answer the subsequent questions. Be aware that the `ShuffleSplit` strategy is a naive strategy and we will investigate the consequence of making this choice in the subsequent questions.\n"
   ]
  },
  {
   "cell_type": "code",
   "execution_count": 46,
   "id": "1603d35e-6397-4eb2-9a7e-d206d12a91cc",
   "metadata": {},
   "outputs": [
    {
     "data": {
      "text/html": [
       "<div>\n",
       "<style scoped>\n",
       "    .dataframe tbody tr th:only-of-type {\n",
       "        vertical-align: middle;\n",
       "    }\n",
       "\n",
       "    .dataframe tbody tr th {\n",
       "        vertical-align: top;\n",
       "    }\n",
       "\n",
       "    .dataframe thead th {\n",
       "        text-align: right;\n",
       "    }\n",
       "</style>\n",
       "<table border=\"1\" class=\"dataframe\">\n",
       "  <thead>\n",
       "    <tr style=\"text-align: right;\">\n",
       "      <th></th>\n",
       "      <th>heart-rate</th>\n",
       "      <th>cadence</th>\n",
       "      <th>speed</th>\n",
       "      <th>acceleration</th>\n",
       "      <th>slope</th>\n",
       "    </tr>\n",
       "    <tr>\n",
       "      <th></th>\n",
       "      <th></th>\n",
       "      <th></th>\n",
       "      <th></th>\n",
       "      <th></th>\n",
       "      <th></th>\n",
       "    </tr>\n",
       "  </thead>\n",
       "  <tbody>\n",
       "    <tr>\n",
       "      <th>2020-08-18 14:43:19</th>\n",
       "      <td>102.0</td>\n",
       "      <td>64.0</td>\n",
       "      <td>4.325</td>\n",
       "      <td>0.0880</td>\n",
       "      <td>-0.033870</td>\n",
       "    </tr>\n",
       "    <tr>\n",
       "      <th>2020-08-18 14:43:20</th>\n",
       "      <td>103.0</td>\n",
       "      <td>64.0</td>\n",
       "      <td>4.336</td>\n",
       "      <td>0.0842</td>\n",
       "      <td>-0.033571</td>\n",
       "    </tr>\n",
       "    <tr>\n",
       "      <th>2020-08-18 14:43:21</th>\n",
       "      <td>105.0</td>\n",
       "      <td>66.0</td>\n",
       "      <td>4.409</td>\n",
       "      <td>0.0234</td>\n",
       "      <td>-0.033223</td>\n",
       "    </tr>\n",
       "    <tr>\n",
       "      <th>2020-08-18 14:43:22</th>\n",
       "      <td>106.0</td>\n",
       "      <td>66.0</td>\n",
       "      <td>4.445</td>\n",
       "      <td>0.0016</td>\n",
       "      <td>-0.032908</td>\n",
       "    </tr>\n",
       "    <tr>\n",
       "      <th>2020-08-18 14:43:23</th>\n",
       "      <td>106.0</td>\n",
       "      <td>67.0</td>\n",
       "      <td>4.441</td>\n",
       "      <td>0.1144</td>\n",
       "      <td>0.000000</td>\n",
       "    </tr>\n",
       "    <tr>\n",
       "      <th>...</th>\n",
       "      <td>...</td>\n",
       "      <td>...</td>\n",
       "      <td>...</td>\n",
       "      <td>...</td>\n",
       "      <td>...</td>\n",
       "    </tr>\n",
       "    <tr>\n",
       "      <th>2020-09-13 14:55:57</th>\n",
       "      <td>130.0</td>\n",
       "      <td>0.0</td>\n",
       "      <td>1.054</td>\n",
       "      <td>0.0234</td>\n",
       "      <td>0.000000</td>\n",
       "    </tr>\n",
       "    <tr>\n",
       "      <th>2020-09-13 14:55:58</th>\n",
       "      <td>130.0</td>\n",
       "      <td>0.0</td>\n",
       "      <td>0.829</td>\n",
       "      <td>0.0258</td>\n",
       "      <td>0.000000</td>\n",
       "    </tr>\n",
       "    <tr>\n",
       "      <th>2020-09-13 14:55:59</th>\n",
       "      <td>129.0</td>\n",
       "      <td>0.0</td>\n",
       "      <td>0.616</td>\n",
       "      <td>-0.1686</td>\n",
       "      <td>0.000000</td>\n",
       "    </tr>\n",
       "    <tr>\n",
       "      <th>2020-09-13 14:56:00</th>\n",
       "      <td>130.0</td>\n",
       "      <td>0.0</td>\n",
       "      <td>0.000</td>\n",
       "      <td>-0.4284</td>\n",
       "      <td>0.000000</td>\n",
       "    </tr>\n",
       "    <tr>\n",
       "      <th>2020-09-13 14:56:01</th>\n",
       "      <td>130.0</td>\n",
       "      <td>0.0</td>\n",
       "      <td>0.000</td>\n",
       "      <td>-0.3096</td>\n",
       "      <td>0.000000</td>\n",
       "    </tr>\n",
       "  </tbody>\n",
       "</table>\n",
       "<p>38254 rows × 5 columns</p>\n",
       "</div>"
      ],
      "text/plain": [
       "                     heart-rate  cadence  speed  acceleration     slope\n",
       "                                                                       \n",
       "2020-08-18 14:43:19       102.0     64.0  4.325        0.0880 -0.033870\n",
       "2020-08-18 14:43:20       103.0     64.0  4.336        0.0842 -0.033571\n",
       "2020-08-18 14:43:21       105.0     66.0  4.409        0.0234 -0.033223\n",
       "2020-08-18 14:43:22       106.0     66.0  4.445        0.0016 -0.032908\n",
       "2020-08-18 14:43:23       106.0     67.0  4.441        0.1144  0.000000\n",
       "...                         ...      ...    ...           ...       ...\n",
       "2020-09-13 14:55:57       130.0      0.0  1.054        0.0234  0.000000\n",
       "2020-09-13 14:55:58       130.0      0.0  0.829        0.0258  0.000000\n",
       "2020-09-13 14:55:59       129.0      0.0  0.616       -0.1686  0.000000\n",
       "2020-09-13 14:56:00       130.0      0.0  0.000       -0.4284  0.000000\n",
       "2020-09-13 14:56:01       130.0      0.0  0.000       -0.3096  0.000000\n",
       "\n",
       "[38254 rows x 5 columns]"
      ]
     },
     "execution_count": 46,
     "metadata": {},
     "output_type": "execute_result"
    }
   ],
   "source": [
    "import numpy as np\n",
    "data"
   ]
  },
  {
   "cell_type": "code",
   "execution_count": 34,
   "id": "15625249-f7e1-40f9-bb24-258eab90c281",
   "metadata": {
    "tags": []
   },
   "outputs": [],
   "source": [
    "speed = data['speed'] "
   ]
  },
  {
   "cell_type": "code",
   "execution_count": 57,
   "id": "5f25813e-03be-45c6-a864-3f7134f751bd",
   "metadata": {
    "tags": []
   },
   "outputs": [
    {
     "data": {
      "text/plain": [
       "\n",
       "2020-08-18 14:43:19    80.901828\n",
       "2020-08-18 14:43:20    81.520685\n",
       "2020-08-18 14:43:21    85.707790\n",
       "2020-08-18 14:43:22    87.824421\n",
       "2020-08-18 14:43:23    87.587538\n",
       "                         ...    \n",
       "2020-09-13 14:55:57     1.170905\n",
       "2020-09-13 14:55:58     0.569723\n",
       "2020-09-13 14:55:59     0.233745\n",
       "2020-09-13 14:56:00     0.000000\n",
       "2020-09-13 14:56:01     0.000000\n",
       "Name: speed, Length: 38254, dtype: float64"
      ]
     },
     "execution_count": 57,
     "metadata": {},
     "output_type": "execute_result"
    }
   ],
   "source": [
    "speed_cube = data['speed'] ** 3"
   ]
  },
  {
   "cell_type": "code",
   "execution_count": 10,
   "id": "4680668c-82da-4607-ae2c-5c1533737b65",
   "metadata": {},
   "outputs": [
    {
     "data": {
      "text/plain": [
       "\n",
       "2020-08-18 14:43:19   -0.033857\n",
       "2020-08-18 14:43:20   -0.033559\n",
       "2020-08-18 14:43:21   -0.033210\n",
       "2020-08-18 14:43:22   -0.032896\n",
       "2020-08-18 14:43:23    0.000000\n",
       "                         ...   \n",
       "2020-09-13 14:55:57    0.000000\n",
       "2020-09-13 14:55:58    0.000000\n",
       "2020-09-13 14:55:59    0.000000\n",
       "2020-09-13 14:56:00    0.000000\n",
       "2020-09-13 14:56:01    0.000000\n",
       "Name: slope, Length: 38254, dtype: float64"
      ]
     },
     "execution_count": 10,
     "metadata": {},
     "output_type": "execute_result"
    }
   ],
   "source": [
    "np.arctan(data['slope'])"
   ]
  },
  {
   "cell_type": "code",
   "execution_count": 28,
   "id": "e320fb41-52e2-4c8f-95a0-44249bc4760c",
   "metadata": {},
   "outputs": [
    {
     "name": "stdout",
     "output_type": "stream",
     "text": [
      "[-0.03385666 -0.03355853 -0.03321038 -0.0328964   0.          0.\n",
      "  0.          0.          0.          0.        ]\n"
     ]
    }
   ],
   "source": [
    "anglex = np.array([])\n",
    "# angle2 = np.concatenate((angle, [1]))\n",
    "# angle2\n",
    "for slope in data['slope']:\n",
    "    # print(slope)\n",
    "    arctan_slope = np.arctan(slope)\n",
    "    anglex = np.append(anglex, arctan_slope)\n",
    "print(anglex[:10])"
   ]
  },
  {
   "cell_type": "code",
   "execution_count": 30,
   "id": "ce0f8335-00fa-4e99-b787-62189f213933",
   "metadata": {},
   "outputs": [],
   "source": [
    "alpha = np.arctan(data['slope'])"
   ]
  },
  {
   "cell_type": "code",
   "execution_count": 32,
   "id": "cd576142-e52e-472b-959e-8b3d9d5121a7",
   "metadata": {},
   "outputs": [],
   "source": [
    "sin_alpha = np.sin(alpha)\n",
    "# sin_alpha"
   ]
  },
  {
   "cell_type": "code",
   "execution_count": 36,
   "id": "6327d695-8ba9-4829-965b-8c623607a254",
   "metadata": {},
   "outputs": [],
   "source": [
    "speed_sin_a = speed * sin_alpha\n",
    "# speed_sin_a"
   ]
  },
  {
   "cell_type": "code",
   "execution_count": null,
   "id": "0935ac2c-8390-47d7-9ed6-2da79f8be5b6",
   "metadata": {},
   "outputs": [],
   "source": [
    "speed_acc = speed * data['acceleration']\n",
    "# speed_acc"
   ]
  },
  {
   "cell_type": "code",
   "execution_count": 56,
   "id": "c28f8a95-a456-4a7c-b1f7-5a9e268f2d50",
   "metadata": {},
   "outputs": [
    {
     "data": {
      "text/plain": [
       "\n",
       "2020-08-18 14:43:19    0.0880\n",
       "2020-08-18 14:43:20    0.0842\n",
       "2020-08-18 14:43:21    0.0234\n",
       "2020-08-18 14:43:22    0.0016\n",
       "2020-08-18 14:43:23    0.1144\n",
       "                        ...  \n",
       "2020-09-13 14:55:57    0.0234\n",
       "2020-09-13 14:55:58    0.0258\n",
       "2020-09-13 14:55:59    0.0000\n",
       "2020-09-13 14:56:00    0.0000\n",
       "2020-09-13 14:56:01    0.0000\n",
       "Name: acceleration, Length: 38254, dtype: float64"
      ]
     },
     "execution_count": 56,
     "metadata": {},
     "output_type": "execute_result"
    }
   ],
   "source": [
    "accel = data['acceleration'].copy()\n",
    "accel[accel < 0] = 0\n",
    "accel"
   ]
  },
  {
   "cell_type": "code",
   "execution_count": 70,
   "id": "a913aa63-54dd-41b8-98b9-98f8ce065d58",
   "metadata": {},
   "outputs": [
    {
     "data": {
      "text/plain": [
       "\n",
       "2020-08-18 14:43:19    0.0880\n",
       "2020-08-18 14:43:20    0.0842\n",
       "2020-08-18 14:43:21    0.0234\n",
       "2020-08-18 14:43:22    0.0016\n",
       "2020-08-18 14:43:23    0.1144\n",
       "                        ...  \n",
       "2020-09-13 14:55:57    0.0234\n",
       "2020-09-13 14:55:58    0.0258\n",
       "2020-09-13 14:55:59    0.0000\n",
       "2020-09-13 14:56:00    0.0000\n",
       "2020-09-13 14:56:01    0.0000\n",
       "Name: acceleration, Length: 38254, dtype: float64"
      ]
     },
     "execution_count": 70,
     "metadata": {},
     "output_type": "execute_result"
    }
   ],
   "source": [
    "accel2 = data['acceleration'].copy()\n",
    "# accel2= pd.DataFrame(accel2)\n",
    "accel2.clip(lower=0)"
   ]
  },
  {
   "cell_type": "code",
   "execution_count": 54,
   "id": "7673f54c-22d0-417f-8cd5-72cefd6fdf58",
   "metadata": {},
   "outputs": [
    {
     "data": {
      "text/plain": [
       "\n",
       "2020-08-18 14:43:19    0.0880\n",
       "2020-08-18 14:43:20    0.0842\n",
       "2020-08-18 14:43:21    0.0234\n",
       "2020-08-18 14:43:22    0.0016\n",
       "2020-08-18 14:43:23    0.1144\n",
       "                        ...  \n",
       "2020-09-13 14:55:57    0.0234\n",
       "2020-09-13 14:55:58    0.0258\n",
       "2020-09-13 14:55:59   -0.1686\n",
       "2020-09-13 14:56:00   -0.4284\n",
       "2020-09-13 14:56:01   -0.3096\n",
       "Name: acceleration, Length: 38254, dtype: float64"
      ]
     },
     "execution_count": 54,
     "metadata": {},
     "output_type": "execute_result"
    }
   ],
   "source": [
    "data['acceleration']"
   ]
  },
  {
   "cell_type": "code",
   "execution_count": 58,
   "id": "1a3b353e-4ec1-4fbf-88b5-40420aa29d42",
   "metadata": {},
   "outputs": [],
   "source": [
    "speed_accel = speed * accel"
   ]
  },
  {
   "cell_type": "code",
   "execution_count": 59,
   "id": "fb28ddfe-6bfa-451d-8cf1-7b941e82566e",
   "metadata": {},
   "outputs": [],
   "source": [
    "data2 = pd.DataFrame({'speed cubed': speed_cube, 'speed': speed, 'speed * slope': speed_sin_a, 'speed * accel': speed_accel})"
   ]
  },
  {
   "cell_type": "code",
   "execution_count": 60,
   "id": "4c272b8e-39ff-414d-aeac-dda8974f5833",
   "metadata": {},
   "outputs": [
    {
     "data": {
      "text/html": [
       "<div>\n",
       "<style scoped>\n",
       "    .dataframe tbody tr th:only-of-type {\n",
       "        vertical-align: middle;\n",
       "    }\n",
       "\n",
       "    .dataframe tbody tr th {\n",
       "        vertical-align: top;\n",
       "    }\n",
       "\n",
       "    .dataframe thead th {\n",
       "        text-align: right;\n",
       "    }\n",
       "</style>\n",
       "<table border=\"1\" class=\"dataframe\">\n",
       "  <thead>\n",
       "    <tr style=\"text-align: right;\">\n",
       "      <th></th>\n",
       "      <th>speed cubed</th>\n",
       "      <th>speed</th>\n",
       "      <th>speed * slope</th>\n",
       "      <th>speed * accel</th>\n",
       "    </tr>\n",
       "    <tr>\n",
       "      <th></th>\n",
       "      <th></th>\n",
       "      <th></th>\n",
       "      <th></th>\n",
       "      <th></th>\n",
       "    </tr>\n",
       "  </thead>\n",
       "  <tbody>\n",
       "    <tr>\n",
       "      <th>2020-08-18 14:43:19</th>\n",
       "      <td>80.901828</td>\n",
       "      <td>4.325</td>\n",
       "      <td>-0.146402</td>\n",
       "      <td>0.380600</td>\n",
       "    </tr>\n",
       "    <tr>\n",
       "      <th>2020-08-18 14:43:20</th>\n",
       "      <td>81.520685</td>\n",
       "      <td>4.336</td>\n",
       "      <td>-0.145482</td>\n",
       "      <td>0.365091</td>\n",
       "    </tr>\n",
       "    <tr>\n",
       "      <th>2020-08-18 14:43:21</th>\n",
       "      <td>85.707790</td>\n",
       "      <td>4.409</td>\n",
       "      <td>-0.146398</td>\n",
       "      <td>0.103171</td>\n",
       "    </tr>\n",
       "    <tr>\n",
       "      <th>2020-08-18 14:43:22</th>\n",
       "      <td>87.824421</td>\n",
       "      <td>4.445</td>\n",
       "      <td>-0.146198</td>\n",
       "      <td>0.007112</td>\n",
       "    </tr>\n",
       "    <tr>\n",
       "      <th>2020-08-18 14:43:23</th>\n",
       "      <td>87.587538</td>\n",
       "      <td>4.441</td>\n",
       "      <td>0.000000</td>\n",
       "      <td>0.508050</td>\n",
       "    </tr>\n",
       "    <tr>\n",
       "      <th>...</th>\n",
       "      <td>...</td>\n",
       "      <td>...</td>\n",
       "      <td>...</td>\n",
       "      <td>...</td>\n",
       "    </tr>\n",
       "    <tr>\n",
       "      <th>2020-09-13 14:55:57</th>\n",
       "      <td>1.170905</td>\n",
       "      <td>1.054</td>\n",
       "      <td>0.000000</td>\n",
       "      <td>0.024664</td>\n",
       "    </tr>\n",
       "    <tr>\n",
       "      <th>2020-09-13 14:55:58</th>\n",
       "      <td>0.569723</td>\n",
       "      <td>0.829</td>\n",
       "      <td>0.000000</td>\n",
       "      <td>0.021388</td>\n",
       "    </tr>\n",
       "    <tr>\n",
       "      <th>2020-09-13 14:55:59</th>\n",
       "      <td>0.233745</td>\n",
       "      <td>0.616</td>\n",
       "      <td>0.000000</td>\n",
       "      <td>0.000000</td>\n",
       "    </tr>\n",
       "    <tr>\n",
       "      <th>2020-09-13 14:56:00</th>\n",
       "      <td>0.000000</td>\n",
       "      <td>0.000</td>\n",
       "      <td>0.000000</td>\n",
       "      <td>0.000000</td>\n",
       "    </tr>\n",
       "    <tr>\n",
       "      <th>2020-09-13 14:56:01</th>\n",
       "      <td>0.000000</td>\n",
       "      <td>0.000</td>\n",
       "      <td>0.000000</td>\n",
       "      <td>0.000000</td>\n",
       "    </tr>\n",
       "  </tbody>\n",
       "</table>\n",
       "<p>38254 rows × 4 columns</p>\n",
       "</div>"
      ],
      "text/plain": [
       "                     speed cubed  speed  speed * slope  speed * accel\n",
       "                                                                     \n",
       "2020-08-18 14:43:19    80.901828  4.325      -0.146402       0.380600\n",
       "2020-08-18 14:43:20    81.520685  4.336      -0.145482       0.365091\n",
       "2020-08-18 14:43:21    85.707790  4.409      -0.146398       0.103171\n",
       "2020-08-18 14:43:22    87.824421  4.445      -0.146198       0.007112\n",
       "2020-08-18 14:43:23    87.587538  4.441       0.000000       0.508050\n",
       "...                          ...    ...            ...            ...\n",
       "2020-09-13 14:55:57     1.170905  1.054       0.000000       0.024664\n",
       "2020-09-13 14:55:58     0.569723  0.829       0.000000       0.021388\n",
       "2020-09-13 14:55:59     0.233745  0.616       0.000000       0.000000\n",
       "2020-09-13 14:56:00     0.000000  0.000       0.000000       0.000000\n",
       "2020-09-13 14:56:01     0.000000  0.000       0.000000       0.000000\n",
       "\n",
       "[38254 rows x 4 columns]"
      ]
     },
     "execution_count": 60,
     "metadata": {},
     "output_type": "execute_result"
    }
   ],
   "source": [
    "data2"
   ]
  },
  {
   "cell_type": "code",
   "execution_count": 61,
   "id": "2f99c391-902c-4842-bce9-de76c88f56fe",
   "metadata": {},
   "outputs": [],
   "source": [
    "from sklearn.preprocessing import StandardScaler\n",
    "from sklearn.linear_model import RidgeCV\n",
    "from sklearn.pipeline import make_pipeline\n",
    "from sklearn.model_selection import ShuffleSplit, cross_validate\n",
    "\n",
    "shuffle = ShuffleSplit(n_splits=4)\n",
    "model_ridge = make_pipeline(StandardScaler(), RidgeCV())\n",
    "cv_ridge = cross_validate(model_ridge, data2, target, cv=shuffle, return_estimator=True, return_train_score=True, scoring='neg_mean_absolute_error')"
   ]
  },
  {
   "cell_type": "markdown",
   "id": "77dfec66-2d35-4aa0-aad8-34f5708dfe78",
   "metadata": {},
   "source": [
    "<h1>Question 1</h1> (1/1 point)\n",
    "\n",
    "What is the mean value of the column containing the information of sin(α)Vd?\n",
    "a) about -3\n",
    "b) about -0.3\n",
    "c) about -0.03\n",
    "d) about -0.003 "
   ]
  },
  {
   "cell_type": "code",
   "execution_count": 65,
   "id": "20b3da83-741c-4369-8c81-aa588cb0ac5c",
   "metadata": {},
   "outputs": [
    {
     "data": {
      "text/plain": [
       "-0.002709709612566326"
      ]
     },
     "execution_count": 65,
     "metadata": {},
     "output_type": "execute_result"
    }
   ],
   "source": [
    "data2['speed * slope'].mean()"
   ]
  },
  {
   "cell_type": "markdown",
   "id": "c2035904-821c-471d-ad99-0914dcc847bf",
   "metadata": {},
   "source": [
    "<h1>Question 2</h1> (1 point possible)\n",
    "\n",
    "On average, the Mean Absolute Error on the test sets obtained through cross-validation is closest to:\n",
    "a) 20 Watts\n",
    "b) 50 Watts\n",
    "c) 70 Watts\n",
    "d) 90 Watts "
   ]
  },
  {
   "cell_type": "code",
   "execution_count": 66,
   "id": "05b03da4-b2d9-4458-a64f-d5330dcd2e82",
   "metadata": {},
   "outputs": [
    {
     "data": {
      "text/plain": [
       "72.25771931277096"
      ]
     },
     "execution_count": 66,
     "metadata": {},
     "output_type": "execute_result"
    }
   ],
   "source": [
    "-cv_ridge['test_score'].mean()"
   ]
  },
  {
   "cell_type": "markdown",
   "id": "d57a5747-2525-4928-bcf4-f5604fe86cfa",
   "metadata": {},
   "source": [
    "<h1>Question 3</h1> (1 point possible)\n",
    "\n",
    "Given the model Pmeca=β1V3d+β2Vd+β3sin(α)Vd+β4aVd that you created, inspect the weights of the linear models fitted during cross-validation and select the correct statements:\n",
    "a) β1<β2<β3\n",
    "b) β3<β1<β2\n",
    "c) β2<β3<β1\n",
    "d) β1<0\n",
    "e) β2<0\n",
    "f) β3<0\n",
    "g) β4<0\n",
    "h) All βs are > 0 "
   ]
  },
  {
   "cell_type": "code",
   "execution_count": 82,
   "id": "d13ef01f-7d8f-481e-8257-5121a580892f",
   "metadata": {},
   "outputs": [
    {
     "data": {
      "text/plain": [
       "[array([ 5.95628081, 32.40979238, 80.48855519, 11.1159828 ]),\n",
       " array([ 5.69342237, 32.83262422, 80.82814369, 11.06143925]),\n",
       " array([ 4.9136873 , 33.56976249, 80.68236154, 11.18276228]),\n",
       " array([ 5.50021407, 33.18447618, 80.68100628, 11.11275065])]"
      ]
     },
     "execution_count": 82,
     "metadata": {},
     "output_type": "execute_result"
    }
   ],
   "source": [
    "coefs = [est[-1].coef_ for est in cv_ridge[\"estimator\"]]\n",
    "coefs"
   ]
  },
  {
   "cell_type": "code",
   "execution_count": 81,
   "id": "3cfae309-d1e5-477e-88a8-c6d87aae34c7",
   "metadata": {},
   "outputs": [
    {
     "name": "stdout",
     "output_type": "stream",
     "text": [
      "dict_keys(['memory', 'steps', 'verbose', 'standardscaler', 'ridgecv', 'standardscaler__copy', 'standardscaler__with_mean', 'standardscaler__with_std', 'ridgecv__alpha_per_target', 'ridgecv__alphas', 'ridgecv__cv', 'ridgecv__fit_intercept', 'ridgecv__gcv_mode', 'ridgecv__normalize', 'ridgecv__scoring', 'ridgecv__store_cv_values'])\n",
      "dict_keys(['memory', 'steps', 'verbose', 'standardscaler', 'ridgecv', 'standardscaler__copy', 'standardscaler__with_mean', 'standardscaler__with_std', 'ridgecv__alpha_per_target', 'ridgecv__alphas', 'ridgecv__cv', 'ridgecv__fit_intercept', 'ridgecv__gcv_mode', 'ridgecv__normalize', 'ridgecv__scoring', 'ridgecv__store_cv_values'])\n",
      "dict_keys(['memory', 'steps', 'verbose', 'standardscaler', 'ridgecv', 'standardscaler__copy', 'standardscaler__with_mean', 'standardscaler__with_std', 'ridgecv__alpha_per_target', 'ridgecv__alphas', 'ridgecv__cv', 'ridgecv__fit_intercept', 'ridgecv__gcv_mode', 'ridgecv__normalize', 'ridgecv__scoring', 'ridgecv__store_cv_values'])\n",
      "dict_keys(['memory', 'steps', 'verbose', 'standardscaler', 'ridgecv', 'standardscaler__copy', 'standardscaler__with_mean', 'standardscaler__with_std', 'ridgecv__alpha_per_target', 'ridgecv__alphas', 'ridgecv__cv', 'ridgecv__fit_intercept', 'ridgecv__gcv_mode', 'ridgecv__normalize', 'ridgecv__scoring', 'ridgecv__store_cv_values'])\n"
     ]
    }
   ],
   "source": [
    "for model in cv_ridge['estimator']:\n",
    "    print(model.get_params().keys())"
   ]
  },
  {
   "cell_type": "code",
   "execution_count": 83,
   "id": "de9ae6b4-4c61-431d-a3d1-b469c6a16eb0",
   "metadata": {},
   "outputs": [
    {
     "data": {
      "text/plain": [
       "array([ 5.95628081, 32.40979238, 80.48855519, 11.1159828 ])"
      ]
     },
     "execution_count": 83,
     "metadata": {},
     "output_type": "execute_result"
    }
   ],
   "source": [
    "coefs[0]"
   ]
  },
  {
   "cell_type": "code",
   "execution_count": 87,
   "id": "9d931fe4-6575-45af-9da9-751d3c2d9484",
   "metadata": {},
   "outputs": [
    {
     "data": {
      "text/html": [
       "<div>\n",
       "<style scoped>\n",
       "    .dataframe tbody tr th:only-of-type {\n",
       "        vertical-align: middle;\n",
       "    }\n",
       "\n",
       "    .dataframe tbody tr th {\n",
       "        vertical-align: top;\n",
       "    }\n",
       "\n",
       "    .dataframe thead th {\n",
       "        text-align: right;\n",
       "    }\n",
       "</style>\n",
       "<table border=\"1\" class=\"dataframe\">\n",
       "  <thead>\n",
       "    <tr style=\"text-align: right;\">\n",
       "      <th></th>\n",
       "      <th>speed cubed</th>\n",
       "      <th>speed</th>\n",
       "      <th>speed * slope</th>\n",
       "      <th>speed * accel</th>\n",
       "    </tr>\n",
       "    <tr>\n",
       "      <th></th>\n",
       "      <th></th>\n",
       "      <th></th>\n",
       "      <th></th>\n",
       "      <th></th>\n",
       "    </tr>\n",
       "  </thead>\n",
       "  <tbody>\n",
       "    <tr>\n",
       "      <th>2020-08-18 14:43:19</th>\n",
       "      <td>80.901828</td>\n",
       "      <td>4.325</td>\n",
       "      <td>-0.146402</td>\n",
       "      <td>0.3806</td>\n",
       "    </tr>\n",
       "  </tbody>\n",
       "</table>\n",
       "</div>"
      ],
      "text/plain": [
       "                     speed cubed  speed  speed * slope  speed * accel\n",
       "                                                                     \n",
       "2020-08-18 14:43:19    80.901828  4.325      -0.146402         0.3806"
      ]
     },
     "execution_count": 87,
     "metadata": {},
     "output_type": "execute_result"
    }
   ],
   "source": [
    "data2[:1]"
   ]
  },
  {
   "cell_type": "code",
   "execution_count": 88,
   "id": "47b35199-0cad-4ff8-bd92-448046e75a85",
   "metadata": {},
   "outputs": [
    {
     "data": {
      "text/plain": [
       "array([[80.90182813,  4.325     , -0.14640208,  0.3806    ]])"
      ]
     },
     "execution_count": 88,
     "metadata": {},
     "output_type": "execute_result"
    }
   ],
   "source": [
    "data2[:1].to_numpy()"
   ]
  },
  {
   "cell_type": "code",
   "execution_count": 90,
   "id": "66be4732-9a34-40ba-91d3-cd1d373d0b6e",
   "metadata": {},
   "outputs": [
    {
     "data": {
      "text/plain": [
       "614.4934092307025"
      ]
     },
     "execution_count": 90,
     "metadata": {},
     "output_type": "execute_result"
    }
   ],
   "source": [
    "np.sum(coefs[0] * data2[:1].to_numpy())"
   ]
  },
  {
   "cell_type": "code",
   "execution_count": 91,
   "id": "0e1258a6-6f7f-4139-ab2d-ad2e72814c81",
   "metadata": {},
   "outputs": [
    {
     "data": {
      "text/plain": [
       "150.0"
      ]
     },
     "execution_count": 91,
     "metadata": {},
     "output_type": "execute_result"
    }
   ],
   "source": [
    "target[0]"
   ]
  },
  {
   "cell_type": "markdown",
   "id": "f095f001-7a74-42cb-8318-eca0d786f782",
   "metadata": {},
   "source": [
    " <h1>Question 4</h1> (1 point possible)\n",
    "\n",
    "Now, we will create a predictive model that uses all data, including available sensor measurements such as cadence (the speed at which a cyclist turns pedals measured in rotation per minute) and heart-rate (the number of beat per minute of the heart of the cyclist while exercising). Also, we will use a non-linear regressor, a sklearn.ensemble.HistGradientBoostingRegressor. Fix the number of maximum iterations to 1000 (max_iter=1_000) and activate the early stopping (early_stopping=True). Repeat the previous evaluation using this regressor.\n",
    "\n",
    "On average, the Mean Absolute Error on the test sets obtained through cross-validation is closest to:\n",
    "a) 20 Watts\n",
    "b) 40 Watts\n",
    "c) 60 Watts\n",
    "d) 80 Watts "
   ]
  },
  {
   "cell_type": "code",
   "execution_count": 102,
   "id": "e0eead80-ff9a-4870-8252-10cdd23ff284",
   "metadata": {},
   "outputs": [],
   "source": [
    "from sklearn.ensemble import HistGradientBoostingRegressor\n",
    "\n",
    "model_histo = make_pipeline(StandardScaler(), HistGradientBoostingRegressor(max_iter=1000, early_stopping=True))\n",
    "cv_histo = cross_validate(model_histo, data, target, cv=shuffle, return_estimator=True, return_train_score=True, scoring='neg_mean_absolute_error')"
   ]
  },
  {
   "cell_type": "code",
   "execution_count": 103,
   "id": "7d53085d-fcec-455a-966b-7bcd57c93686",
   "metadata": {},
   "outputs": [
    {
     "data": {
      "text/plain": [
       "'44.502'"
      ]
     },
     "execution_count": 103,
     "metadata": {},
     "output_type": "execute_result"
    }
   ],
   "source": [
    "f\"{-cv_histo['test_score'].mean():.3f}\""
   ]
  },
  {
   "cell_type": "markdown",
   "id": "9594097c-d56c-4376-9847-7a95a7820b58",
   "metadata": {},
   "source": [
    " <h1>Question 5</h1> (1 point possible)\n",
    "\n",
    "Comparing both the linear model and the histogram gradient boosting model and taking into consideration the train and test MAE obtained via cross-validation, select the correct statements:\n",
    "a) the generalization performance of the histogram gradient-boosting model is limited by its underfitting\n",
    "b) the generalization performance of the histogram gradient-boosting model is limited by its overfitting\n",
    "c) the generalization performance of the linear model is limited by its underfitting\n",
    "d) the generalization performance of the linear model is limited by its overfitting  \n",
    "\n",
    "Select all answers that apply\n",
    "\n",
    "Hint: look at the values of the train_score and the test_score collected in the dictionaries returned by the cross_validate function."
   ]
  },
  {
   "cell_type": "code",
   "execution_count": 105,
   "id": "8ff01028-58ed-4b4a-8e0e-b34505f93ce9",
   "metadata": {},
   "outputs": [
    {
     "name": "stdout",
     "output_type": "stream",
     "text": [
      "Linear train: 72.486\n",
      "Linear test: 72.258\n",
      "Histogram train: 40.984\n",
      "Histogram test: 44.502\n"
     ]
    }
   ],
   "source": [
    "print(f\"Linear train: {-cv_ridge['train_score'].mean():.3f}\")\n",
    "print(f\"Linear test: {-cv_ridge['test_score'].mean():.3f}\")\n",
    "print(f\"Histogram train: {-cv_histo['train_score'].mean():.3f}\")\n",
    "print(f\"Histogram test: {-cv_histo['test_score'].mean():.3f}\")"
   ]
  },
  {
   "cell_type": "markdown",
   "id": "4f5a261f-f4e0-42fb-8cd0-ea5974f31942",
   "metadata": {},
   "source": [
    " <h1>Question 6</h1> (1 point possible)\n",
    "\n",
    "In the previous cross-validation, we made the choice of using a ShuffleSplit cross-validation strategy. It means that randomly selected samples were selected as testing set ignoring any time dependency between the lines of the dataframe.\n",
    "\n",
    "We would like to have a cross-validation strategy that evaluates the capacity of our model to predict on a completely new bike ride: the samples in the validation set should only come from rides not present in the training set.\n",
    "\n",
    "How many bike rides are stored in the dataframe data? Do not hesitate to look at the hints.\n",
    "a) 2\n",
    "b) 3\n",
    "c) 4\n",
    "d) 5\n",
    "\n",
    "\n",
    "Hint 1: You can check the unique day in the DatetimeIndex (the index of the dataframe data). Indeed, we assume that on a given day the rider went cycling at most once per day.\n",
    "\n",
    "Hint 2: You can access to the date and time of a DatetimeIndex using df.index.date and df.index.time, respectively."
   ]
  },
  {
   "cell_type": "code",
   "execution_count": 134,
   "id": "c376134c-6e74-4217-9824-7d14795c75c9",
   "metadata": {},
   "outputs": [
    {
     "data": {
      "text/plain": [
       "4"
      ]
     },
     "execution_count": 134,
     "metadata": {},
     "output_type": "execute_result"
    }
   ],
   "source": [
    "np.unique(data.index.date).size"
   ]
  },
  {
   "cell_type": "code",
   "execution_count": 132,
   "id": "fbf6b9ba-2cd4-4dc7-82b0-c2ef5aa4a7e2",
   "metadata": {},
   "outputs": [
    {
     "data": {
      "text/plain": [
       "array(['2020-08-18T14:43:19.000000000', '2020-08-18T14:43:20.000000000',\n",
       "       '2020-08-18T14:43:21.000000000', ...,\n",
       "       '2020-09-13T14:55:59.000000000', '2020-09-13T14:56:00.000000000',\n",
       "       '2020-09-13T14:56:01.000000000'], dtype='datetime64[ns]')"
      ]
     },
     "execution_count": 132,
     "metadata": {},
     "output_type": "execute_result"
    }
   ],
   "source": [
    "data.index.values"
   ]
  },
  {
   "cell_type": "markdown",
   "id": "30976581-cb05-4545-a8ca-20feb341cce8",
   "metadata": {},
   "source": [
    " <h1>Question 7</h1> (1 point possible)\n",
    "\n",
    "Instead of using the naive `ShuffleSplit` strategy, we will use a strategy that takes into account the group defined by each individual date. It corresponds to a bike ride. We would like to have a cross-validation strategy that evaluates the capacity of our model to predict on a completely new bike ride: the samples in the validation set should only come from rides not present in the training set. Therefore, we can use a `LeaveOneGroupOut` strategy: at each iteration of the cross-validation, we will keep a bike ride for the evaluation and use all other bike rides to train our model.\n",
    "\n",
    "Thus, you concretely need to:\n",
    "\n",
    "* create a variable called `group` that is a 1D numpy array containing the index of each ride present in the dataframe. Therefore, the length of `group` will be equal to the number of samples in `data`. If we had 2 bike rides, we would expect the indices 0 and 1 in `group` to differentiate the bike ride. You can use `pd.factorize` to encode any Python types into integer indices.\n",
    "* create a cross-validation object named cv using the `sklearn.model_selection.LeaveOneGroupOut` strategy.\n",
    "* evaluate both the linear and histogram gradient boosting models with this strategy.\n",
    "\n",
    "Using the previous evaluations (with the `LeaveOneGroupOut` strategy) and looking at the train and test errors for both models, select the correct statements:\n",
    "a) the generalization performance of the gradient-boosting model is limited by its underfitting\n",
    "b) the generalization performance of the gradient-boosting model is limited by its overfitting\n",
    "c) the generalization performance of the linear model is limited by its underfitting\n",
    "d) the generalization performance of the linear model is limited by its overfitting\n",
    "- unanswered\n"
   ]
  },
  {
   "cell_type": "code",
   "execution_count": 143,
   "id": "88d76f90-235a-4470-85ab-867bfa001e24",
   "metadata": {},
   "outputs": [
    {
     "data": {
      "text/plain": [
       "array([datetime.date(2020, 8, 18), datetime.date(2020, 8, 20),\n",
       "       datetime.date(2020, 8, 26), datetime.date(2020, 9, 13)],\n",
       "      dtype=object)"
      ]
     },
     "execution_count": 143,
     "metadata": {},
     "output_type": "execute_result"
    }
   ],
   "source": [
    "unique_dates2 = np.unique(data.index.date)\n",
    "unique_dates2"
   ]
  },
  {
   "cell_type": "code",
   "execution_count": 147,
   "id": "fde78bf3-e048-4243-847d-23d03ba49326",
   "metadata": {},
   "outputs": [],
   "source": [
    "group, unique_dates = pd.factorize(data.index.date)"
   ]
  },
  {
   "cell_type": "code",
   "execution_count": 148,
   "id": "13684dc2-0973-4c10-bc06-ffefe97a3a73",
   "metadata": {},
   "outputs": [
    {
     "name": "stdout",
     "output_type": "stream",
     "text": [
      "38254\n",
      "(38254, 5)\n",
      "(38254, 4)\n"
     ]
    }
   ],
   "source": [
    "print(group.size)\n",
    "print(data.shape)\n",
    "print(data2.shape)"
   ]
  },
  {
   "cell_type": "code",
   "execution_count": 145,
   "id": "09028bca-35bb-46c8-a11e-94659dffe63e",
   "metadata": {},
   "outputs": [
    {
     "data": {
      "text/plain": [
       "array([ True,  True,  True,  True])"
      ]
     },
     "execution_count": 145,
     "metadata": {},
     "output_type": "execute_result"
    }
   ],
   "source": [
    "unique_dates == unique_dates2"
   ]
  },
  {
   "cell_type": "code",
   "execution_count": 163,
   "id": "e787e445-5393-4e49-bcd9-2d57d2487a77",
   "metadata": {},
   "outputs": [],
   "source": [
    "from sklearn.model_selection import LeaveOneGroupOut\n",
    "\n",
    "leave_one = LeaveOneGroupOut()"
   ]
  },
  {
   "cell_type": "code",
   "execution_count": 164,
   "id": "01a07aa1-0325-400c-a253-1f466faef2b4",
   "metadata": {},
   "outputs": [],
   "source": [
    "cv_ridge2 = cross_validate(model_ridge, data2, target, cv=leave_one, groups=group, return_estimator=True, return_train_score=True, scoring='neg_mean_absolute_error')"
   ]
  },
  {
   "cell_type": "code",
   "execution_count": 165,
   "id": "c4850a46-a049-4d4d-a514-ebbe59a769fe",
   "metadata": {},
   "outputs": [],
   "source": [
    "cv_histo2 = cross_validate(model_histo, data, target, cv=leave_one, groups=group, return_estimator=True, return_train_score=True, scoring='neg_mean_absolute_error')"
   ]
  },
  {
   "cell_type": "code",
   "execution_count": 166,
   "id": "86114e95-55bb-4e56-a8dd-f86142a7584f",
   "metadata": {},
   "outputs": [
    {
     "name": "stdout",
     "output_type": "stream",
     "text": [
      "Linear train: 72.249\n",
      "Linear test: 73.015\n",
      "Histogram train: 39.070\n",
      "Histogram test: 49.768\n"
     ]
    }
   ],
   "source": [
    "print(f\"Linear train: {-cv_ridge2['train_score'].mean():.3f}\")\n",
    "print(f\"Linear test: {-cv_ridge2['test_score'].mean():.3f}\")\n",
    "print(f\"Histogram train: {-cv_histo2['train_score'].mean():.3f}\")\n",
    "print(f\"Histogram test: {-cv_histo2['test_score'].mean():.3f}\")"
   ]
  },
  {
   "cell_type": "markdown",
   "id": "5672dea9-2475-4081-a927-16180f25723f",
   "metadata": {},
   "source": [
    " <h1>Question 8</h1> (1 point possible)\n",
    "\n",
    "In this case we cannot compare cross-validation scores fold-to-fold as the folds are not aligned (they are not generated by the exact same strategy). Instead, compare the mean of the cross-validation test errors in the evaluations of the linear model to select the correct statement.\n",
    "\n",
    "When using the ShuffleSplit strategy, the mean test error:\n",
    "a) is greater than the LeaveOneGroupOut mean test error by more than 3 Watts, i.e. ShuffleSplit is giving over-pessimistic results\n",
    "b) differs from the LeaveOneGroupOut mean test error by less than 3 Watts, i.e. both cross-validation strategies are equivalent\n",
    "c) is lower than the LeaveOneGroupOut mean test error by more than 3 Watts, i.e. ShuffleSplit is giving over-optimistic results "
   ]
  },
  {
   "cell_type": "code",
   "execution_count": 169,
   "id": "4872e01c-45b8-4795-a046-bf10bc44b941",
   "metadata": {},
   "outputs": [
    {
     "name": "stdout",
     "output_type": "stream",
     "text": [
      "Linear Shuffle: 72.258 +/- 1.095\n",
      "Linear Leave One: 73.015 +/- 5.779\n"
     ]
    }
   ],
   "source": [
    "print(f\"Linear Shuffle: {-cv_ridge['test_score'].mean():.3f} +/- {cv_ridge['test_score'].std():.3f}\")\n",
    "print(f\"Linear Leave One: {-cv_ridge2['test_score'].mean():.3f} +/- {cv_ridge2['test_score'].std():.3f}\")"
   ]
  },
  {
   "cell_type": "markdown",
   "id": "4acac074-822e-485c-a871-1e5f796d9aac",
   "metadata": {},
   "source": [
    " <h1>Question 9</h1> (1 point possible)\n",
    "\n",
    "Compare the mean of the cross-validation test errors in the evaluations of the gradient-boosting model to select the correct statement.\n",
    "\n",
    "When using the ShuffleSplit strategy, the mean test error:\n",
    "a) is greater than the LeaveOneGroupOut mean test error by more than 3 Watts, i.e. ShuffleSplit is giving over-pessimistic results\n",
    "b) differs from the LeaveOneGroupOut mean test error by less than 3 Watts, i.e. both cross-validation strategies are equivalent\n",
    "c) is lower than the LeaveOneGroupOut mean test error by more than 3 Watts, i.e. ShuffleSplit is giving over-optimistic results "
   ]
  },
  {
   "cell_type": "code",
   "execution_count": 170,
   "id": "51306c0e-547a-4429-97c2-48a249202072",
   "metadata": {},
   "outputs": [
    {
     "name": "stdout",
     "output_type": "stream",
     "text": [
      "Histogram Shuffle: 44.502 +/- 0.460\n",
      "Histogram Leave One: 49.768 +/- 2.513\n"
     ]
    }
   ],
   "source": [
    "print(f\"Histogram Shuffle: {-cv_histo['test_score'].mean():.3f} +/- {cv_histo['test_score'].std():.3f}\")\n",
    "print(f\"Histogram Leave One: {-cv_histo2['test_score'].mean():.3f} +/- {cv_histo2['test_score'].std():.3f}\")"
   ]
  },
  {
   "cell_type": "markdown",
   "id": "f847614a-08b9-4eeb-86ce-13893dcd8459",
   "metadata": {},
   "source": [
    " <h1>Question 10</h1> (1 point possible)\n",
    "\n",
    "Compare more precisely the errors estimated through cross-validation and select the correct statement:\n",
    "a) in general, the standard deviation of the train and test errors increased using the LeaveOneGroupOut cross-validation\n",
    "b) in general, the standard deviation of the train and test errors decreased using the LeaveOneGroupOut cross-validation"
   ]
  },
  {
   "cell_type": "markdown",
   "id": "06d1b34e-1b66-43df-bca1-436e3f70b5eb",
   "metadata": {},
   "source": [
    " <h1>Question 10</h1> (1 point possible)\n",
    "\n",
    "Now, we will go more into details by picking a single ride for the testing and analyse the predictions of the models for this test ride. To do so, we can reuse the LeaveOneGroupOut cross-validation object in the following manner:"
   ]
  },
  {
   "cell_type": "code",
   "execution_count": 180,
   "id": "d6316c30-2617-49d1-8c98-62e5bd82981f",
   "metadata": {},
   "outputs": [
    {
     "name": "stdout",
     "output_type": "stream",
     "text": [
      "[2 3] [0 1]\n",
      "[0 1] [2 3]\n"
     ]
    }
   ],
   "source": [
    "X = np.array([[1, 2], [3, 4], [5, 6], [7, 8]])\n",
    "y = np.array([1, 2, 1, 2])\n",
    "groups = np.array([1, 1, 2, 2])\n",
    "logo = LeaveOneGroupOut()\n",
    "\n",
    "# Returns all possible permutations of training and testing splits.\n",
    "for train_index, test_index in logo.split(X, y, groups):\n",
    "    print(train_index, test_index)"
   ]
  },
  {
   "cell_type": "code",
   "execution_count": 179,
   "id": "b1be4df2-2367-472c-bd32-01a30ea15117",
   "metadata": {},
   "outputs": [
    {
     "data": {
      "text/plain": [
       "(array([10222, 10223, 10224, ..., 38251, 38252, 38253]),\n",
       " array([    0,     1,     2, ..., 10219, 10220, 10221]))"
      ]
     },
     "execution_count": 179,
     "metadata": {},
     "output_type": "execute_result"
    }
   ],
   "source": [
    "list(cv.split(data, target, groups=group))[0]"
   ]
  },
  {
   "cell_type": "code",
   "execution_count": 182,
   "id": "cb1a1ad6-ecbd-487a-86e4-8fbb5cadb22c",
   "metadata": {},
   "outputs": [],
   "source": [
    "cv = LeaveOneGroupOut()\n",
    "train_indices, test_indices = list(cv.split(data, target, groups=group))[0]\n",
    "\n",
    "data2_train = data2.iloc[train_indices]\n",
    "data2_test = data2.iloc[test_indices]\n",
    "\n",
    "data_train = data.iloc[train_indices]\n",
    "data_test = data.iloc[test_indices]\n",
    "\n",
    "target_train = target.iloc[train_indices]\n",
    "target_test = target.iloc[test_indices]"
   ]
  },
  {
   "cell_type": "markdown",
   "id": "dfeed0e3-0f7b-4ad0-be1e-bed988e766ba",
   "metadata": {},
   "source": [
    "Now, fit both the linear model and the histogram gradient boosting regressor models on the training data and collect the predictions on the testing data. Make a scatter plot where on the x-axis, you will plot the measured powers (true target) and on the y-axis, you will plot the predicted powers (predicted target). Do two separated plots for each model.\n",
    "\n",
    "By analysing the plots, select the correct statements:\n",
    "a) the linear regressor tends to under-predict samples with high power\n",
    "b) the linear regressor tends to over-predict samples with high power\n",
    "c) the linear regressor makes catastrophic predictions for samples with power close to zero\n",
    "d) the histogram gradient boosting regressor tends to under-predict samples with high power\n",
    "e) the histogram gradient boosting regressor tends to over-predict samples with high power\n",
    "f) the histogram gradient boosting makes catastrophic predictions for samples with power close to zero\n",
    "\n"
   ]
  },
  {
   "cell_type": "code",
   "execution_count": 184,
   "id": "f2d625b8-8dde-4a87-813a-e02666c99c63",
   "metadata": {},
   "outputs": [],
   "source": [
    "import seaborn as sns\n",
    "import matplotlib.pyplot as plt\n",
    "\n",
    "model_ridge.fit(data2_train, target_train)\n",
    "model_histo.fit(data_train, target_train)\n",
    "predict_ridge = model_ridge.predict(data2_test)\n",
    "predict_histo = model_histo.predict(data_test)\n",
    "\n",
    "true_v_predict_ridge = pd.DataFrame({\"measured_power\": target_test, \"predicted_power\": predict_ridge})\n",
    "true_v_predict_histo = pd.DataFrame({\"measured_power\": target_test, \"predicted_power\": predict_histo})"
   ]
  },
  {
   "cell_type": "code",
   "execution_count": 186,
   "id": "87fb94e6-2f31-4460-8ff9-cb71d200dc88",
   "metadata": {},
   "outputs": [
    {
     "data": {
      "image/png": "[encoded data removed]",
      "text/plain": [
       "<Figure size 432x288 with 1 Axes>"
      ]
     },
     "metadata": {
      "needs_background": "light"
     },
     "output_type": "display_data"
    }
   ],
   "source": [
    "ax2 = sns.scatterplot(data=true_v_predict_ridge, x=\"measured_power\", y=\"predicted_power\",\n",
    "                     color=\"black\", alpha=0.5)\n",
    "\n",
    "xpoints = ypoints = plt.xlim()\n",
    "ax2.plot(xpoints, ypoints, color=\"blue\", lw=3, alpha=.5)\n",
    "_ = ax2.set_title(f\"Ridge: measured vs. predicted\")"
   ]
  },
  {
   "cell_type": "code",
   "execution_count": 188,
   "id": "6e3f3027-7adc-4ef8-849f-1f1760bffd0d",
   "metadata": {},
   "outputs": [
    {
     "data": {
      "image/png": "[encoded data removed]",
      "text/plain": [
       "<Figure size 432x288 with 1 Axes>"
      ]
     },
     "metadata": {
      "needs_background": "light"
     },
     "output_type": "display_data"
    }
   ],
   "source": [
    "\n",
    "ax = sns.scatterplot(data=true_v_predict_histo, x=\"measured_power\", y=\"predicted_power\",\n",
    "                     color=\"black\", alpha=0.5)\n",
    "# ax2.plot(data, pre)\n",
    "xpoints = ypoints = plt.xlim()\n",
    "ax.plot(xpoints, ypoints, color=\"blue\", lw=3, alpha=.5)\n",
    "_ = ax.set_title(f\"Histogram Gradient Boost: measured vs. predicted\")"
   ]
  },
  {
   "cell_type": "markdown",
   "id": "e8fff16c-5b85-49f5-aae3-47f03617d152",
   "metadata": {},
   "source": [
    " <h1>Question 11</h1> (1 point possible)\n",
    "\n",
    "Now select a portion of the testing data using the following code:"
   ]
  },
  {
   "cell_type": "code",
   "execution_count": 191,
   "id": "3f5e988f-afda-4d2e-8a2b-4dbfb16fa18b",
   "metadata": {},
   "outputs": [],
   "source": [
    "time_slice = slice(\"2020-08-18 17:00:00\", \"2020-08-18 17:05:00\")\n",
    "\n",
    "data2_test_subset = data2_test[time_slice]\n",
    "data_test_subset = data_test[time_slice]\n",
    "target_test_subset = target_test[time_slice]"
   ]
  },
  {
   "cell_type": "markdown",
   "id": "d7a488eb-d7b8-4d48-b82a-db270cefc40d",
   "metadata": {},
   "source": [
    "It allows to select data from 5.00 pm until 5.05 pm. Used the previous fitted models (linear and gradient-boosting regressor) to predict on this portion of the test data. Draw on the same plot the true targets and the predictions of each model.\n",
    "\n",
    "By using the previous plot, select the correct statements:\n",
    "a) the linear model is more accurate than the histogram gradient boosting regressor\n",
    "b) the histogram gradient boosting regressor is more accurate than the linear model "
   ]
  },
  {
   "cell_type": "code",
   "execution_count": 192,
   "id": "ca87d51c-76cc-4f3e-a7f6-f62e747c9d98",
   "metadata": {},
   "outputs": [],
   "source": [
    "predict_ridge_slice = model_ridge.predict(data2_test_subset)\n",
    "predict_histo_slice = model_histo.predict(data_test_subset)\n",
    "\n",
    "true_v_predict_ridge_slice = pd.DataFrame({\"measured_power\": target_test_subset, \"predicted_power\": predict_ridge_slice})\n",
    "true_v_predict_histo_slice = pd.DataFrame({\"measured_power\": target_test_subset, \"predicted_power\": predict_histo_slice})"
   ]
  },
  {
   "cell_type": "code",
   "execution_count": 193,
   "id": "d9016f11-79f3-4269-ae56-e7d40e23a057",
   "metadata": {},
   "outputs": [
    {
     "data": {
      "image/png": "[encoded data removed]",
      "text/plain": [
       "<Figure size 432x288 with 1 Axes>"
      ]
     },
     "metadata": {
      "needs_background": "light"
     },
     "output_type": "display_data"
    }
   ],
   "source": [
    "ax4 = sns.scatterplot(data=true_v_predict_ridge_slice, x=\"measured_power\", y=\"predicted_power\",\n",
    "                     color=\"black\", alpha=0.5)\n",
    "\n",
    "xpoints = ypoints = plt.xlim()\n",
    "ax4.plot(xpoints, ypoints, color=\"blue\", lw=3, alpha=.5)\n",
    "_ = ax4.set_title(f\"Ridge Slice: measured vs. predicted\")"
   ]
  },
  {
   "cell_type": "code",
   "execution_count": 194,
   "id": "fb2209eb-c41e-49b1-a373-30e0dec99c45",
   "metadata": {},
   "outputs": [
    {
     "data": {
      "image/png": "[encoded data removed]",
      "text/plain": [
       "<Figure size 432x288 with 1 Axes>"
      ]
     },
     "metadata": {
      "needs_background": "light"
     },
     "output_type": "display_data"
    }
   ],
   "source": [
    "ax3 = sns.scatterplot(data=true_v_predict_histo_slice, x=\"measured_power\", y=\"predicted_power\",\n",
    "                     color=\"black\", alpha=0.5)\n",
    "\n",
    "xpoints = ypoints = plt.xlim()\n",
    "ax3.plot(xpoints, ypoints, color=\"blue\", lw=3, alpha=.5)\n",
    "_ = ax3.set_title(f\"Histogram Gradient Boost Slice: measured vs. predicted\")"
   ]
  },
  {
   "cell_type": "code",
   "execution_count": 195,
   "id": "f40165d2-0450-48a5-a8f9-f73f41895d1c",
   "metadata": {},
   "outputs": [
    {
     "name": "stdout",
     "output_type": "stream",
     "text": [
      "0.381607142529375\n",
      "0.5847584491224558\n"
     ]
    }
   ],
   "source": [
    "score_ridge_slice = model_ridge.score(data2_test_subset, target_test_subset)\n",
    "score_histo_slice = model_histo.score(data_test_subset, target_test_subset)\n",
    "print(score_ridge_slice)\n",
    "print(score_histo_slice)"
   ]
  },
  {
   "cell_type": "code",
   "execution_count": null,
   "id": "704dbde1-341f-4d54-a98a-e898f5e8324f",
   "metadata": {},
   "outputs": [],
   "source": []
  }
 ],
 "metadata": {
  "kernelspec": {
   "display_name": "Inria",
   "language": "python",
   "name": "scikit-learn-mooc-btn2wexi"
  },
  "language_info": {
   "codemirror_mode": {
    "name": "ipython",
    "version": 3
   },
   "file_extension": ".py",
   "mimetype": "text/x-python",
   "name": "python",
   "nbconvert_exporter": "python",
   "pygments_lexer": "ipython3",
   "version": "3.9.10"
  }
 },
 "nbformat": 4,
 "nbformat_minor": 5
}
