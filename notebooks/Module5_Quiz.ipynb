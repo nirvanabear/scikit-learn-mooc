{
 "cells": [
  {
   "cell_type": "markdown",
   "id": "b83f3ca6-b017-49a8-bca6-4e2bf838bac7",
   "metadata": {},
   "source": [
    "Open the dataset ames_housing_no_missing.csv with the following command:"
   ]
  },
  {
   "cell_type": "code",
   "execution_count": 1,
   "id": "4c264db2-d454-49e8-98f8-6163c059c1b5",
   "metadata": {},
   "outputs": [],
   "source": [
    "import pandas as pd\n",
    "\n",
    "ames_housing = pd.read_csv(\"../datasets/ames_housing_no_missing.csv\")\n",
    "target_name = \"SalePrice\"\n",
    "data = ames_housing.drop(columns=target_name)\n",
    "target = ames_housing[target_name]"
   ]
  },
  {
   "cell_type": "markdown",
   "id": "8a236af5-d448-4d5f-88f5-280f61b92781",
   "metadata": {},
   "source": [
    "ames_housing is a pandas dataframe. The column \"SalePrice\" contains the target variable.\n",
    "\n",
    "To simplify this exercise, we will only used the numerical features defined below:"
   ]
  },
  {
   "cell_type": "code",
   "execution_count": 2,
   "id": "59d7ffb7-1723-4c93-b320-b0600d2667eb",
   "metadata": {},
   "outputs": [],
   "source": [
    "numerical_features = [\n",
    "    \"LotFrontage\", \"LotArea\", \"MasVnrArea\", \"BsmtFinSF1\", \"BsmtFinSF2\",\n",
    "    \"BsmtUnfSF\", \"TotalBsmtSF\", \"1stFlrSF\", \"2ndFlrSF\", \"LowQualFinSF\",\n",
    "    \"GrLivArea\", \"BedroomAbvGr\", \"KitchenAbvGr\", \"TotRmsAbvGrd\", \"Fireplaces\",\n",
    "    \"GarageCars\", \"GarageArea\", \"WoodDeckSF\", \"OpenPorchSF\", \"EnclosedPorch\",\n",
    "    \"3SsnPorch\", \"ScreenPorch\", \"PoolArea\", \"MiscVal\",\n",
    "]\n",
    "\n",
    "data_numerical = data[numerical_features]"
   ]
  },
  {
   "cell_type": "markdown",
   "id": "1902f44a-4e91-4aa1-aca1-69616524bba1",
   "metadata": {},
   "source": [
    "We will compare the generalization performance of a decision tree and a linear regression. For this purpose, we will create two separate predictive models and evaluate them by 10-fold cross-validation.\n",
    "\n",
    "Thus, use sklearn.linear_model.LinearRegression and sklearn.tree.DecisionTreeRegressor to create the models. Use the default parameters for both models.\n",
    "\n",
    "Be aware that a linear model requires to scale numerical features. Please use sklearn.preprocessing.StandardScaler so that your linear regression model behaves the same way as the quiz author intended ;)\n",
    "<h1>Question 1</h1> (1 point possible)\n",
    "\n",
    "By comparing the cross-validation test scores for both models fold-to-fold, count the number of times the linear model has a better test score than the decision tree model. Select the range which this number belongs to:\n",
    "a) [0, 3]: the linear model is substantially worse than the decision tree\n",
    "b) [4, 6]: both models are almost equivalent\n",
    "c) [7, 10]: the linear model is substantially better than the decision tree "
   ]
  },
  {
   "cell_type": "code",
   "execution_count": 38,
   "id": "0ef1f62b-71cf-4d5a-988c-56a021320952",
   "metadata": {},
   "outputs": [],
   "source": [
    "from sklearn.linear_model import LinearRegression\n",
    "from sklearn.preprocessing import StandardScaler\n",
    "from sklearn.pipeline import make_pipeline\n",
    "from sklearn.model_selection import cross_validate\n",
    "from sklearn.tree import DecisionTreeRegressor\n",
    "\n",
    "model_lin1 = make_pipeline(StandardScaler(), LinearRegression())\n",
    "cv_lin1 = cross_validate(model_lin1, data_numerical, target, cv=10, return_estimator=True)\n",
    "\n",
    "model_tree1 = DecisionTreeRegressor(random_state=2)\n",
    "cv_tree1 = cross_validate(model_tree1, data_numerical, target, cv=10, return_estimator=True)"
   ]
  },
  {
   "cell_type": "code",
   "execution_count": 4,
   "id": "123872ce-30fc-4e73-b2a0-26e1957da926",
   "metadata": {},
   "outputs": [
    {
     "data": {
      "text/plain": [
       "array([ True,  True,  True,  True,  True,  True,  True,  True, False,\n",
       "        True])"
      ]
     },
     "execution_count": 4,
     "metadata": {},
     "output_type": "execute_result"
    }
   ],
   "source": [
    "cv_lin1['test_score'] > cv_tree1['test_score']"
   ]
  },
  {
   "cell_type": "markdown",
   "id": "a5965185-e968-4338-81b6-af147461213b",
   "metadata": {},
   "source": [
    "<h1>Question 2</h1> (1 point possible)\n",
    "\n",
    "Instead of using the default parameters for the decision tree regressor, we will optimize the max_depth of the tree. Vary the max_depth from 1 level up to 15 levels. Use nested cross-validation to evaluate a grid-search (sklearn.model_selection.GridSearchCV). Set cv=10 for both the inner and outer cross-validations, then answer the questions below\n",
    "\n",
    "What is the optimal tree depth for the current problem?\n",
    "a) The optimal depth is ranging from 3 to 5\n",
    "b) The optimal depth is ranging from 5 to 8\n",
    "c) The optimal depth is ranging from 8 to 11\n",
    "d) The optimal depth is ranging from 11 to 15 "
   ]
  },
  {
   "cell_type": "raw",
   "id": "ab21764b-fa9f-4663-90e9-1f92461e7d41",
   "metadata": {},
   "source": [
    "print(model_lin1.get_params().keys())\n",
    "print(model_tree1.get_params().keys())"
   ]
  },
  {
   "cell_type": "code",
   "execution_count": 8,
   "id": "e1e2203e-08c0-411f-b94b-a5926267d0be",
   "metadata": {},
   "outputs": [
    {
     "data": {
      "text/plain": [
       "array([ 1,  2,  3,  4,  5,  6,  7,  8,  9, 10, 11, 12, 13, 14, 15])"
      ]
     },
     "execution_count": 8,
     "metadata": {},
     "output_type": "execute_result"
    }
   ],
   "source": [
    "import numpy as np\n",
    "np.arange(1, 16, 1)"
   ]
  },
  {
   "cell_type": "code",
   "execution_count": 39,
   "id": "a2114d7a-b3c7-4769-b85c-67bc34c9f048",
   "metadata": {},
   "outputs": [],
   "source": [
    "from sklearn.model_selection import GridSearchCV\n",
    "import numpy as np\n",
    "\n",
    "param_grid = {\"max_depth\": np.arange(1, 16, 1)}\n",
    "model_tree_GS1 = GridSearchCV(model_tree1, param_grid=param_grid, cv=10)\n",
    "cv_tree2 = cross_validate(model_tree_GS1, data_numerical, target, cv=10, return_estimator=True)"
   ]
  },
  {
   "cell_type": "code",
   "execution_count": 26,
   "id": "5b2b425a-c6fd-4a38-9256-a734c15acf46",
   "metadata": {},
   "outputs": [
    {
     "ename": "AttributeError",
     "evalue": "'GridSearchCV' object has no attribute 'best_params_'",
     "output_type": "error",
     "traceback": [
      "\u001b[0;31m---------------------------------------------------------------------------\u001b[0m",
      "\u001b[0;31mAttributeError\u001b[0m                            Traceback (most recent call last)",
      "Input \u001b[0;32mIn [26]\u001b[0m, in \u001b[0;36m<cell line: 1>\u001b[0;34m()\u001b[0m\n\u001b[0;32m----> 1\u001b[0m \u001b[43mmodel_tree_GS1\u001b[49m\u001b[38;5;241;43m.\u001b[39;49m\u001b[43mbest_params_\u001b[49m[\u001b[38;5;124m'\u001b[39m\u001b[38;5;124mmax_depth\u001b[39m\u001b[38;5;124m'\u001b[39m]\n",
      "\u001b[0;31mAttributeError\u001b[0m: 'GridSearchCV' object has no attribute 'best_params_'"
     ]
    }
   ],
   "source": [
    "model_tree_GS1.best_params_['max_depth']\n",
    "# attribute does not exist because the model hasn't been fit, just cv'ed"
   ]
  },
  {
   "cell_type": "code",
   "execution_count": 27,
   "id": "502ad2a2-2a52-443c-8cd1-1a2efbc53993",
   "metadata": {},
   "outputs": [
    {
     "data": {
      "text/plain": [
       "{'fit_time': array([1.4733088 , 1.40304089, 1.45135307, 1.38454986, 1.39814806,\n",
       "        1.38455296, 1.3834269 , 1.43239379, 1.49580407, 1.45897436]),\n",
       " 'score_time': array([0.00152302, 0.00158119, 0.00152898, 0.00146508, 0.00141168,\n",
       "        0.00139904, 0.001472  , 0.00132322, 0.001755  , 0.00135398]),\n",
       " 'estimator': [GridSearchCV(cv=10, estimator=DecisionTreeRegressor(),\n",
       "               param_grid={'max_depth': array([ 1,  2,  3,  4,  5,  6,  7,  8,  9, 10, 11, 12, 13, 14, 15])}),\n",
       "  GridSearchCV(cv=10, estimator=DecisionTreeRegressor(),\n",
       "               param_grid={'max_depth': array([ 1,  2,  3,  4,  5,  6,  7,  8,  9, 10, 11, 12, 13, 14, 15])}),\n",
       "  GridSearchCV(cv=10, estimator=DecisionTreeRegressor(),\n",
       "               param_grid={'max_depth': array([ 1,  2,  3,  4,  5,  6,  7,  8,  9, 10, 11, 12, 13, 14, 15])}),\n",
       "  GridSearchCV(cv=10, estimator=DecisionTreeRegressor(),\n",
       "               param_grid={'max_depth': array([ 1,  2,  3,  4,  5,  6,  7,  8,  9, 10, 11, 12, 13, 14, 15])}),\n",
       "  GridSearchCV(cv=10, estimator=DecisionTreeRegressor(),\n",
       "               param_grid={'max_depth': array([ 1,  2,  3,  4,  5,  6,  7,  8,  9, 10, 11, 12, 13, 14, 15])}),\n",
       "  GridSearchCV(cv=10, estimator=DecisionTreeRegressor(),\n",
       "               param_grid={'max_depth': array([ 1,  2,  3,  4,  5,  6,  7,  8,  9, 10, 11, 12, 13, 14, 15])}),\n",
       "  GridSearchCV(cv=10, estimator=DecisionTreeRegressor(),\n",
       "               param_grid={'max_depth': array([ 1,  2,  3,  4,  5,  6,  7,  8,  9, 10, 11, 12, 13, 14, 15])}),\n",
       "  GridSearchCV(cv=10, estimator=DecisionTreeRegressor(),\n",
       "               param_grid={'max_depth': array([ 1,  2,  3,  4,  5,  6,  7,  8,  9, 10, 11, 12, 13, 14, 15])}),\n",
       "  GridSearchCV(cv=10, estimator=DecisionTreeRegressor(),\n",
       "               param_grid={'max_depth': array([ 1,  2,  3,  4,  5,  6,  7,  8,  9, 10, 11, 12, 13, 14, 15])}),\n",
       "  GridSearchCV(cv=10, estimator=DecisionTreeRegressor(),\n",
       "               param_grid={'max_depth': array([ 1,  2,  3,  4,  5,  6,  7,  8,  9, 10, 11, 12, 13, 14, 15])})],\n",
       " 'test_score': array([0.59113507, 0.73749073, 0.74271795, 0.59819214, 0.75290865,\n",
       "        0.71933625, 0.66292062, 0.76053576, 0.74639639, 0.68114069])}"
      ]
     },
     "execution_count": 27,
     "metadata": {},
     "output_type": "execute_result"
    }
   ],
   "source": [
    "cv_tree2"
   ]
  },
  {
   "cell_type": "code",
   "execution_count": 30,
   "id": "b4f774a9-9ea9-435d-ad16-920232e7a533",
   "metadata": {},
   "outputs": [
    {
     "name": "stdout",
     "output_type": "stream",
     "text": [
      "8\n",
      "7\n",
      "9\n",
      "7\n",
      "8\n",
      "6\n",
      "7\n",
      "6\n",
      "5\n",
      "7\n"
     ]
    }
   ],
   "source": [
    "# random_state = default\n",
    "best_params = []\n",
    "for model in cv_tree2['estimator']:\n",
    "    print(model.best_params_['max_depth'])\n",
    "    best_params.append(model.best_params_['max_depth'])"
   ]
  },
  {
   "cell_type": "code",
   "execution_count": 35,
   "id": "db898950-2627-4be0-b443-d7c13cc77626",
   "metadata": {},
   "outputs": [
    {
     "name": "stdout",
     "output_type": "stream",
     "text": [
      "7\n",
      "7\n",
      "11\n",
      "7\n",
      "5\n",
      "6\n",
      "6\n",
      "6\n",
      "7\n",
      "8\n"
     ]
    }
   ],
   "source": [
    "# random_state = 1\n",
    "best_params = []\n",
    "for model in cv_tree2['estimator']:\n",
    "    print(model.best_params_['max_depth'])\n",
    "    best_params.append(model.best_params_['max_depth'])"
   ]
  },
  {
   "cell_type": "code",
   "execution_count": 40,
   "id": "fdc539e2-fd51-47ce-8e92-9f6e0d7140a8",
   "metadata": {},
   "outputs": [
    {
     "name": "stdout",
     "output_type": "stream",
     "text": [
      "5\n",
      "7\n",
      "14\n",
      "5\n",
      "6\n",
      "7\n",
      "6\n",
      "5\n",
      "5\n",
      "6\n"
     ]
    }
   ],
   "source": [
    "# random_state = 2\n",
    "best_params = []\n",
    "for model in cv_tree2['estimator']:\n",
    "    print(model.best_params_['max_depth'])\n",
    "    best_params.append(model.best_params_['max_depth'])"
   ]
  },
  {
   "cell_type": "code",
   "execution_count": 29,
   "id": "cd98ce19-cd7c-4d86-90e0-c58260d151f3",
   "metadata": {},
   "outputs": [
    {
     "data": {
      "text/plain": [
       "array([0.59113507, 0.73749073, 0.74271795, 0.59819214, 0.75290865,\n",
       "       0.71933625, 0.66292062, 0.76053576, 0.74639639, 0.68114069])"
      ]
     },
     "execution_count": 29,
     "metadata": {},
     "output_type": "execute_result"
    }
   ],
   "source": [
    "cv_tree2['test_score']"
   ]
  },
  {
   "cell_type": "code",
   "execution_count": 31,
   "id": "3d7d2832-e045-4d70-80b3-9685ee31e253",
   "metadata": {},
   "outputs": [
    {
     "data": {
      "text/html": [
       "<div>\n",
       "<style scoped>\n",
       "    .dataframe tbody tr th:only-of-type {\n",
       "        vertical-align: middle;\n",
       "    }\n",
       "\n",
       "    .dataframe tbody tr th {\n",
       "        vertical-align: top;\n",
       "    }\n",
       "\n",
       "    .dataframe thead th {\n",
       "        text-align: right;\n",
       "    }\n",
       "</style>\n",
       "<table border=\"1\" class=\"dataframe\">\n",
       "  <thead>\n",
       "    <tr style=\"text-align: right;\">\n",
       "      <th></th>\n",
       "      <th>Best params</th>\n",
       "      <th>Test scores</th>\n",
       "    </tr>\n",
       "  </thead>\n",
       "  <tbody>\n",
       "    <tr>\n",
       "      <th>0</th>\n",
       "      <td>8</td>\n",
       "      <td>0.591135</td>\n",
       "    </tr>\n",
       "    <tr>\n",
       "      <th>1</th>\n",
       "      <td>7</td>\n",
       "      <td>0.737491</td>\n",
       "    </tr>\n",
       "    <tr>\n",
       "      <th>2</th>\n",
       "      <td>9</td>\n",
       "      <td>0.742718</td>\n",
       "    </tr>\n",
       "    <tr>\n",
       "      <th>3</th>\n",
       "      <td>7</td>\n",
       "      <td>0.598192</td>\n",
       "    </tr>\n",
       "    <tr>\n",
       "      <th>4</th>\n",
       "      <td>8</td>\n",
       "      <td>0.752909</td>\n",
       "    </tr>\n",
       "    <tr>\n",
       "      <th>5</th>\n",
       "      <td>6</td>\n",
       "      <td>0.719336</td>\n",
       "    </tr>\n",
       "    <tr>\n",
       "      <th>6</th>\n",
       "      <td>7</td>\n",
       "      <td>0.662921</td>\n",
       "    </tr>\n",
       "    <tr>\n",
       "      <th>7</th>\n",
       "      <td>6</td>\n",
       "      <td>0.760536</td>\n",
       "    </tr>\n",
       "    <tr>\n",
       "      <th>8</th>\n",
       "      <td>5</td>\n",
       "      <td>0.746396</td>\n",
       "    </tr>\n",
       "    <tr>\n",
       "      <th>9</th>\n",
       "      <td>7</td>\n",
       "      <td>0.681141</td>\n",
       "    </tr>\n",
       "  </tbody>\n",
       "</table>\n",
       "</div>"
      ],
      "text/plain": [
       "   Best params  Test scores\n",
       "0            8     0.591135\n",
       "1            7     0.737491\n",
       "2            9     0.742718\n",
       "3            7     0.598192\n",
       "4            8     0.752909\n",
       "5            6     0.719336\n",
       "6            7     0.662921\n",
       "7            6     0.760536\n",
       "8            5     0.746396\n",
       "9            7     0.681141"
      ]
     },
     "execution_count": 31,
     "metadata": {},
     "output_type": "execute_result"
    }
   ],
   "source": [
    "# random_state = default\n",
    "pd.DataFrame({'Best params': best_params, 'Test scores': cv_tree2['test_score']})"
   ]
  },
  {
   "cell_type": "code",
   "execution_count": 36,
   "id": "149b881d-981e-44b8-8923-762b0dde4eb2",
   "metadata": {},
   "outputs": [
    {
     "data": {
      "text/html": [
       "<div>\n",
       "<style scoped>\n",
       "    .dataframe tbody tr th:only-of-type {\n",
       "        vertical-align: middle;\n",
       "    }\n",
       "\n",
       "    .dataframe tbody tr th {\n",
       "        vertical-align: top;\n",
       "    }\n",
       "\n",
       "    .dataframe thead th {\n",
       "        text-align: right;\n",
       "    }\n",
       "</style>\n",
       "<table border=\"1\" class=\"dataframe\">\n",
       "  <thead>\n",
       "    <tr style=\"text-align: right;\">\n",
       "      <th></th>\n",
       "      <th>Best params</th>\n",
       "      <th>Test scores</th>\n",
       "    </tr>\n",
       "  </thead>\n",
       "  <tbody>\n",
       "    <tr>\n",
       "      <th>0</th>\n",
       "      <td>7</td>\n",
       "      <td>0.612550</td>\n",
       "    </tr>\n",
       "    <tr>\n",
       "      <th>1</th>\n",
       "      <td>7</td>\n",
       "      <td>0.705582</td>\n",
       "    </tr>\n",
       "    <tr>\n",
       "      <th>2</th>\n",
       "      <td>11</td>\n",
       "      <td>0.721236</td>\n",
       "    </tr>\n",
       "    <tr>\n",
       "      <th>3</th>\n",
       "      <td>7</td>\n",
       "      <td>0.598192</td>\n",
       "    </tr>\n",
       "    <tr>\n",
       "      <th>4</th>\n",
       "      <td>5</td>\n",
       "      <td>0.738052</td>\n",
       "    </tr>\n",
       "    <tr>\n",
       "      <th>5</th>\n",
       "      <td>6</td>\n",
       "      <td>0.724811</td>\n",
       "    </tr>\n",
       "    <tr>\n",
       "      <th>6</th>\n",
       "      <td>6</td>\n",
       "      <td>0.679088</td>\n",
       "    </tr>\n",
       "    <tr>\n",
       "      <th>7</th>\n",
       "      <td>6</td>\n",
       "      <td>0.760536</td>\n",
       "    </tr>\n",
       "    <tr>\n",
       "      <th>8</th>\n",
       "      <td>7</td>\n",
       "      <td>0.529360</td>\n",
       "    </tr>\n",
       "    <tr>\n",
       "      <th>9</th>\n",
       "      <td>8</td>\n",
       "      <td>0.721070</td>\n",
       "    </tr>\n",
       "  </tbody>\n",
       "</table>\n",
       "</div>"
      ],
      "text/plain": [
       "   Best params  Test scores\n",
       "0            7     0.612550\n",
       "1            7     0.705582\n",
       "2           11     0.721236\n",
       "3            7     0.598192\n",
       "4            5     0.738052\n",
       "5            6     0.724811\n",
       "6            6     0.679088\n",
       "7            6     0.760536\n",
       "8            7     0.529360\n",
       "9            8     0.721070"
      ]
     },
     "execution_count": 36,
     "metadata": {},
     "output_type": "execute_result"
    }
   ],
   "source": [
    "# random_state = 1\n",
    "pd.DataFrame({'Best params': best_params, 'Test scores': cv_tree2['test_score']})"
   ]
  },
  {
   "cell_type": "code",
   "execution_count": 41,
   "id": "c3b54112-df1e-4471-8a7e-c58f6c445cf3",
   "metadata": {},
   "outputs": [
    {
     "data": {
      "text/html": [
       "<div>\n",
       "<style scoped>\n",
       "    .dataframe tbody tr th:only-of-type {\n",
       "        vertical-align: middle;\n",
       "    }\n",
       "\n",
       "    .dataframe tbody tr th {\n",
       "        vertical-align: top;\n",
       "    }\n",
       "\n",
       "    .dataframe thead th {\n",
       "        text-align: right;\n",
       "    }\n",
       "</style>\n",
       "<table border=\"1\" class=\"dataframe\">\n",
       "  <thead>\n",
       "    <tr style=\"text-align: right;\">\n",
       "      <th></th>\n",
       "      <th>Best params</th>\n",
       "      <th>Test scores</th>\n",
       "    </tr>\n",
       "  </thead>\n",
       "  <tbody>\n",
       "    <tr>\n",
       "      <th>0</th>\n",
       "      <td>5</td>\n",
       "      <td>0.578937</td>\n",
       "    </tr>\n",
       "    <tr>\n",
       "      <th>1</th>\n",
       "      <td>7</td>\n",
       "      <td>0.717700</td>\n",
       "    </tr>\n",
       "    <tr>\n",
       "      <th>2</th>\n",
       "      <td>14</td>\n",
       "      <td>0.753309</td>\n",
       "    </tr>\n",
       "    <tr>\n",
       "      <th>3</th>\n",
       "      <td>5</td>\n",
       "      <td>0.474516</td>\n",
       "    </tr>\n",
       "    <tr>\n",
       "      <th>4</th>\n",
       "      <td>6</td>\n",
       "      <td>0.762698</td>\n",
       "    </tr>\n",
       "    <tr>\n",
       "      <th>5</th>\n",
       "      <td>7</td>\n",
       "      <td>0.746467</td>\n",
       "    </tr>\n",
       "    <tr>\n",
       "      <th>6</th>\n",
       "      <td>6</td>\n",
       "      <td>0.655302</td>\n",
       "    </tr>\n",
       "    <tr>\n",
       "      <th>7</th>\n",
       "      <td>5</td>\n",
       "      <td>0.756933</td>\n",
       "    </tr>\n",
       "    <tr>\n",
       "      <th>8</th>\n",
       "      <td>5</td>\n",
       "      <td>0.746396</td>\n",
       "    </tr>\n",
       "    <tr>\n",
       "      <th>9</th>\n",
       "      <td>6</td>\n",
       "      <td>0.717594</td>\n",
       "    </tr>\n",
       "  </tbody>\n",
       "</table>\n",
       "</div>"
      ],
      "text/plain": [
       "   Best params  Test scores\n",
       "0            5     0.578937\n",
       "1            7     0.717700\n",
       "2           14     0.753309\n",
       "3            5     0.474516\n",
       "4            6     0.762698\n",
       "5            7     0.746467\n",
       "6            6     0.655302\n",
       "7            5     0.756933\n",
       "8            5     0.746396\n",
       "9            6     0.717594"
      ]
     },
     "execution_count": 41,
     "metadata": {},
     "output_type": "execute_result"
    }
   ],
   "source": [
    "# random_state = 2\n",
    "pd.DataFrame({'Best params': best_params, 'Test scores': cv_tree2['test_score']})"
   ]
  },
  {
   "cell_type": "markdown",
   "id": "34e871a0-1d86-43ee-9f8d-c7568ad345d6",
   "metadata": {
    "tags": []
   },
   "source": [
    "<h1>Question 3</h1> (1 point possible)\n",
    "\n",
    "Now, we want to evaluate the generalization performance of the decision tree while taking into account the fact that we tune the depth for this specific dataset. Use the grid-search as an estimator inside a cross_validate to automatically tune the max_depth parameter on each cross-validation fold.\n",
    "\n",
    "A tree with tuned depth\n",
    "a) is always worse than the linear models on all CV folds\n",
    "b) is often but not always worse than the linear model\n",
    "c) is often but not always better than the linear model\n",
    "d) is always better than the linear models on all CV folds\n",
    "\n",
    "\n",
    "Note: Try to set the random_state of the decision tree to different values e.g. random_state=1 or random_state=2 and re-run the nested cross-validation to check that your answer is stable enough."
   ]
  },
  {
   "cell_type": "code",
   "execution_count": 32,
   "id": "620248e9-078c-411e-901f-a090e2c1b802",
   "metadata": {},
   "outputs": [
    {
     "data": {
      "text/plain": [
       "array([ True,  True,  True,  True,  True,  True,  True, False, False,\n",
       "        True])"
      ]
     },
     "execution_count": 32,
     "metadata": {},
     "output_type": "execute_result"
    }
   ],
   "source": [
    "# random_state = default\n",
    "cv_lin1['test_score'] > cv_tree2['test_score']"
   ]
  },
  {
   "cell_type": "code",
   "execution_count": 37,
   "id": "cda3fc8e-5b2c-4a8e-bb6e-452978ac2f1d",
   "metadata": {},
   "outputs": [
    {
     "data": {
      "text/plain": [
       "array([ True,  True,  True,  True,  True,  True,  True, False, False,\n",
       "        True])"
      ]
     },
     "execution_count": 37,
     "metadata": {},
     "output_type": "execute_result"
    }
   ],
   "source": [
    "# random_state = 1\n",
    "cv_lin1['test_score'] > cv_tree2['test_score']"
   ]
  },
  {
   "cell_type": "code",
   "execution_count": 42,
   "id": "5c6c9777-bbd2-4652-b268-5d6e50276ca0",
   "metadata": {},
   "outputs": [
    {
     "data": {
      "text/plain": [
       "array([ True,  True,  True,  True,  True,  True,  True, False, False,\n",
       "        True])"
      ]
     },
     "execution_count": 42,
     "metadata": {},
     "output_type": "execute_result"
    }
   ],
   "source": [
    "# random_state = 2\n",
    "cv_lin1['test_score'] > cv_tree2['test_score']"
   ]
  },
  {
   "cell_type": "markdown",
   "id": "a9603dbf-46e0-45d3-b7dd-8898ab4a1c25",
   "metadata": {},
   "source": [
    "\n",
    "<h1>Question 4</h1> (1 point possible)\n",
    "\n",
    "Instead of using only the numerical features you will now use the entire dataset available in the variable data.\n",
    "\n",
    "Create a preprocessor by dealing separately with the numerical and categorical columns. For the sake of simplicity, we will assume the following:\n",
    "\n",
    "    categorical columns can be selected if they have an object data type;\n",
    "    use an OrdinalEncoder to encode the categorical columns;\n",
    "    numerical columns can be selected if they do not have an object data type. It will be the complement of the numerical columns.\n",
    "\n",
    "In addition, set the max_depth of the decision tree to 7 (fixed, no need to tune it with a grid-search).\n",
    "\n",
    "Evaluate this model using cross_validate as in the previous questions.\n",
    "\n",
    "A tree model trained with both numerical and categorical features\n",
    "a) is most often worse than the tree model using only the numerical features\n",
    "b) is most often better than the tree model using only the numerical features\n",
    "\n",
    "Note: Try to set the random_state of the decision tree to different values e.g. random_state=1 or random_state=2 and re-run the (this time single) cross-validation to check that your answer is stable enough."
   ]
  },
  {
   "cell_type": "code",
   "execution_count": 58,
   "id": "2ceff8f7-0a66-47e8-a4b8-a29156f78339",
   "metadata": {},
   "outputs": [],
   "source": [
    "from sklearn.preprocessing import OneHotEncoder\n",
    "from sklearn.preprocessing import OrdinalEncoder\n",
    "from sklearn.compose import ColumnTransformer, make_column_selector\n",
    "\n",
    "categorical_columns = make_column_selector(dtype_include=object)(data)\n",
    "numerical_columns = make_column_selector(dtype_exclude=object)(data)\n",
    "# categorical_processor = OneHotEncoder(handle_unknown='ignore')\n",
    "categorical_processor = OrdinalEncoder(handle_unknown=\"use_encoded_value\", unknown_value=-1)\n",
    "# numerical_preprocessor = StandardScaler() # Not needed for trees\n",
    "\n",
    "preprocessor = ColumnTransformer([(\"Ordinal\", categorical_processor, categorical_columns)], remainder=\"passthrough\")\n",
    "model_tree3 = make_pipeline(preprocessor, DecisionTreeRegressor(max_depth=7, random_state=2))\n",
    "cv_tree3 = cross_validate(model_tree3, data, target, cv=10, return_estimator=True)"
   ]
  },
  {
   "cell_type": "code",
   "execution_count": 55,
   "id": "b11fc898-9772-41da-a61a-982b0941ee86",
   "metadata": {},
   "outputs": [
    {
     "data": {
      "text/plain": [
       "array([ True,  True,  True,  True,  True,  True, False, False, False,\n",
       "        True])"
      ]
     },
     "execution_count": 55,
     "metadata": {},
     "output_type": "execute_result"
    }
   ],
   "source": [
    "# random_state = default\n",
    "cv_tree2['test_score'] < cv_tree3['test_score']"
   ]
  },
  {
   "cell_type": "code",
   "execution_count": 57,
   "id": "91bcbda8-272e-4894-a76a-abb7740e0a3f",
   "metadata": {},
   "outputs": [
    {
     "data": {
      "text/plain": [
       "array([ True,  True,  True,  True,  True,  True,  True, False, False,\n",
       "        True])"
      ]
     },
     "execution_count": 57,
     "metadata": {},
     "output_type": "execute_result"
    }
   ],
   "source": [
    "# random_state = 1\n",
    "cv_tree2['test_score'] < cv_tree3['test_score']"
   ]
  },
  {
   "cell_type": "code",
   "execution_count": 59,
   "id": "726dfbd3-8267-4b26-8efd-a7e29a7366ad",
   "metadata": {},
   "outputs": [
    {
     "data": {
      "text/plain": [
       "array([ True,  True,  True,  True,  True,  True,  True, False, False,\n",
       "        True])"
      ]
     },
     "execution_count": 59,
     "metadata": {},
     "output_type": "execute_result"
    }
   ],
   "source": [
    "# random_state = 2\n",
    "cv_tree2['test_score'] < cv_tree3['test_score']"
   ]
  },
  {
   "cell_type": "code",
   "execution_count": null,
   "id": "1003c345-4bd5-45ea-8b38-9080d56607cb",
   "metadata": {},
   "outputs": [],
   "source": []
  }
 ],
 "metadata": {
  "kernelspec": {
   "display_name": "Inria",
   "language": "python",
   "name": "scikit-learn-mooc-btn2wexi"
  },
  "language_info": {
   "codemirror_mode": {
    "name": "ipython",
    "version": 3
   },
   "file_extension": ".py",
   "mimetype": "text/x-python",
   "name": "python",
   "nbconvert_exporter": "python",
   "pygments_lexer": "ipython3",
   "version": "3.9.10"
  }
 },
 "nbformat": 4,
 "nbformat_minor": 5
}
