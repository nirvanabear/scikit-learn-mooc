{
 "cells": [
  {
   "cell_type": "markdown",
   "id": "4261abca",
   "metadata": {},
   "source": [
    "# 📝 Exercise M4.02\n",
    "\n",
    "The goal of this exercise is to build an intuition on what will be the\n",
    "parameters' values of a linear model when the link between the data and the\n",
    "target is non-linear.\n",
    "\n",
    "First, we will generate such non-linear data.\n",
    "\n",
    "<div class=\"admonition tip alert alert-warning\">\n",
    "<p class=\"first admonition-title\" style=\"font-weight: bold;\">Tip</p>\n",
    "<p class=\"last\"><tt class=\"docutils literal\">np.random.RandomState</tt> allows to create a random number generator which can\n",
    "be later used to get deterministic results.</p>\n",
    "</div>"
   ]
  },
  {
   "cell_type": "code",
   "execution_count": 2,
   "id": "4d89e5d8",
   "metadata": {},
   "outputs": [],
   "source": [
    "import numpy as np\n",
    "# Set the seed for reproduction\n",
    "rng = np.random.RandomState(0)\n",
    "\n",
    "# Generate data\n",
    "n_sample = 100\n",
    "data_max, data_min = 1.4, -1.4\n",
    "len_data = (data_max - data_min)\n",
    "data = rng.rand(n_sample) * len_data - len_data / 2\n",
    "noise = rng.randn(n_sample) * .3\n",
    "target = data ** 3 - 0.5 * data ** 2 + noise"
   ]
  },
  {
   "cell_type": "markdown",
   "id": "90865bd6",
   "metadata": {},
   "source": [
    "<div class=\"admonition note alert alert-info\">\n",
    "<p class=\"first admonition-title\" style=\"font-weight: bold;\">Note</p>\n",
    "<p class=\"last\">To ease the plotting, we will create a Pandas dataframe containing the data\n",
    "and target</p>\n",
    "</div>"
   ]
  },
  {
   "cell_type": "code",
   "execution_count": 3,
   "id": "7eef0b69",
   "metadata": {},
   "outputs": [],
   "source": [
    "import pandas as pd\n",
    "full_data = pd.DataFrame({\"data\": data, \"target\": target})"
   ]
  },
  {
   "cell_type": "code",
   "execution_count": 4,
   "id": "9f09df7d",
   "metadata": {
    "lines_to_next_cell": 1
   },
   "outputs": [
    {
     "data": {
      "image/png": "[encoded data removed]",
      "text/plain": [
       "<Figure size 432x288 with 1 Axes>"
      ]
     },
     "metadata": {
      "needs_background": "light"
     },
     "output_type": "display_data"
    }
   ],
   "source": [
    "import seaborn as sns\n",
    "\n",
    "_ = sns.scatterplot(data=full_data, x=\"data\", y=\"target\", color=\"black\",\n",
    "                    alpha=0.5)"
   ]
  },
  {
   "cell_type": "markdown",
   "id": "d9360bb5",
   "metadata": {},
   "source": [
    "We observe that the link between the data `data` and vector `target` is\n",
    "non-linear. For instance, `data` could represent the years of\n",
    "experience (normalized) and `target` the salary (normalized). Therefore, the\n",
    "problem here would be to infer the salary given the years of experience.\n",
    "\n",
    "Using the function `f` defined below, find both the `weight` and the\n",
    "`intercept` that you think will lead to a good linear model. Plot both the\n",
    "data and the predictions of this model."
   ]
  },
  {
   "cell_type": "code",
   "execution_count": 5,
   "id": "54f58ece",
   "metadata": {
    "lines_to_next_cell": 1
   },
   "outputs": [],
   "source": [
    "def f(data, weight=0, intercept=0):\n",
    "    target_predict = weight * data + intercept\n",
    "    return target_predict"
   ]
  },
  {
   "cell_type": "code",
   "execution_count": 37,
   "id": "01312b89",
   "metadata": {},
   "outputs": [],
   "source": [
    "output = f(data, 1, 0)"
   ]
  },
  {
   "cell_type": "code",
   "execution_count": 34,
   "id": "cfdbad8e-ab93-4af4-97bf-6d2048947913",
   "metadata": {
    "tags": []
   },
   "outputs": [
    {
     "data": {
      "text/plain": [
       "array([-0.35633211,  0.30747079,  0.12212491, -0.46678511,  0.41385928,\n",
       "        0.55349827,  0.3330271 ,  0.66436826,  1.02420865,  0.22831679,\n",
       "        0.09043958,  0.36399024,  0.05124864,  1.27521844, -2.34716172,\n",
       "       -2.00119654, -3.32359961,  0.90989555,  0.20721453,  0.69595775,\n",
       "        2.07378085, -0.16742069, -0.38821689,  0.46695593, -2.14417183,\n",
       "        0.56647542, -1.61853563,  0.93078066,  0.57524034,  0.40196394,\n",
       "        0.05645661,  0.42974038, -0.26775591,  0.56169672, -3.43425352,\n",
       "        0.22222616,  0.26583915, -0.06500424,  1.33048172,  0.27901972,\n",
       "       -0.02531913, -0.35084362,  0.10581336, -2.22730458, -0.21557725,\n",
       "       -0.04996135, -0.99262016, -1.10663093, -0.06988161, -0.00614683,\n",
       "       -0.24269775,  0.14191627,  1.41974807, -1.99474656, -1.06461711,\n",
       "       -1.09960854,  0.15987387, -0.63070992,  0.1135136 , -0.95042577,\n",
       "       -1.77394984, -1.76168464,  0.03806967, -1.36244327, -0.25913276,\n",
       "        0.16612882,  0.0482916 , -1.73691207,  0.00478774, -2.22441167,\n",
       "        1.46402366,  0.50947415,  1.26445483, -0.2657223 ,  0.04673531,\n",
       "       -3.17950531, -0.07183823, -2.0921239 , -0.6931323 , -1.91788033,\n",
       "       -0.41165564,  0.53620935, -2.27742261,  0.03756974, -0.37853358,\n",
       "       -0.24593222, -0.30190743, -2.57952652,  0.34341495,  1.10942714,\n",
       "        0.01612025,  0.08875166, -1.37020057, -0.15652125, -0.68915125,\n",
       "       -0.88697869, -0.25614806, -3.53571239,  0.2205018 , -3.6238538 ])"
      ]
     },
     "execution_count": 34,
     "metadata": {},
     "output_type": "execute_result"
    }
   ],
   "source": [
    "target"
   ]
  },
  {
   "cell_type": "markdown",
   "id": "7b62fef8",
   "metadata": {},
   "source": [
    "Compute the mean squared error for this model"
   ]
  },
  {
   "cell_type": "code",
   "execution_count": 35,
   "id": "2131651f",
   "metadata": {},
   "outputs": [
    {
     "data": {
      "text/plain": [
       "0.8917627708566316"
      ]
     },
     "execution_count": 35,
     "metadata": {},
     "output_type": "execute_result"
    }
   ],
   "source": [
    "from math import sqrt\n",
    "\n",
    "squared_error = (output - target) ** 2\n",
    "sum_squared_error = sum(squared_error)\n",
    "mse = sqrt(sum_squared_error/(len(target)))\n",
    "mse"
   ]
  },
  {
   "cell_type": "markdown",
   "id": "06388d13",
   "metadata": {},
   "source": [
    "Train a linear regression model on this dataset.\n",
    "\n",
    "<div class=\"admonition warning alert alert-danger\">\n",
    "<p class=\"first admonition-title\" style=\"font-weight: bold;\">Warning</p>\n",
    "<p class=\"last\">In scikit-learn, by convention <tt class=\"docutils literal\">data</tt> (also called <tt class=\"docutils literal\">X</tt> in the scikit-learn\n",
    "documentation) should be a 2D matrix of shape <tt class=\"docutils literal\">(n_samples, n_features)</tt>.\n",
    "If <tt class=\"docutils literal\">data</tt> is a 1D vector, you need to reshape it into a matrix with a\n",
    "single column if the vector represents a feature or a single row if the\n",
    "vector represents a sample.</p>\n",
    "</div>"
   ]
  },
  {
   "cell_type": "code",
   "execution_count": 17,
   "id": "adda1fc4-cfa6-428e-9cb4-93bc13c0bb7b",
   "metadata": {},
   "outputs": [
    {
     "data": {
      "text/plain": [
       "array([ 0.13667781,  0.60253023,  0.28773745,  0.12567291, -0.21376656,\n",
       "        0.40850352, -0.17475581,  1.0969644 ,  1.29825573, -0.32636375,\n",
       "        0.81683011,  0.08090578,  0.19052477,  1.19167059, -1.20109904,\n",
       "       -1.15603796, -1.34338849,  0.93133557,  0.7788389 ,  1.03603402,\n",
       "        1.34013136,  0.83764398, -0.10785779,  0.78548169, -1.06883161,\n",
       "        0.39177886, -0.9986108 ,  1.24507297,  0.0611753 , -0.23894657,\n",
       "       -0.65924429,  0.76785433, -0.12277907,  0.19161506, -1.34738856,\n",
       "        0.32937939,  0.31386802,  0.32741519,  1.24249462,  0.50909684,\n",
       "       -0.39337788, -0.17631053,  0.55336735, -1.23136868,  0.4669468 ,\n",
       "        0.47778603, -0.81092883, -1.03900637, -0.51680062, -0.38160984,\n",
       "        0.19655096, -0.17191576,  1.36744675, -1.11427453, -0.81514508,\n",
       "       -0.94833335,  0.42870331, -0.69078351, -0.09432984, -0.71560834,\n",
       "       -0.95488517, -1.0909496 ,  0.43772285, -1.01308774, -0.84956939,\n",
       "       -0.36756952,  0.89878104, -1.12811643,  0.94624574, -1.13092446,\n",
       "        1.3340865 , -0.08777664,  1.33493105,  0.29356746,  0.66993802,\n",
       "       -1.29027418, -0.6081405 , -1.06344963, -0.57080745, -1.06756239,\n",
       "       -0.5096471 , -0.24006362, -1.22038701,  0.53892193,  0.18648407,\n",
       "       -0.65690943,  0.06509455, -1.13696657,  0.21265019,  1.20202935,\n",
       "       -0.50800693,  0.46874906, -1.03096599,  0.60571617, -0.58966294,\n",
       "       -0.88706419,  0.24223622, -1.34369887,  0.92103208, -1.38685267])"
      ]
     },
     "execution_count": 17,
     "metadata": {},
     "output_type": "execute_result"
    }
   ],
   "source": [
    "np.ravel(data)"
   ]
  },
  {
   "cell_type": "code",
   "execution_count": 23,
   "id": "affd3140-ccd5-4952-aee0-553ac5bfb8ef",
   "metadata": {},
   "outputs": [
    {
     "data": {
      "text/plain": [
       "0    -0.356332\n",
       "1     0.307471\n",
       "2     0.122125\n",
       "3    -0.466785\n",
       "4     0.413859\n",
       "        ...   \n",
       "95   -0.886979\n",
       "96   -0.256148\n",
       "97   -3.535712\n",
       "98    0.220502\n",
       "99   -3.623854\n",
       "Length: 100, dtype: float64"
      ]
     },
     "execution_count": 23,
     "metadata": {},
     "output_type": "execute_result"
    }
   ],
   "source": [
    "pd.Series(target)"
   ]
  },
  {
   "cell_type": "code",
   "execution_count": 24,
   "id": "df59d56a",
   "metadata": {},
   "outputs": [
    {
     "data": {
      "text/plain": [
       "LinearRegression()"
      ]
     },
     "execution_count": 24,
     "metadata": {},
     "output_type": "execute_result"
    }
   ],
   "source": [
    "from sklearn.linear_model import LinearRegression\n",
    "\n",
    "model = LinearRegression()\n",
    "model.fit(pd.DataFrame(data), pd.Series(target))"
   ]
  },
  {
   "cell_type": "markdown",
   "id": "7c50b6d5",
   "metadata": {},
   "source": [
    "Compute predictions from the linear regression model and plot both the data\n",
    "and the predictions."
   ]
  },
  {
   "cell_type": "code",
   "execution_count": 26,
   "id": "6f243431",
   "metadata": {},
   "outputs": [],
   "source": [
    "predictions = model.predict(pd.DataFrame(data))"
   ]
  },
  {
   "cell_type": "markdown",
   "id": "fa7d90bb",
   "metadata": {},
   "source": [
    "Compute the mean squared error"
   ]
  },
  {
   "cell_type": "code",
   "execution_count": 39,
   "id": "821f61c3-e94a-4126-8786-c9ed0c5ac5af",
   "metadata": {},
   "outputs": [
    {
     "data": {
      "text/plain": [
       "0.5055662351753992"
      ]
     },
     "execution_count": 39,
     "metadata": {},
     "output_type": "execute_result"
    }
   ],
   "source": [
    "error1 = mean_squared_error(target, output)\n",
    "error1"
   ]
  },
  {
   "cell_type": "code",
   "execution_count": 29,
   "id": "f7bd08aa",
   "metadata": {},
   "outputs": [],
   "source": [
    "from sklearn.metrics import mean_squared_error\n",
    "\n",
    "error = mean_squared_error(pd.DataFrame(target), predictions)"
   ]
  },
  {
   "cell_type": "code",
   "execution_count": 30,
   "id": "b6189768-4b4a-406e-a804-3231695394af",
   "metadata": {},
   "outputs": [
    {
     "data": {
      "text/plain": [
       "0.37117544002508424"
      ]
     },
     "execution_count": 30,
     "metadata": {},
     "output_type": "execute_result"
    }
   ],
   "source": [
    "error"
   ]
  },
  {
   "cell_type": "code",
   "execution_count": 38,
   "id": "bd6a6417-b73d-443d-b826-1be46ebdaea1",
   "metadata": {},
   "outputs": [
    {
     "data": {
      "text/plain": [
       "[<matplotlib.lines.Line2D at 0x7fa8c264f070>]"
      ]
     },
     "execution_count": 38,
     "metadata": {},
     "output_type": "execute_result"
    },
    {
     "data": {
      "image/png": "[encoded data removed]",
      "text/plain": [
       "<Figure size 432x288 with 1 Axes>"
      ]
     },
     "metadata": {
      "needs_background": "light"
     },
     "output_type": "display_data"
    }
   ],
   "source": [
    "import matplotlib.pyplot as plt\n",
    "import seaborn as sns\n",
    "\n",
    "_ = sns.scatterplot(data=full_data, x=\"data\", y=\"target\", color=\"black\",\n",
    "                    alpha=0.5)\n",
    "plt.plot(data, predictions)\n",
    "plt.plot(data, output)"
   ]
  },
  {
   "cell_type": "code",
   "execution_count": null,
   "id": "cce26f3d-6f91-4565-ba89-5e24b496591e",
   "metadata": {},
   "outputs": [],
   "source": []
  },
  {
   "cell_type": "code",
   "execution_count": null,
   "id": "bc47abd0-64b2-44be-bc89-f457d7658e74",
   "metadata": {},
   "outputs": [],
   "source": []
  }
 ],
 "metadata": {
  "jupytext": {
   "main_language": "python"
  },
  "kernelspec": {
   "display_name": "Inria",
   "language": "python",
   "name": "scikit-learn-mooc-btn2wexi"
  },
  "language_info": {
   "codemirror_mode": {
    "name": "ipython",
    "version": 3
   },
   "file_extension": ".py",
   "mimetype": "text/x-python",
   "name": "python",
   "nbconvert_exporter": "python",
   "pygments_lexer": "ipython3",
   "version": "3.9.10"
  }
 },
 "nbformat": 4,
 "nbformat_minor": 5
}
